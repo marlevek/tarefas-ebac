{
 "cells": [
  {
   "cell_type": "markdown",
   "metadata": {},
   "source": [
    "<h2 style=\"color: blue\">Fórmula de Bhaskara</h2>\n",
    "\n",
    "A solução para uma função de segundo grau dependa das suas raízes (valores de x). Como já vimos, os coeficientes precisam ser números reais e o angular diferente de zero. Sendo assim, temos a seguinte fórmula de Bhaskara:\n",
    "\n",
    "$$ x = \\frac{-b \\pm \\sqrt{b^{2} - 4ac}}{2a} $$\n",
    "<br> <p style=\"text-align: center;\">fórmula de Bhaskara</p>\n",
    "\n",
    "Para melhor compreensão o seu cálculo é dividido em duas partes: discriminante da equação e operações para determinar as raízes.\n",
    "\n",
    "##### Discriminante\n",
    "<p>A figura dentro da raiz na fórmula de Bhaskara é nomeada de discriminante. Seu símbolo é a letra grega delta e apresenta a determinada fórmula: </p>\n",
    "\n",
    "$$\n",
    "\\delta = b^2 - 4ac\n",
    "$$\n",
    "<br> <p style=\"text-align: center;\">fórmula da Discriminante</p>\n",
    "\n",
    "* Se o delta for maior que zero, a equação terá dois valores reais e distintos\n",
    "* Se o delta for igual a zero, a equação terá somente um valor real ou dois resultados iguais\n",
    "* Se o delta for menor que zero, a equação não possuirá valores reais"
   ]
  }
 ],
 "metadata": {
  "language_info": {
   "name": "python"
  }
 },
 "nbformat": 4,
 "nbformat_minor": 2
}
