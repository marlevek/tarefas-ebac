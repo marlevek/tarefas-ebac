{
 "cells": [
  {
   "cell_type": "markdown",
   "metadata": {},
   "source": [
    "# Livro para consulta:\n",
    "- https://jakevdp.github.io/PythonDataScienceHandbook/03.08-aggregation-and-grouping.html\n",
    "- https://jakevdp.github.io/PythonDataScienceHandbook/03.09-pivot-tables.html\n",
    "    "
   ]
  },
  {
   "cell_type": "markdown",
   "metadata": {},
   "source": [
    "# 1. Importando bibliotecas <a name=\"import\"></a>\n",
    "\n",
    "<div style=\"text-align: right\"\n",
    "     \n",
    "[Voltar ao índice](#Contents)"
   ]
  },
  {
   "cell_type": "code",
   "execution_count": 1,
   "metadata": {
    "ExecuteTime": {
     "end_time": "2021-06-06T21:12:37.298706Z",
     "start_time": "2021-06-06T21:12:36.656481Z"
    }
   },
   "outputs": [],
   "source": [
    "import numpy as np\n",
    "import pandas as pd\n",
    "import seaborn as sns\n",
    "import matplotlib.pyplot as plt\n",
    "\n",
    "%matplotlib inline"
   ]
  },
  {
   "cell_type": "markdown",
   "metadata": {},
   "source": [
    "# 2. Carregando o dataframe SINASC <a name=\"read\"></a>\n",
    "<div style=\"text-align: right\"\n",
    "     \n",
    "[Voltar ao índice](#Contents)"
   ]
  },
  {
   "cell_type": "code",
   "execution_count": 2,
   "metadata": {
    "ExecuteTime": {
     "end_time": "2021-06-06T21:12:37.762376Z",
     "start_time": "2021-06-06T21:12:37.728383Z"
    },
    "scrolled": true
   },
   "outputs": [
    {
     "data": {
      "text/html": [
       "<div>\n",
       "<style scoped>\n",
       "    .dataframe tbody tr th:only-of-type {\n",
       "        vertical-align: middle;\n",
       "    }\n",
       "\n",
       "    .dataframe tbody tr th {\n",
       "        vertical-align: top;\n",
       "    }\n",
       "\n",
       "    .dataframe thead th {\n",
       "        text-align: right;\n",
       "    }\n",
       "</style>\n",
       "<table border=\"1\" class=\"dataframe\">\n",
       "  <thead>\n",
       "    <tr style=\"text-align: right;\">\n",
       "      <th></th>\n",
       "      <th>ORIGEM</th>\n",
       "      <th>CODESTAB</th>\n",
       "      <th>CODMUNNASC</th>\n",
       "      <th>LOCNASC</th>\n",
       "      <th>IDADEMAE</th>\n",
       "      <th>ESTCIVMAE</th>\n",
       "      <th>ESCMAE</th>\n",
       "      <th>CODOCUPMAE</th>\n",
       "      <th>QTDFILVIVO</th>\n",
       "      <th>QTDFILMORT</th>\n",
       "      <th>...</th>\n",
       "      <th>KOTELCHUCK</th>\n",
       "      <th>CONTADOR</th>\n",
       "      <th>munResStatus</th>\n",
       "      <th>munResTipo</th>\n",
       "      <th>munResNome</th>\n",
       "      <th>munResUf</th>\n",
       "      <th>munResLat</th>\n",
       "      <th>munResLon</th>\n",
       "      <th>munResAlt</th>\n",
       "      <th>munResArea</th>\n",
       "    </tr>\n",
       "  </thead>\n",
       "  <tbody>\n",
       "    <tr>\n",
       "      <th>0</th>\n",
       "      <td>1</td>\n",
       "      <td>2679477.0</td>\n",
       "      <td>110001</td>\n",
       "      <td>1</td>\n",
       "      <td>19</td>\n",
       "      <td>5.0</td>\n",
       "      <td>8 a 11 anos</td>\n",
       "      <td>NaN</td>\n",
       "      <td>0.0</td>\n",
       "      <td>0.0</td>\n",
       "      <td>...</td>\n",
       "      <td>5</td>\n",
       "      <td>1</td>\n",
       "      <td>ATIVO</td>\n",
       "      <td>MUNIC</td>\n",
       "      <td>Alta Floresta D'Oeste</td>\n",
       "      <td>Rondônia</td>\n",
       "      <td>-11.93554</td>\n",
       "      <td>-61.99982</td>\n",
       "      <td>338.0</td>\n",
       "      <td>7067.025</td>\n",
       "    </tr>\n",
       "    <tr>\n",
       "      <th>1</th>\n",
       "      <td>1</td>\n",
       "      <td>2679477.0</td>\n",
       "      <td>110001</td>\n",
       "      <td>1</td>\n",
       "      <td>29</td>\n",
       "      <td>2.0</td>\n",
       "      <td>8 a 11 anos</td>\n",
       "      <td>999992.0</td>\n",
       "      <td>1.0</td>\n",
       "      <td>0.0</td>\n",
       "      <td>...</td>\n",
       "      <td>5</td>\n",
       "      <td>2</td>\n",
       "      <td>ATIVO</td>\n",
       "      <td>MUNIC</td>\n",
       "      <td>Alta Floresta D'Oeste</td>\n",
       "      <td>Rondônia</td>\n",
       "      <td>-11.93554</td>\n",
       "      <td>-61.99982</td>\n",
       "      <td>338.0</td>\n",
       "      <td>7067.025</td>\n",
       "    </tr>\n",
       "    <tr>\n",
       "      <th>2</th>\n",
       "      <td>1</td>\n",
       "      <td>2679477.0</td>\n",
       "      <td>110001</td>\n",
       "      <td>1</td>\n",
       "      <td>37</td>\n",
       "      <td>9.0</td>\n",
       "      <td>8 a 11 anos</td>\n",
       "      <td>513205.0</td>\n",
       "      <td>2.0</td>\n",
       "      <td>0.0</td>\n",
       "      <td>...</td>\n",
       "      <td>5</td>\n",
       "      <td>3</td>\n",
       "      <td>ATIVO</td>\n",
       "      <td>MUNIC</td>\n",
       "      <td>Alta Floresta D'Oeste</td>\n",
       "      <td>Rondônia</td>\n",
       "      <td>-11.93554</td>\n",
       "      <td>-61.99982</td>\n",
       "      <td>338.0</td>\n",
       "      <td>7067.025</td>\n",
       "    </tr>\n",
       "    <tr>\n",
       "      <th>3</th>\n",
       "      <td>1</td>\n",
       "      <td>2516500.0</td>\n",
       "      <td>110001</td>\n",
       "      <td>1</td>\n",
       "      <td>30</td>\n",
       "      <td>5.0</td>\n",
       "      <td>12 anos ou mais</td>\n",
       "      <td>231205.0</td>\n",
       "      <td>0.0</td>\n",
       "      <td>0.0</td>\n",
       "      <td>...</td>\n",
       "      <td>4</td>\n",
       "      <td>4</td>\n",
       "      <td>ATIVO</td>\n",
       "      <td>MUNIC</td>\n",
       "      <td>Alto Alegre dos Parecis</td>\n",
       "      <td>Rondônia</td>\n",
       "      <td>-12.13178</td>\n",
       "      <td>-61.85308</td>\n",
       "      <td>397.0</td>\n",
       "      <td>3958.273</td>\n",
       "    </tr>\n",
       "    <tr>\n",
       "      <th>4</th>\n",
       "      <td>1</td>\n",
       "      <td>2516500.0</td>\n",
       "      <td>110001</td>\n",
       "      <td>1</td>\n",
       "      <td>30</td>\n",
       "      <td>2.0</td>\n",
       "      <td>8 a 11 anos</td>\n",
       "      <td>999992.0</td>\n",
       "      <td>1.0</td>\n",
       "      <td>0.0</td>\n",
       "      <td>...</td>\n",
       "      <td>5</td>\n",
       "      <td>5</td>\n",
       "      <td>ATIVO</td>\n",
       "      <td>MUNIC</td>\n",
       "      <td>Alta Floresta D'Oeste</td>\n",
       "      <td>Rondônia</td>\n",
       "      <td>-11.93554</td>\n",
       "      <td>-61.99982</td>\n",
       "      <td>338.0</td>\n",
       "      <td>7067.025</td>\n",
       "    </tr>\n",
       "  </tbody>\n",
       "</table>\n",
       "<p>5 rows × 69 columns</p>\n",
       "</div>"
      ],
      "text/plain": [
       "   ORIGEM   CODESTAB  CODMUNNASC  LOCNASC  IDADEMAE  ESTCIVMAE  \\\n",
       "0       1  2679477.0      110001        1        19        5.0   \n",
       "1       1  2679477.0      110001        1        29        2.0   \n",
       "2       1  2679477.0      110001        1        37        9.0   \n",
       "3       1  2516500.0      110001        1        30        5.0   \n",
       "4       1  2516500.0      110001        1        30        2.0   \n",
       "\n",
       "            ESCMAE  CODOCUPMAE  QTDFILVIVO  QTDFILMORT  ...  KOTELCHUCK  \\\n",
       "0      8 a 11 anos         NaN         0.0         0.0  ...           5   \n",
       "1      8 a 11 anos    999992.0         1.0         0.0  ...           5   \n",
       "2      8 a 11 anos    513205.0         2.0         0.0  ...           5   \n",
       "3  12 anos ou mais    231205.0         0.0         0.0  ...           4   \n",
       "4      8 a 11 anos    999992.0         1.0         0.0  ...           5   \n",
       "\n",
       "  CONTADOR munResStatus munResTipo               munResNome  munResUf  \\\n",
       "0        1        ATIVO      MUNIC    Alta Floresta D'Oeste  Rondônia   \n",
       "1        2        ATIVO      MUNIC    Alta Floresta D'Oeste  Rondônia   \n",
       "2        3        ATIVO      MUNIC    Alta Floresta D'Oeste  Rondônia   \n",
       "3        4        ATIVO      MUNIC  Alto Alegre dos Parecis  Rondônia   \n",
       "4        5        ATIVO      MUNIC    Alta Floresta D'Oeste  Rondônia   \n",
       "\n",
       "   munResLat munResLon  munResAlt  munResArea  \n",
       "0  -11.93554 -61.99982      338.0    7067.025  \n",
       "1  -11.93554 -61.99982      338.0    7067.025  \n",
       "2  -11.93554 -61.99982      338.0    7067.025  \n",
       "3  -12.13178 -61.85308      397.0    3958.273  \n",
       "4  -11.93554 -61.99982      338.0    7067.025  \n",
       "\n",
       "[5 rows x 69 columns]"
      ]
     },
     "execution_count": 2,
     "metadata": {},
     "output_type": "execute_result"
    }
   ],
   "source": [
    "sinasc_raw = pd.read_csv('SINASC_RO_2019.csv')\n",
    "sinasc_raw.head()"
   ]
  },
  {
   "cell_type": "code",
   "execution_count": 3,
   "metadata": {},
   "outputs": [
    {
     "data": {
      "text/plain": [
       "Index(['ORIGEM', 'CODESTAB', 'CODMUNNASC', 'LOCNASC', 'IDADEMAE', 'ESTCIVMAE',\n",
       "       'ESCMAE', 'CODOCUPMAE', 'QTDFILVIVO', 'QTDFILMORT', 'CODMUNRES',\n",
       "       'GESTACAO', 'GRAVIDEZ', 'PARTO', 'CONSULTAS', 'DTNASC', 'HORANASC',\n",
       "       'SEXO', 'APGAR1', 'APGAR5', 'RACACOR', 'PESO', 'IDANOMAL', 'DTCADASTRO',\n",
       "       'CODANOMAL', 'NUMEROLOTE', 'VERSAOSIST', 'DTRECEBIM', 'DIFDATA',\n",
       "       'DTRECORIGA', 'NATURALMAE', 'CODMUNNATU', 'CODUFNATU', 'ESCMAE2010',\n",
       "       'SERIESCMAE', 'DTNASCMAE', 'RACACORMAE', 'QTDGESTANT', 'QTDPARTNOR',\n",
       "       'QTDPARTCES', 'IDADEPAI', 'DTULTMENST', 'SEMAGESTAC', 'TPMETESTIM',\n",
       "       'CONSPRENAT', 'MESPRENAT', 'TPAPRESENT', 'STTRABPART', 'STCESPARTO',\n",
       "       'TPNASCASSI', 'TPFUNCRESP', 'TPDOCRESP', 'DTDECLARAC', 'ESCMAEAGR1',\n",
       "       'STDNEPIDEM', 'STDNNOVA', 'CODPAISRES', 'TPROBSON', 'PARIDADE',\n",
       "       'KOTELCHUCK', 'CONTADOR', 'munResStatus', 'munResTipo', 'munResNome',\n",
       "       'munResUf', 'munResLat', 'munResLon', 'munResAlt', 'munResArea'],\n",
       "      dtype='object')"
      ]
     },
     "execution_count": 3,
     "metadata": {},
     "output_type": "execute_result"
    }
   ],
   "source": [
    "sinasc_raw.columns"
   ]
  },
  {
   "cell_type": "markdown",
   "metadata": {},
   "source": [
    "# Tarefa 2"
   ]
  },
  {
   "cell_type": "markdown",
   "metadata": {},
   "source": [
    "### 1. Crie 2 faixas de Latitude do município (munResLat) sendo uma acima e outra abaixo de -10.5 e aplique o groupby usando essas faixas como chave e realize operações de soma, media, minimo, maximo, mediana, desvio padrao, variancia pra pelo menos 2 variáveis numéricas ainda não utilizadas"
   ]
  },
  {
   "cell_type": "code",
   "execution_count": 4,
   "metadata": {},
   "outputs": [
    {
     "name": "stderr",
     "output_type": "stream",
     "text": [
      "C:\\Users\\marce\\AppData\\Local\\Temp\\ipykernel_1932\\1022054500.py:3: SettingWithCopyWarning: \n",
      "A value is trying to be set on a copy of a slice from a DataFrame.\n",
      "Try using .loc[row_indexer,col_indexer] = value instead\n",
      "\n",
      "See the caveats in the documentation: https://pandas.pydata.org/pandas-docs/stable/user_guide/indexing.html#returning-a-view-versus-a-copy\n",
      "  sinasc_lat['faixas_lat'] = latitude\n"
     ]
    }
   ],
   "source": [
    "sinasc_lat = sinasc_raw[['munResLat', 'QTDFILVIVO', 'QTDFILMORT']]\n",
    "latitude = ['abaixo de -10.5' if lat <= -10.5 else 'acima de -10.5' for lat in sinasc_lat['munResLat']]\n",
    "sinasc_lat['faixas_lat'] = latitude"
   ]
  },
  {
   "cell_type": "code",
   "execution_count": 5,
   "metadata": {},
   "outputs": [
    {
     "data": {
      "text/html": [
       "<div>\n",
       "<style scoped>\n",
       "    .dataframe tbody tr th:only-of-type {\n",
       "        vertical-align: middle;\n",
       "    }\n",
       "\n",
       "    .dataframe tbody tr th {\n",
       "        vertical-align: top;\n",
       "    }\n",
       "\n",
       "    .dataframe thead tr th {\n",
       "        text-align: left;\n",
       "    }\n",
       "\n",
       "    .dataframe thead tr:last-of-type th {\n",
       "        text-align: right;\n",
       "    }\n",
       "</style>\n",
       "<table border=\"1\" class=\"dataframe\">\n",
       "  <thead>\n",
       "    <tr>\n",
       "      <th></th>\n",
       "      <th colspan=\"7\" halign=\"left\">munResLat</th>\n",
       "      <th colspan=\"7\" halign=\"left\">QTDFILVIVO</th>\n",
       "      <th colspan=\"7\" halign=\"left\">QTDFILMORT</th>\n",
       "    </tr>\n",
       "    <tr>\n",
       "      <th></th>\n",
       "      <th>sum</th>\n",
       "      <th>min</th>\n",
       "      <th>max</th>\n",
       "      <th>mean</th>\n",
       "      <th>median</th>\n",
       "      <th>std</th>\n",
       "      <th>var</th>\n",
       "      <th>sum</th>\n",
       "      <th>min</th>\n",
       "      <th>max</th>\n",
       "      <th>...</th>\n",
       "      <th>median</th>\n",
       "      <th>std</th>\n",
       "      <th>var</th>\n",
       "      <th>sum</th>\n",
       "      <th>min</th>\n",
       "      <th>max</th>\n",
       "      <th>mean</th>\n",
       "      <th>median</th>\n",
       "      <th>std</th>\n",
       "      <th>var</th>\n",
       "    </tr>\n",
       "    <tr>\n",
       "      <th>faixas_lat</th>\n",
       "      <th></th>\n",
       "      <th></th>\n",
       "      <th></th>\n",
       "      <th></th>\n",
       "      <th></th>\n",
       "      <th></th>\n",
       "      <th></th>\n",
       "      <th></th>\n",
       "      <th></th>\n",
       "      <th></th>\n",
       "      <th></th>\n",
       "      <th></th>\n",
       "      <th></th>\n",
       "      <th></th>\n",
       "      <th></th>\n",
       "      <th></th>\n",
       "      <th></th>\n",
       "      <th></th>\n",
       "      <th></th>\n",
       "      <th></th>\n",
       "      <th></th>\n",
       "    </tr>\n",
       "  </thead>\n",
       "  <tbody>\n",
       "    <tr>\n",
       "      <th>abaixo de -10.5</th>\n",
       "      <td>-150874.73529</td>\n",
       "      <td>-13.49976</td>\n",
       "      <td>-10.56842</td>\n",
       "      <td>-11.612001</td>\n",
       "      <td>-11.52855</td>\n",
       "      <td>0.738864</td>\n",
       "      <td>0.545920</td>\n",
       "      <td>12600.0</td>\n",
       "      <td>0.0</td>\n",
       "      <td>30.0</td>\n",
       "      <td>...</td>\n",
       "      <td>1.0</td>\n",
       "      <td>1.138300</td>\n",
       "      <td>1.295727</td>\n",
       "      <td>3105.0</td>\n",
       "      <td>0.0</td>\n",
       "      <td>28.0</td>\n",
       "      <td>0.242521</td>\n",
       "      <td>0.0</td>\n",
       "      <td>0.599430</td>\n",
       "      <td>0.359317</td>\n",
       "    </tr>\n",
       "    <tr>\n",
       "      <th>acima de -10.5</th>\n",
       "      <td>-129611.14031</td>\n",
       "      <td>-10.43595</td>\n",
       "      <td>-8.76889</td>\n",
       "      <td>-9.235509</td>\n",
       "      <td>-8.76889</td>\n",
       "      <td>0.639948</td>\n",
       "      <td>0.409534</td>\n",
       "      <td>14227.0</td>\n",
       "      <td>0.0</td>\n",
       "      <td>12.0</td>\n",
       "      <td>...</td>\n",
       "      <td>1.0</td>\n",
       "      <td>1.198566</td>\n",
       "      <td>1.436561</td>\n",
       "      <td>3539.0</td>\n",
       "      <td>0.0</td>\n",
       "      <td>9.0</td>\n",
       "      <td>0.291828</td>\n",
       "      <td>0.0</td>\n",
       "      <td>0.627863</td>\n",
       "      <td>0.394212</td>\n",
       "    </tr>\n",
       "  </tbody>\n",
       "</table>\n",
       "<p>2 rows × 21 columns</p>\n",
       "</div>"
      ],
      "text/plain": [
       "                    munResLat                                           \\\n",
       "                          sum       min       max       mean    median   \n",
       "faixas_lat                                                               \n",
       "abaixo de -10.5 -150874.73529 -13.49976 -10.56842 -11.612001 -11.52855   \n",
       "acima de -10.5  -129611.14031 -10.43595  -8.76889  -9.235509  -8.76889   \n",
       "\n",
       "                                    QTDFILVIVO             ...         \\\n",
       "                      std       var        sum  min   max  ... median   \n",
       "faixas_lat                                                 ...          \n",
       "abaixo de -10.5  0.738864  0.545920    12600.0  0.0  30.0  ...    1.0   \n",
       "acima de -10.5   0.639948  0.409534    14227.0  0.0  12.0  ...    1.0   \n",
       "\n",
       "                                    QTDFILMORT                              \\\n",
       "                      std       var        sum  min   max      mean median   \n",
       "faixas_lat                                                                   \n",
       "abaixo de -10.5  1.138300  1.295727     3105.0  0.0  28.0  0.242521    0.0   \n",
       "acima de -10.5   1.198566  1.436561     3539.0  0.0   9.0  0.291828    0.0   \n",
       "\n",
       "                                     \n",
       "                      std       var  \n",
       "faixas_lat                           \n",
       "abaixo de -10.5  0.599430  0.359317  \n",
       "acima de -10.5   0.627863  0.394212  \n",
       "\n",
       "[2 rows x 21 columns]"
      ]
     },
     "execution_count": 5,
     "metadata": {},
     "output_type": "execute_result"
    }
   ],
   "source": [
    "sinasc_lat.groupby('faixas_lat').aggregate([sum, 'min', max, np.mean, np.median, np.std,np.var])"
   ]
  },
  {
   "cell_type": "markdown",
   "metadata": {},
   "source": [
    "### 2. Crie 2 faixas da área dos municípios (munResArea) sendo uma acima e outra abaixo de 3000 e aplique o groupby usando essas faixas como chave e realize operações de soma, media, minimo, maximo, mediana, desvio padrao, variancia pra pelo menos 2 variáveis numéricas ainda não utilizadas\n"
   ]
  },
  {
   "cell_type": "code",
   "execution_count": 6,
   "metadata": {},
   "outputs": [
    {
     "name": "stderr",
     "output_type": "stream",
     "text": [
      "C:\\Users\\marce\\AppData\\Local\\Temp\\ipykernel_1932\\643880430.py:2: SettingWithCopyWarning: \n",
      "A value is trying to be set on a copy of a slice from a DataFrame.\n",
      "Try using .loc[row_indexer,col_indexer] = value instead\n",
      "\n",
      "See the caveats in the documentation: https://pandas.pydata.org/pandas-docs/stable/user_guide/indexing.html#returning-a-view-versus-a-copy\n",
      "  sinasc_area['AREA'] =['abaixo de 3000' if area < 3000 else 'acima de 3000' for area in sinasc_area['munResArea']]\n"
     ]
    }
   ],
   "source": [
    "sinasc_area = sinasc_raw[['munResArea', 'PESO', 'CONSULTAS']]\n",
    "sinasc_area['AREA'] =['abaixo de 3000' if area < 3000 else 'acima de 3000' for area in sinasc_area['munResArea']]"
   ]
  },
  {
   "cell_type": "code",
   "execution_count": 7,
   "metadata": {},
   "outputs": [
    {
     "data": {
      "text/html": [
       "<div>\n",
       "<style scoped>\n",
       "    .dataframe tbody tr th:only-of-type {\n",
       "        vertical-align: middle;\n",
       "    }\n",
       "\n",
       "    .dataframe tbody tr th {\n",
       "        vertical-align: top;\n",
       "    }\n",
       "\n",
       "    .dataframe thead tr th {\n",
       "        text-align: left;\n",
       "    }\n",
       "\n",
       "    .dataframe thead tr:last-of-type th {\n",
       "        text-align: right;\n",
       "    }\n",
       "</style>\n",
       "<table border=\"1\" class=\"dataframe\">\n",
       "  <thead>\n",
       "    <tr>\n",
       "      <th></th>\n",
       "      <th colspan=\"7\" halign=\"left\">munResArea</th>\n",
       "      <th colspan=\"7\" halign=\"left\">PESO</th>\n",
       "      <th colspan=\"7\" halign=\"left\">CONSULTAS</th>\n",
       "    </tr>\n",
       "    <tr>\n",
       "      <th></th>\n",
       "      <th>min</th>\n",
       "      <th>max</th>\n",
       "      <th>sum</th>\n",
       "      <th>median</th>\n",
       "      <th>mean</th>\n",
       "      <th>std</th>\n",
       "      <th>var</th>\n",
       "      <th>min</th>\n",
       "      <th>max</th>\n",
       "      <th>sum</th>\n",
       "      <th>...</th>\n",
       "      <th>mean</th>\n",
       "      <th>std</th>\n",
       "      <th>var</th>\n",
       "      <th>min</th>\n",
       "      <th>max</th>\n",
       "      <th>sum</th>\n",
       "      <th>median</th>\n",
       "      <th>mean</th>\n",
       "      <th>std</th>\n",
       "      <th>var</th>\n",
       "    </tr>\n",
       "    <tr>\n",
       "      <th>AREA</th>\n",
       "      <th></th>\n",
       "      <th></th>\n",
       "      <th></th>\n",
       "      <th></th>\n",
       "      <th></th>\n",
       "      <th></th>\n",
       "      <th></th>\n",
       "      <th></th>\n",
       "      <th></th>\n",
       "      <th></th>\n",
       "      <th></th>\n",
       "      <th></th>\n",
       "      <th></th>\n",
       "      <th></th>\n",
       "      <th></th>\n",
       "      <th></th>\n",
       "      <th></th>\n",
       "      <th></th>\n",
       "      <th></th>\n",
       "      <th></th>\n",
       "      <th></th>\n",
       "    </tr>\n",
       "  </thead>\n",
       "  <tbody>\n",
       "    <tr>\n",
       "      <th>abaixo de 3000</th>\n",
       "      <td>459.978</td>\n",
       "      <td>2944.128</td>\n",
       "      <td>9.665178e+06</td>\n",
       "      <td>1758.465</td>\n",
       "      <td>1851.921453</td>\n",
       "      <td>709.884005</td>\n",
       "      <td>5.039353e+05</td>\n",
       "      <td>258</td>\n",
       "      <td>5720</td>\n",
       "      <td>16796616</td>\n",
       "      <td>...</td>\n",
       "      <td>3218.359073</td>\n",
       "      <td>531.583103</td>\n",
       "      <td>282580.595074</td>\n",
       "      <td>1</td>\n",
       "      <td>9</td>\n",
       "      <td>19520</td>\n",
       "      <td>4.0</td>\n",
       "      <td>3.740180</td>\n",
       "      <td>0.607492</td>\n",
       "      <td>0.369046</td>\n",
       "    </tr>\n",
       "    <tr>\n",
       "      <th>acima de 3000</th>\n",
       "      <td>3029.189</td>\n",
       "      <td>34096.394</td>\n",
       "      <td>3.877074e+08</td>\n",
       "      <td>10959.767</td>\n",
       "      <td>17778.218601</td>\n",
       "      <td>13554.195564</td>\n",
       "      <td>1.837162e+08</td>\n",
       "      <td>292</td>\n",
       "      <td>5985</td>\n",
       "      <td>70860341</td>\n",
       "      <td>...</td>\n",
       "      <td>3249.132973</td>\n",
       "      <td>547.704072</td>\n",
       "      <td>299979.751026</td>\n",
       "      <td>1</td>\n",
       "      <td>9</td>\n",
       "      <td>77143</td>\n",
       "      <td>4.0</td>\n",
       "      <td>3.537209</td>\n",
       "      <td>0.821128</td>\n",
       "      <td>0.674250</td>\n",
       "    </tr>\n",
       "  </tbody>\n",
       "</table>\n",
       "<p>2 rows × 21 columns</p>\n",
       "</div>"
      ],
      "text/plain": [
       "               munResArea                                                    \\\n",
       "                      min        max           sum     median          mean   \n",
       "AREA                                                                          \n",
       "abaixo de 3000    459.978   2944.128  9.665178e+06   1758.465   1851.921453   \n",
       "acima de 3000    3029.189  34096.394  3.877074e+08  10959.767  17778.218601   \n",
       "\n",
       "                                           PESO                  ...  \\\n",
       "                         std           var  min   max       sum  ...   \n",
       "AREA                                                             ...   \n",
       "abaixo de 3000    709.884005  5.039353e+05  258  5720  16796616  ...   \n",
       "acima de 3000   13554.195564  1.837162e+08  292  5985  70860341  ...   \n",
       "\n",
       "                                                       CONSULTAS             \\\n",
       "                       mean         std            var       min max    sum   \n",
       "AREA                                                                          \n",
       "abaixo de 3000  3218.359073  531.583103  282580.595074         1   9  19520   \n",
       "acima de 3000   3249.132973  547.704072  299979.751026         1   9  77143   \n",
       "\n",
       "                                                     \n",
       "               median      mean       std       var  \n",
       "AREA                                                 \n",
       "abaixo de 3000    4.0  3.740180  0.607492  0.369046  \n",
       "acima de 3000     4.0  3.537209  0.821128  0.674250  \n",
       "\n",
       "[2 rows x 21 columns]"
      ]
     },
     "execution_count": 7,
     "metadata": {},
     "output_type": "execute_result"
    }
   ],
   "source": [
    "sinasc_area.groupby('AREA').aggregate([min, max, sum, np.median, np.mean, np.std, np.var])"
   ]
  },
  {
   "cell_type": "markdown",
   "metadata": {},
   "source": [
    "### 3. Determine faixas na variável munResAlt e aplique o groupby usando essas faixas como chave e realize operações de soma, media, minimo, maximo, mediana, desvio padrao, variancia pra pelo menos 2 variáveis numéricas ainda não utilizadas"
   ]
  },
  {
   "cell_type": "code",
   "execution_count": 8,
   "metadata": {},
   "outputs": [
    {
     "data": {
      "text/plain": [
       "179.11199911199913"
      ]
     },
     "execution_count": 8,
     "metadata": {},
     "output_type": "execute_result"
    }
   ],
   "source": [
    "sinasc_raw.munResAlt.mean()"
   ]
  },
  {
   "cell_type": "code",
   "execution_count": 9,
   "metadata": {},
   "outputs": [
    {
     "name": "stderr",
     "output_type": "stream",
     "text": [
      "C:\\Users\\marce\\AppData\\Local\\Temp\\ipykernel_1932\\852629651.py:2: SettingWithCopyWarning: \n",
      "A value is trying to be set on a copy of a slice from a DataFrame.\n",
      "Try using .loc[row_indexer,col_indexer] = value instead\n",
      "\n",
      "See the caveats in the documentation: https://pandas.pydata.org/pandas-docs/stable/user_guide/indexing.html#returning-a-view-versus-a-copy\n",
      "  sinasc_altitude['Altitude'] = ['Abaixo de 179' if alt < 179 else 'Acima de 179' for alt in sinasc_altitude['munResAlt']]\n"
     ]
    }
   ],
   "source": [
    "sinasc_altitude = sinasc_raw[['munResAlt', 'APGAR1', 'APGAR5']]\n",
    "sinasc_altitude['Altitude'] = ['Abaixo de 179' if alt < 179 else 'Acima de 179' for alt in sinasc_altitude['munResAlt']]"
   ]
  },
  {
   "cell_type": "code",
   "execution_count": 10,
   "metadata": {},
   "outputs": [
    {
     "data": {
      "text/html": [
       "<div>\n",
       "<style scoped>\n",
       "    .dataframe tbody tr th:only-of-type {\n",
       "        vertical-align: middle;\n",
       "    }\n",
       "\n",
       "    .dataframe tbody tr th {\n",
       "        vertical-align: top;\n",
       "    }\n",
       "\n",
       "    .dataframe thead tr th {\n",
       "        text-align: left;\n",
       "    }\n",
       "\n",
       "    .dataframe thead tr:last-of-type th {\n",
       "        text-align: right;\n",
       "    }\n",
       "</style>\n",
       "<table border=\"1\" class=\"dataframe\">\n",
       "  <thead>\n",
       "    <tr>\n",
       "      <th></th>\n",
       "      <th colspan=\"7\" halign=\"left\">munResAlt</th>\n",
       "      <th colspan=\"7\" halign=\"left\">APGAR1</th>\n",
       "      <th colspan=\"7\" halign=\"left\">APGAR5</th>\n",
       "    </tr>\n",
       "    <tr>\n",
       "      <th></th>\n",
       "      <th>min</th>\n",
       "      <th>max</th>\n",
       "      <th>sum</th>\n",
       "      <th>mean</th>\n",
       "      <th>median</th>\n",
       "      <th>std</th>\n",
       "      <th>var</th>\n",
       "      <th>min</th>\n",
       "      <th>max</th>\n",
       "      <th>sum</th>\n",
       "      <th>...</th>\n",
       "      <th>median</th>\n",
       "      <th>std</th>\n",
       "      <th>var</th>\n",
       "      <th>min</th>\n",
       "      <th>max</th>\n",
       "      <th>sum</th>\n",
       "      <th>mean</th>\n",
       "      <th>median</th>\n",
       "      <th>std</th>\n",
       "      <th>var</th>\n",
       "    </tr>\n",
       "    <tr>\n",
       "      <th>Altitude</th>\n",
       "      <th></th>\n",
       "      <th></th>\n",
       "      <th></th>\n",
       "      <th></th>\n",
       "      <th></th>\n",
       "      <th></th>\n",
       "      <th></th>\n",
       "      <th></th>\n",
       "      <th></th>\n",
       "      <th></th>\n",
       "      <th></th>\n",
       "      <th></th>\n",
       "      <th></th>\n",
       "      <th></th>\n",
       "      <th></th>\n",
       "      <th></th>\n",
       "      <th></th>\n",
       "      <th></th>\n",
       "      <th></th>\n",
       "      <th></th>\n",
       "      <th></th>\n",
       "    </tr>\n",
       "  </thead>\n",
       "  <tbody>\n",
       "    <tr>\n",
       "      <th>Abaixo de 179</th>\n",
       "      <td>85.0</td>\n",
       "      <td>178.0</td>\n",
       "      <td>2346431.0</td>\n",
       "      <td>122.503446</td>\n",
       "      <td>133.0</td>\n",
       "      <td>34.835405</td>\n",
       "      <td>1213.505470</td>\n",
       "      <td>0.0</td>\n",
       "      <td>10.0</td>\n",
       "      <td>155554.0</td>\n",
       "      <td>...</td>\n",
       "      <td>8.0</td>\n",
       "      <td>0.996443</td>\n",
       "      <td>0.992898</td>\n",
       "      <td>0.0</td>\n",
       "      <td>10.0</td>\n",
       "      <td>175382.0</td>\n",
       "      <td>9.196749</td>\n",
       "      <td>9.0</td>\n",
       "      <td>0.779604</td>\n",
       "      <td>0.607782</td>\n",
       "    </tr>\n",
       "    <tr>\n",
       "      <th>Acima de 179</th>\n",
       "      <td>182.0</td>\n",
       "      <td>595.0</td>\n",
       "      <td>2494429.0</td>\n",
       "      <td>316.833355</td>\n",
       "      <td>252.0</td>\n",
       "      <td>149.459744</td>\n",
       "      <td>22338.215112</td>\n",
       "      <td>0.0</td>\n",
       "      <td>10.0</td>\n",
       "      <td>63604.0</td>\n",
       "      <td>...</td>\n",
       "      <td>8.0</td>\n",
       "      <td>0.955128</td>\n",
       "      <td>0.912269</td>\n",
       "      <td>0.0</td>\n",
       "      <td>10.0</td>\n",
       "      <td>71767.0</td>\n",
       "      <td>9.136474</td>\n",
       "      <td>9.0</td>\n",
       "      <td>0.815069</td>\n",
       "      <td>0.664337</td>\n",
       "    </tr>\n",
       "  </tbody>\n",
       "</table>\n",
       "<p>2 rows × 21 columns</p>\n",
       "</div>"
      ],
      "text/plain": [
       "              munResAlt                                                   \\\n",
       "                    min    max        sum        mean median         std   \n",
       "Altitude                                                                   \n",
       "Abaixo de 179      85.0  178.0  2346431.0  122.503446  133.0   34.835405   \n",
       "Acima de 179      182.0  595.0  2494429.0  316.833355  252.0  149.459744   \n",
       "\n",
       "                            APGAR1                  ...                   \\\n",
       "                        var    min   max       sum  ... median       std   \n",
       "Altitude                                            ...                    \n",
       "Abaixo de 179   1213.505470    0.0  10.0  155554.0  ...    8.0  0.996443   \n",
       "Acima de 179   22338.215112    0.0  10.0   63604.0  ...    8.0  0.955128   \n",
       "\n",
       "                        APGAR5                                             \\\n",
       "                    var    min   max       sum      mean median       std   \n",
       "Altitude                                                                    \n",
       "Abaixo de 179  0.992898    0.0  10.0  175382.0  9.196749    9.0  0.779604   \n",
       "Acima de 179   0.912269    0.0  10.0   71767.0  9.136474    9.0  0.815069   \n",
       "\n",
       "                         \n",
       "                    var  \n",
       "Altitude                 \n",
       "Abaixo de 179  0.607782  \n",
       "Acima de 179   0.664337  \n",
       "\n",
       "[2 rows x 21 columns]"
      ]
     },
     "execution_count": 10,
     "metadata": {},
     "output_type": "execute_result"
    }
   ],
   "source": [
    "sinasc_altitude.groupby('Altitude').agg([min, max, sum, np.mean, np.median, np.std,np.var])"
   ]
  },
  {
   "attachments": {},
   "cell_type": "markdown",
   "metadata": {},
   "source": [
    "### 4. Plote no mesmo grafico ao longo do tempo a idade media das mulheres de cada regiao imediatas de rondonia\n",
    "https://pt.wikipedia.org/wiki/Lista_de_regi%C3%B5es_geogr%C3%A1ficas_intermedi%C3%A1rias_e_imediatas_de_Rond%C3%B4nia"
   ]
  },
  {
   "cell_type": "code",
   "execution_count": 11,
   "metadata": {},
   "outputs": [],
   "source": [
    "dados_ro = pd.read_csv('dados_extras_ro.csv', sep=';', encoding='utf-8')\n",
    "regioes_map = dict(zip(dados_ro['municipio'], dados_ro['regiao']))"
   ]
  },
  {
   "cell_type": "code",
   "execution_count": 12,
   "metadata": {},
   "outputs": [
    {
     "data": {
      "text/plain": [
       "Index(['municipio', 'regiao', 'idh', 'ifdm', 'pib'], dtype='object')"
      ]
     },
     "execution_count": 12,
     "metadata": {},
     "output_type": "execute_result"
    }
   ],
   "source": [
    "dados_ro.columns"
   ]
  },
  {
   "cell_type": "code",
   "execution_count": 13,
   "metadata": {},
   "outputs": [
    {
     "data": {
      "text/plain": [
       "{\"Alta Floresta D'Oeste\": 'Cacoal',\n",
       " 'Alto Alegre dos Parecis': 'Cacoal',\n",
       " 'Alto Para�so': 'Ariquemes',\n",
       " \"Alvorada D'Oeste\": 'Ji-Paran�',\n",
       " 'Ariquemes': 'Ariquemes',\n",
       " 'Buritis': 'Ariquemes',\n",
       " 'Cabixi': 'Vilhena',\n",
       " 'Cacaul�ndia': 'Ariquemes',\n",
       " 'Cacoal': 'Cacoal',\n",
       " 'Campo Novo de Rond�nia': 'Ariquemes',\n",
       " 'Candeias do Jamari': 'Porto Velho',\n",
       " 'Castanheiras': 'Cacoal',\n",
       " 'Cerejeiras': 'Vilhena',\n",
       " 'Chupinguaia': 'Vilhena',\n",
       " 'Colorado do Oeste': 'Vilhena',\n",
       " 'Corumbiara': 'Vilhena',\n",
       " 'Costa Marques': 'Ji-Paran�',\n",
       " 'Cujubim': 'Ariquemes',\n",
       " \"Espig�o D'Oeste\": 'Cacoal',\n",
       " 'Governador Jorge Teixeira': 'Jaru',\n",
       " 'Guajar�-Mirim': 'Porto Velho',\n",
       " 'Itapu� do Oeste': 'Porto Velho',\n",
       " 'Jaru': 'Jaru',\n",
       " 'Ji-Paran�': 'Ji-Paran�',\n",
       " \"Machadinho D'Oeste\": 'Jaru',\n",
       " 'Ministro Andreazza': 'Cacoal',\n",
       " 'Mirante da Serra': 'Ji-Paran�',\n",
       " 'Monte Negro': 'Ariquemes',\n",
       " \"Nova Brasil�ndia D'Oeste\": 'Cacoal',\n",
       " 'Nova Mamor�': 'Porto Velho',\n",
       " 'Nova Uni�o': 'Ji-Paran�',\n",
       " 'Novo Horizonte do Oeste': 'Cacoal',\n",
       " 'Ouro Preto do Oeste': 'Ji-Paran�',\n",
       " 'Parecis': 'Cacoal',\n",
       " 'Pimenta Bueno': 'Cacoal',\n",
       " 'Pimenteiras do Oeste': 'Vilhena',\n",
       " 'Porto Velho': 'Porto Velho',\n",
       " 'Presidente M�dici': 'Ji-Paran�',\n",
       " 'Primavera de Rond�nia': 'Cacoal',\n",
       " 'Rio Crespo': 'Ariquemes',\n",
       " 'Rolim de Moura': 'Cacoal',\n",
       " \"Santa Luzia D'Oeste\": 'Cacoal',\n",
       " \"S�o Felipe D'Oeste\": 'Cacoal',\n",
       " 'S�o Francisco do Guapor�': 'Ji-Paran�',\n",
       " 'S�o Miguel do Guapor�': 'Ji-Paran�',\n",
       " 'Seringueiras': 'Ji-Paran�',\n",
       " 'Teixeir�polis': 'Ji-Paran�',\n",
       " 'Theobroma': 'Jaru',\n",
       " 'Urup�': 'Ji-Paran�',\n",
       " 'Vale do Anari': 'Jaru',\n",
       " 'Vale do Para�so': 'Ji-Paran�',\n",
       " 'Vilhena': 'Vilhena'}"
      ]
     },
     "execution_count": 13,
     "metadata": {},
     "output_type": "execute_result"
    }
   ],
   "source": [
    "regioes_map"
   ]
  },
  {
   "cell_type": "code",
   "execution_count": 14,
   "metadata": {},
   "outputs": [
    {
     "data": {
      "image/png": "[encoded data removed]",
      "text/plain": [
       "<Figure size 1368x360 with 1 Axes>"
      ]
     },
     "metadata": {
      "needs_background": "light"
     },
     "output_type": "display_data"
    }
   ],
   "source": [
    "sinasc_raw.groupby(['DTNASC', dados_ro['regiao']])['IDADEMAE'].mean().plot(figsize=[19,5])\n",
    "plt.ylabel('idade média mãe')\n",
    "plt.show()"
   ]
  },
  {
   "cell_type": "markdown",
   "metadata": {},
   "source": [
    "### 5. Utilize a tabela do link abaixo e crie faixas utilizando o mapping e gere agrupamentos utilizando essas faixas como chave\n"
   ]
  },
  {
   "cell_type": "markdown",
   "metadata": {},
   "source": [
    "### 5.1 IDH\n",
    "A - https://pt.wikipedia.org/wiki/Lista_de_munic%C3%ADpios_de_Rond%C3%B4nia_por_IDH-M\n"
   ]
  },
  {
   "cell_type": "code",
   "execution_count": 53,
   "metadata": {},
   "outputs": [
    {
     "data": {
      "text/html": [
       "<div>\n",
       "<style scoped>\n",
       "    .dataframe tbody tr th:only-of-type {\n",
       "        vertical-align: middle;\n",
       "    }\n",
       "\n",
       "    .dataframe tbody tr th {\n",
       "        vertical-align: top;\n",
       "    }\n",
       "\n",
       "    .dataframe thead tr th {\n",
       "        text-align: left;\n",
       "    }\n",
       "\n",
       "    .dataframe thead tr:last-of-type th {\n",
       "        text-align: right;\n",
       "    }\n",
       "</style>\n",
       "<table border=\"1\" class=\"dataframe\">\n",
       "  <thead>\n",
       "    <tr>\n",
       "      <th></th>\n",
       "      <th colspan=\"4\" halign=\"left\">idh</th>\n",
       "    </tr>\n",
       "    <tr>\n",
       "      <th></th>\n",
       "      <th>mean</th>\n",
       "      <th>std</th>\n",
       "      <th>min</th>\n",
       "      <th>max</th>\n",
       "    </tr>\n",
       "    <tr>\n",
       "      <th>municipio</th>\n",
       "      <th></th>\n",
       "      <th></th>\n",
       "      <th></th>\n",
       "      <th></th>\n",
       "    </tr>\n",
       "  </thead>\n",
       "  <tbody>\n",
       "    <tr>\n",
       "      <th>Ariquemes</th>\n",
       "      <td>0.630500</td>\n",
       "      <td>0.033912</td>\n",
       "      <td>0.593</td>\n",
       "      <td>0.702</td>\n",
       "    </tr>\n",
       "    <tr>\n",
       "      <th>Cacoal</th>\n",
       "      <td>0.655929</td>\n",
       "      <td>0.035350</td>\n",
       "      <td>0.592</td>\n",
       "      <td>0.718</td>\n",
       "    </tr>\n",
       "    <tr>\n",
       "      <th>Jaru</th>\n",
       "      <td>0.610800</td>\n",
       "      <td>0.044008</td>\n",
       "      <td>0.584</td>\n",
       "      <td>0.689</td>\n",
       "    </tr>\n",
       "    <tr>\n",
       "      <th>Ji-Paran�</th>\n",
       "      <td>0.636769</td>\n",
       "      <td>0.035506</td>\n",
       "      <td>0.587</td>\n",
       "      <td>0.714</td>\n",
       "    </tr>\n",
       "    <tr>\n",
       "      <th>Porto Velho</th>\n",
       "      <td>0.648600</td>\n",
       "      <td>0.056350</td>\n",
       "      <td>0.587</td>\n",
       "      <td>0.736</td>\n",
       "    </tr>\n",
       "    <tr>\n",
       "      <th>Vilhena</th>\n",
       "      <td>0.669714</td>\n",
       "      <td>0.037478</td>\n",
       "      <td>0.613</td>\n",
       "      <td>0.731</td>\n",
       "    </tr>\n",
       "  </tbody>\n",
       "</table>\n",
       "</div>"
      ],
      "text/plain": [
       "                  idh                        \n",
       "                 mean       std    min    max\n",
       "municipio                                    \n",
       "Ariquemes    0.630500  0.033912  0.593  0.702\n",
       "Cacoal       0.655929  0.035350  0.592  0.718\n",
       "Jaru         0.610800  0.044008  0.584  0.689\n",
       "Ji-Paran�    0.636769  0.035506  0.587  0.714\n",
       "Porto Velho  0.648600  0.056350  0.587  0.736\n",
       "Vilhena      0.669714  0.037478  0.613  0.731"
      ]
     },
     "execution_count": 53,
     "metadata": {},
     "output_type": "execute_result"
    }
   ],
   "source": [
    "idh_ro = dados_ro.set_index('municipio')\n",
    "mapping = regioes_map\n",
    "idh_ro.groupby(mapping)[['idh']].aggregate(['mean', 'std', min, max])"
   ]
  },
  {
   "cell_type": "markdown",
   "metadata": {},
   "source": [
    "### 5.2 IFDM \n",
    "B - https://pt.wikipedia.org/wiki/Lista_de_munic%C3%ADpios_de_Rond%C3%B4nia_por_IFDM\n"
   ]
  },
  {
   "cell_type": "code",
   "execution_count": 56,
   "metadata": {},
   "outputs": [
    {
     "data": {
      "text/html": [
       "<div>\n",
       "<style scoped>\n",
       "    .dataframe tbody tr th:only-of-type {\n",
       "        vertical-align: middle;\n",
       "    }\n",
       "\n",
       "    .dataframe tbody tr th {\n",
       "        vertical-align: top;\n",
       "    }\n",
       "\n",
       "    .dataframe thead tr th {\n",
       "        text-align: left;\n",
       "    }\n",
       "\n",
       "    .dataframe thead tr:last-of-type th {\n",
       "        text-align: right;\n",
       "    }\n",
       "</style>\n",
       "<table border=\"1\" class=\"dataframe\">\n",
       "  <thead>\n",
       "    <tr>\n",
       "      <th></th>\n",
       "      <th colspan=\"4\" halign=\"left\">ifdm</th>\n",
       "    </tr>\n",
       "    <tr>\n",
       "      <th></th>\n",
       "      <th>mean</th>\n",
       "      <th>std</th>\n",
       "      <th>min</th>\n",
       "      <th>max</th>\n",
       "    </tr>\n",
       "    <tr>\n",
       "      <th>municipio</th>\n",
       "      <th></th>\n",
       "      <th></th>\n",
       "      <th></th>\n",
       "      <th></th>\n",
       "    </tr>\n",
       "  </thead>\n",
       "  <tbody>\n",
       "    <tr>\n",
       "      <th>Ariquemes</th>\n",
       "      <td>0.602175</td>\n",
       "      <td>0.083157</td>\n",
       "      <td>0.5055</td>\n",
       "      <td>0.7746</td>\n",
       "    </tr>\n",
       "    <tr>\n",
       "      <th>Cacoal</th>\n",
       "      <td>0.616614</td>\n",
       "      <td>0.068082</td>\n",
       "      <td>0.5046</td>\n",
       "      <td>0.7383</td>\n",
       "    </tr>\n",
       "    <tr>\n",
       "      <th>Jaru</th>\n",
       "      <td>0.548980</td>\n",
       "      <td>0.068312</td>\n",
       "      <td>0.4562</td>\n",
       "      <td>0.6450</td>\n",
       "    </tr>\n",
       "    <tr>\n",
       "      <th>Ji-Paran�</th>\n",
       "      <td>0.610092</td>\n",
       "      <td>0.046444</td>\n",
       "      <td>0.5519</td>\n",
       "      <td>0.7117</td>\n",
       "    </tr>\n",
       "    <tr>\n",
       "      <th>Porto Velho</th>\n",
       "      <td>0.599680</td>\n",
       "      <td>0.081834</td>\n",
       "      <td>0.5084</td>\n",
       "      <td>0.7257</td>\n",
       "    </tr>\n",
       "    <tr>\n",
       "      <th>Vilhena</th>\n",
       "      <td>0.642686</td>\n",
       "      <td>0.058050</td>\n",
       "      <td>0.5759</td>\n",
       "      <td>0.7465</td>\n",
       "    </tr>\n",
       "  </tbody>\n",
       "</table>\n",
       "</div>"
      ],
      "text/plain": [
       "                 ifdm                          \n",
       "                 mean       std     min     max\n",
       "municipio                                      \n",
       "Ariquemes    0.602175  0.083157  0.5055  0.7746\n",
       "Cacoal       0.616614  0.068082  0.5046  0.7383\n",
       "Jaru         0.548980  0.068312  0.4562  0.6450\n",
       "Ji-Paran�    0.610092  0.046444  0.5519  0.7117\n",
       "Porto Velho  0.599680  0.081834  0.5084  0.7257\n",
       "Vilhena      0.642686  0.058050  0.5759  0.7465"
      ]
     },
     "execution_count": 56,
     "metadata": {},
     "output_type": "execute_result"
    }
   ],
   "source": [
    "ifdm_ro = dados_ro.set_index('municipio')\n",
    "mapping = regioes_map\n",
    "idh_ro.groupby(mapping)[['ifdm']].aggregate(['mean', 'std', min, max])"
   ]
  },
  {
   "cell_type": "markdown",
   "metadata": {},
   "source": [
    "### 5.3 PIB\n",
    "C - https://pt.wikipedia.org/wiki/Lista_de_munic%C3%ADpios_de_Rond%C3%B4nia_por_PIB\n"
   ]
  },
  {
   "cell_type": "code",
   "execution_count": 57,
   "metadata": {},
   "outputs": [
    {
     "data": {
      "text/html": [
       "<div>\n",
       "<style scoped>\n",
       "    .dataframe tbody tr th:only-of-type {\n",
       "        vertical-align: middle;\n",
       "    }\n",
       "\n",
       "    .dataframe tbody tr th {\n",
       "        vertical-align: top;\n",
       "    }\n",
       "\n",
       "    .dataframe thead tr th {\n",
       "        text-align: left;\n",
       "    }\n",
       "\n",
       "    .dataframe thead tr:last-of-type th {\n",
       "        text-align: right;\n",
       "    }\n",
       "</style>\n",
       "<table border=\"1\" class=\"dataframe\">\n",
       "  <thead>\n",
       "    <tr>\n",
       "      <th></th>\n",
       "      <th colspan=\"4\" halign=\"left\">pib</th>\n",
       "    </tr>\n",
       "    <tr>\n",
       "      <th></th>\n",
       "      <th>mean</th>\n",
       "      <th>std</th>\n",
       "      <th>min</th>\n",
       "      <th>max</th>\n",
       "    </tr>\n",
       "    <tr>\n",
       "      <th>municipio</th>\n",
       "      <th></th>\n",
       "      <th></th>\n",
       "      <th></th>\n",
       "      <th></th>\n",
       "    </tr>\n",
       "  </thead>\n",
       "  <tbody>\n",
       "    <tr>\n",
       "      <th>Ariquemes</th>\n",
       "      <td>583786.50</td>\n",
       "      <td>831837.77</td>\n",
       "      <td>76854</td>\n",
       "      <td>2579830</td>\n",
       "    </tr>\n",
       "    <tr>\n",
       "      <th>Cacoal</th>\n",
       "      <td>507847.21</td>\n",
       "      <td>644744.81</td>\n",
       "      <td>52908</td>\n",
       "      <td>2261644</td>\n",
       "    </tr>\n",
       "    <tr>\n",
       "      <th>Jaru</th>\n",
       "      <td>505545.20</td>\n",
       "      <td>597542.76</td>\n",
       "      <td>105208</td>\n",
       "      <td>1500890</td>\n",
       "    </tr>\n",
       "    <tr>\n",
       "      <th>Ji-Paran�</th>\n",
       "      <td>552127.08</td>\n",
       "      <td>996746.59</td>\n",
       "      <td>72089</td>\n",
       "      <td>3783972</td>\n",
       "    </tr>\n",
       "    <tr>\n",
       "      <th>Porto Velho</th>\n",
       "      <td>4002284.20</td>\n",
       "      <td>7780507.43</td>\n",
       "      <td>129351</td>\n",
       "      <td>17912070</td>\n",
       "    </tr>\n",
       "    <tr>\n",
       "      <th>Vilhena</th>\n",
       "      <td>605930.14</td>\n",
       "      <td>992058.96</td>\n",
       "      <td>76756</td>\n",
       "      <td>2831175</td>\n",
       "    </tr>\n",
       "  </tbody>\n",
       "</table>\n",
       "</div>"
      ],
      "text/plain": [
       "                    pib                              \n",
       "                   mean         std     min       max\n",
       "municipio                                            \n",
       "Ariquemes     583786.50   831837.77   76854   2579830\n",
       "Cacoal        507847.21   644744.81   52908   2261644\n",
       "Jaru          505545.20   597542.76  105208   1500890\n",
       "Ji-Paran�     552127.08   996746.59   72089   3783972\n",
       "Porto Velho  4002284.20  7780507.43  129351  17912070\n",
       "Vilhena       605930.14   992058.96   76756   2831175"
      ]
     },
     "execution_count": 57,
     "metadata": {},
     "output_type": "execute_result"
    }
   ],
   "source": [
    "pib_ro = dados_ro.set_index('municipio')\n",
    "mapping = regioes_map\n",
    "pib_ro.groupby(mapping)[['pib']].aggregate(['mean', 'std', min,max]).round(2)"
   ]
  },
  {
   "cell_type": "markdown",
   "metadata": {},
   "source": [
    "### Analise as respostas encontradas, tire algum insight delas, conte pra gente algo encontrado nos dados."
   ]
  },
  {
   "cell_type": "markdown",
   "metadata": {},
   "source": [
    "Exemplo:\n",
    "- Ah, descobri que a idade mediana das mulheres que deram a luz no ano de 2019 dos municipios com o PIB mais alto é a maior dentre todas."
   ]
  },
  {
   "cell_type": "code",
   "execution_count": 80,
   "metadata": {},
   "outputs": [
    {
     "data": {
      "image/png": "[encoded data removed]",
      "text/plain": [
       "<Figure size 1368x360 with 1 Axes>"
      ]
     },
     "metadata": {
      "needs_background": "light"
     },
     "output_type": "display_data"
    }
   ],
   "source": [
    "sinasc_raw.groupby(['ESCMAE', dados_ro['idh']])['IDADEMAE'].median().plot(figsize=[19,5])\n",
    "plt.ylabel('IDADE MÃE')\n",
    "plt.show()"
   ]
  },
  {
   "attachments": {},
   "cell_type": "markdown",
   "metadata": {},
   "source": [
    "Pelo gráfico acima nota-se que quanto maior o pib da região maior é a escolaridade da mãe"
   ]
  },
  {
   "cell_type": "code",
   "execution_count": 97,
   "metadata": {},
   "outputs": [
    {
     "data": {
      "image/png": "[encoded data removed]",
      "text/plain": [
       "<Figure size 1368x360 with 1 Axes>"
      ]
     },
     "metadata": {
      "needs_background": "light"
     },
     "output_type": "display_data"
    }
   ],
   "source": [
    "sinasc_raw.groupby(['ESCMAE', dados_ro['idh']])['CONSULTAS'].mean().plot(figsize=[19,5])\n",
    "plt.ylabel('Consultas')\n",
    "plt.show()"
   ]
  },
  {
   "attachments": {},
   "cell_type": "markdown",
   "metadata": {},
   "source": [
    "A média de consultas é maior de acordo com o nível de escolaridade da mãe, se mantém regular a partir de 8 a 11 anos de estudo da mãe"
   ]
  }
 ],
 "metadata": {
  "kernelspec": {
   "display_name": "Python 3",
   "language": "python",
   "name": "python3"
  },
  "language_info": {
   "codemirror_mode": {
    "name": "ipython",
    "version": 3
   },
   "file_extension": ".py",
   "mimetype": "text/x-python",
   "name": "python",
   "nbconvert_exporter": "python",
   "pygments_lexer": "ipython3",
   "version": "3.10.1"
  },
  "varInspector": {
   "cols": {
    "lenName": 16,
    "lenType": 16,
    "lenVar": 40
   },
   "kernels_config": {
    "python": {
     "delete_cmd_postfix": "",
     "delete_cmd_prefix": "del ",
     "library": "var_list.py",
     "varRefreshCmd": "print(var_dic_list())"
    },
    "r": {
     "delete_cmd_postfix": ") ",
     "delete_cmd_prefix": "rm(",
     "library": "var_list.r",
     "varRefreshCmd": "cat(var_dic_list()) "
    }
   },
   "types_to_exclude": [
    "module",
    "function",
    "builtin_function_or_method",
    "instance",
    "_Feature"
   ],
   "window_display": false
  },
  "vscode": {
   "interpreter": {
    "hash": "92e90bd6c5a94ac116b32daed143846700409151323ad0aa8c589766ff7ac504"
   }
  }
 },
 "nbformat": 4,
 "nbformat_minor": 4
}
