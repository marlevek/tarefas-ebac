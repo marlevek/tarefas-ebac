{
  "cells": [
    {
      "cell_type": "markdown",
      "metadata": {
        "id": "KJqp9AANOCtf"
      },
      "source": [
        "<img src=\"https://raw.githubusercontent.com/andre-marcos-perez/ebac-course-utils/main/media/logo/newebac_logo_black_half.png\" alt=\"ebac-logo\">\n",
        "\n",
        "---\n",
        "\n",
        "# **Módulo 02** | Python: Estruturas de Dados\n",
        "Caderno de **Exercícios**<br> \n",
        "Professor [André Perez](https://www.linkedin.com/in/andremarcosperez/)\n",
        "\n",
        "---"
      ]
    },
    {
      "cell_type": "markdown",
      "metadata": {
        "id": "d9jDtUbDOE1-"
      },
      "source": [
        "# **Tópicos**\n",
        "\n",
        "<ol type=\"1\">\n",
        "  <li>Listas;</li>\n",
        "  <li>Conjuntos;</li>\n",
        "  <li>Dicionários.</li>\n",
        "</ol>"
      ]
    },
    {
      "cell_type": "markdown",
      "metadata": {
        "id": "SmoHgt-lwkpD"
      },
      "source": [
        "---"
      ]
    },
    {
      "cell_type": "markdown",
      "metadata": {
        "id": "GABI6OW8OfQ2"
      },
      "source": [
        "# **Exercícios**"
      ]
    },
    {
      "cell_type": "markdown",
      "metadata": {
        "id": "muD1vxozykSC"
      },
      "source": [
        "## 1\\. Listas"
      ]
    },
    {
      "cell_type": "markdown",
      "metadata": {
        "id": "ahrFfCuBxJKs"
      },
      "source": [
        "Criei uma lista chamada `filmes` com o nome dos 10 primeiros filmes mais bem avaliados no site no [IMDB](https://www.imdb.com/chart/top/). Imprima o resultado."
      ]
    },
    {
      "cell_type": "code",
      "execution_count": 80,
      "metadata": {
        "id": "OgL6Hv3bzOHI"
      },
      "outputs": [
        {
          "name": "stdout",
          "output_type": "stream",
          "text": [
            "Os top 10 filmes, segundo o site IMDB:\n",
            " ['Um Sonho de Liberdade', 'O Poderoso Chefão II', 'Batman: O cavaleiro das Trevas', '12 Homens e uma Sentença', 'A lista de Schindler', 'O Senhor dos Anéis: O Retorno do Rei', 'Pulp Fiction: Tempo de Violência', 'O Senhor dos Anéis: A Sociedade do Anel', 'Três Homens em Conflito']\n"
          ]
        }
      ],
      "source": [
        "top_10_filmes = ['Um Sonho de Liberdade', 'O Poderoso Chefão II', 'Batman: O cavaleiro das Trevas', '12 Homens e uma Sentença', 'A lista de Schindler', 'O Senhor dos Anéis: O Retorno do Rei', 'Pulp Fiction: Tempo de Violência', 'O Senhor dos Anéis: A Sociedade do Anel', 'Três Homens em Conflito']\n",
        "print(f'Os top 10 filmes, segundo o site IMDB:\\n {top_10_filmes}')"
      ]
    },
    {
      "cell_type": "markdown",
      "metadata": {
        "id": "KI9zQRT2xa7m"
      },
      "source": [
        "Simule a movimentação do *ranking*. Utilize os métodos `insert` e `pop` para trocar a posição do primeiro e do segundo filme da lista. Imprima o resultado.\n",
        "\n"
      ]
    },
    {
      "cell_type": "code",
      "execution_count": 81,
      "metadata": {},
      "outputs": [
        {
          "name": "stdout",
          "output_type": "stream",
          "text": [
            "['Um Sonho de Liberdade', 'Batman: O cavaleiro das Trevas', '12 Homens e uma Sentença', 'A lista de Schindler', 'O Senhor dos Anéis: O Retorno do Rei', 'Pulp Fiction: Tempo de Violência', 'O Senhor dos Anéis: A Sociedade do Anel', 'Três Homens em Conflito']\n"
          ]
        }
      ],
      "source": [
        "top_10_filmes.pop(1)\n",
        "print(top_10_filmes)"
      ]
    },
    {
      "cell_type": "code",
      "execution_count": 82,
      "metadata": {},
      "outputs": [
        {
          "name": "stdout",
          "output_type": "stream",
          "text": [
            "['O Poderoso Chefão II', 'Um Sonho de Liberdade', 'Batman: O cavaleiro das Trevas', '12 Homens e uma Sentença', 'A lista de Schindler', 'O Senhor dos Anéis: O Retorno do Rei', 'Pulp Fiction: Tempo de Violência', 'O Senhor dos Anéis: A Sociedade do Anel', 'Três Homens em Conflito']\n"
          ]
        }
      ],
      "source": [
        "top_10_filmes.insert(0, 'O Poderoso Chefão II')\n",
        "print(top_10_filmes)"
      ]
    },
    {
      "cell_type": "markdown",
      "metadata": {
        "id": "zMN1Q3jdwoJm"
      },
      "source": [
        "---"
      ]
    },
    {
      "cell_type": "markdown",
      "metadata": {
        "id": "lxa5L6uF0ZJE"
      },
      "source": [
        "## 2\\. Conjuntos"
      ]
    },
    {
      "cell_type": "markdown",
      "metadata": {
        "id": "9JahS2Kj0d5u"
      },
      "source": [
        "Aconteceu um erro no seu *ranking*. Simule a duplicação dos três últimos filmes da lista. Imprima o resultado."
      ]
    },
    {
      "cell_type": "code",
      "execution_count": 83,
      "metadata": {
        "id": "BnjnLBNC6PGe"
      },
      "outputs": [
        {
          "name": "stdout",
          "output_type": "stream",
          "text": [
            "['O Poderoso Chefão II', 'Um Sonho de Liberdade', 'Batman: O cavaleiro das Trevas', '12 Homens e uma Sentença', 'A lista de Schindler', 'O Senhor dos Anéis: O Retorno do Rei', 'Pulp Fiction: Tempo de Violência', 'O Senhor dos Anéis: A Sociedade do Anel', 'Três Homens em Conflito', 'Pulp Fiction: Tempo de Violência', 'O Senho dos Anéis: A Sociedade do Anel', 'Três Homens em Conflito']\n"
          ]
        }
      ],
      "source": [
        "top_10_filmes = ['O Poderoso Chefão II', 'Um Sonho de Liberdade', 'Batman: O cavaleiro das Trevas', '12 Homens e uma Sentença', 'A lista de Schindler', 'O Senhor dos Anéis: O Retorno do Rei', 'Pulp Fiction: Tempo de Violência', 'O Senhor dos Anéis: A Sociedade do Anel', 'Três Homens em Conflito', 'Pulp Fiction: Tempo de Violência', 'O Senho dos Anéis: A Sociedade do Anel', 'Três Homens em Conflito']\n",
        "print(top_10_filmes)"
      ]
    },
    {
      "cell_type": "markdown",
      "metadata": {
        "id": "suxTfCJB6ZiX"
      },
      "source": [
        "Utiliza a conversão `set` e `list` para remover os valores duplicados. Imprima o resultado. "
      ]
    },
    {
      "cell_type": "code",
      "execution_count": 84,
      "metadata": {
        "id": "ZvUGN-0n6joM"
      },
      "outputs": [
        {
          "name": "stdout",
          "output_type": "stream",
          "text": [
            "['O Senhor dos Anéis: A Sociedade do Anel', 'A lista de Schindler', 'O Poderoso Chefão II', 'Pulp Fiction: Tempo de Violência', 'O Senho dos Anéis: A Sociedade do Anel', 'Três Homens em Conflito', 'Um Sonho de Liberdade', 'Batman: O cavaleiro das Trevas', '12 Homens e uma Sentença', 'O Senhor dos Anéis: O Retorno do Rei']\n"
          ]
        }
      ],
      "source": [
        "top_10_filmes_corrigido = set(list(top_10_filmes))\n",
        "top_10_filmes = list(top_10_filmes_corrigido)\n",
        "print(top_10_filmes)"
      ]
    },
    {
      "cell_type": "markdown",
      "metadata": {
        "id": "ShkK35eQ6pAM"
      },
      "source": [
        "---"
      ]
    },
    {
      "cell_type": "markdown",
      "metadata": {
        "id": "EL_FzmxL6rTv"
      },
      "source": [
        "## 3\\. Dicionários"
      ]
    },
    {
      "cell_type": "markdown",
      "metadata": {
        "id": "i8l0gFqRCpfT"
      },
      "source": [
        "Repita os exercícios da parte 1 (listas). Os elementos da lista `filmes` devem ser dicionários no seguinte formato: `{'nome': <nome-do-filme>, 'ano': <ano do filme>}, 'sinopse': <sinopse do filme>}`. "
      ]
    },
    {
      "cell_type": "code",
      "execution_count": 86,
      "metadata": {},
      "outputs": [
        {
          "name": "stdout",
          "output_type": "stream",
          "text": [
            "{'filme_1': {'nome': 'Um Sonho de Liberdade', 'ano': 1994, 'Sinopse': 'Dois homens presos se reúnem...'}, 'filme_2': {'nome': 'O Poderoso Chefão', 'ano': 1972, 'Sinopse': 'O Patriarca idoso de uma dinastia...'}, 'filme_3': {'nome': 'Batman: O Cavaleiro das Trevas', 'ano': 2008, 'Sinopse': 'Quando a ameaça conhecida como o Coringa...'}, 'filme_4': {'nome': 'O Poderoso Chefão II', 'ano': 1974, 'Sinopse': '...'}, 'filme_5': {'nome': '12 Homens e uma Sentença', 'ano': 1957, 'Sinopse': 'Um jurado que se aposenta tenta evitar...'}, 'filme_6': {'nome': 'A Lista de Schindler', 'ano': 1993, 'Sinopse': 'Depois de testemunhar a perseguição dos judaicos....'}, 'filme_7': {'nome': 'O Senhor dos Anéis: O Retorno do Rei', 'ano': 2003, 'Sinopse': 'Gandalf e Aaragon lideram o Mundo dos Homens...'}, 'filme_8': {'nome': 'Pulp Fiction: Tempo de Violência', 'ano': 1994, 'Sinopse': 'As vidas de dois assassinos da máfia...'}, 'filme_9': {'nome': 'O Senhor dos Anéis: A Sociedade do Anel', 'ano': 2001, 'Sinopse': 'Um manso hobbit do Condado e oito companheiros...'}, 'filme_10': {'nome': 'Três Homens em Conflito', 'ano': 1966, 'Sinopse': 'Um impostor se juna com dois homens...'}}\n"
          ]
        }
      ],
      "source": [
        "top_10_filmes = {\n",
        "    'filme_1':{\n",
        "        'nome': 'Um Sonho de Liberdade',\n",
        "        'ano': 1994,\n",
        "        'Sinopse': 'Dois homens presos se reúnem...'\n",
        "        },\n",
        "    'filme_2':{\n",
        "        'nome': 'O Poderoso Chefão',\n",
        "        'ano': 1972,\n",
        "        'Sinopse': 'O Patriarca idoso de uma dinastia...'\n",
        "    },       \n",
        "    'filme_3':{\n",
        "        'nome': 'Batman: O Cavaleiro das Trevas',\n",
        "        'ano':2008 ,\n",
        "        'Sinopse': 'Quando a ameaça conhecida como o Coringa...'\n",
        "    },\n",
        "     'filme_4':{\n",
        "        'nome': 'O Poderoso Chefão II',\n",
        "        'ano':1974 ,\n",
        "        'Sinopse': '...'\n",
        "    },\n",
        "     'filme_5':{\n",
        "        'nome': '12 Homens e uma Sentença',\n",
        "        'ano':1957 ,\n",
        "        'Sinopse': 'Um jurado que se aposenta tenta evitar...'\n",
        "    },\n",
        "     'filme_6':{\n",
        "        'nome': 'A Lista de Schindler',\n",
        "        'ano':1993 ,\n",
        "        'Sinopse': 'Depois de testemunhar a perseguição dos judaicos....'\n",
        "    },\n",
        "     'filme_7':{\n",
        "        'nome': 'O Senhor dos Anéis: O Retorno do Rei',\n",
        "        'ano':2003,\n",
        "        'Sinopse': 'Gandalf e Aaragon lideram o Mundo dos Homens...'\n",
        "    },\n",
        "     'filme_8':{\n",
        "        'nome': 'Pulp Fiction: Tempo de Violência',\n",
        "        'ano':1994 ,\n",
        "        'Sinopse': 'As vidas de dois assassinos da máfia...'\n",
        "    },\n",
        "     'filme_9':{\n",
        "        'nome': 'O Senhor dos Anéis: A Sociedade do Anel',\n",
        "        'ano':2001 ,\n",
        "        'Sinopse': 'Um manso hobbit do Condado e oito companheiros...'\n",
        "    },\n",
        "     'filme_10':{\n",
        "        'nome': 'Três Homens em Conflito',\n",
        "        'ano':1966 ,\n",
        "        'Sinopse': 'Um impostor se juna com dois homens...'\n",
        "    },\n",
        "    }\n",
        "\n",
        "print(top_10_filmes)"
      ]
    },
    {
      "cell_type": "code",
      "execution_count": null,
      "metadata": {},
      "outputs": [],
      "source": []
    }
  ],
  "metadata": {
    "colab": {
      "collapsed_sections": [],
      "name": "module_2_exercise.ipynb",
      "provenance": [],
      "toc_visible": true
    },
    "interpreter": {
      "hash": "92e90bd6c5a94ac116b32daed143846700409151323ad0aa8c589766ff7ac504"
    },
    "kernelspec": {
      "display_name": "Python 3.10.1 64-bit",
      "language": "python",
      "name": "python3"
    },
    "language_info": {
      "codemirror_mode": {
        "name": "ipython",
        "version": 3
      },
      "file_extension": ".py",
      "mimetype": "text/x-python",
      "name": "python",
      "nbconvert_exporter": "python",
      "pygments_lexer": "ipython3",
      "version": "3.10.1"
    }
  },
  "nbformat": 4,
  "nbformat_minor": 0
}
