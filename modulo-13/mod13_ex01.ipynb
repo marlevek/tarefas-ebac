{
 "cells": [
  {
   "cell_type": "markdown",
   "metadata": {},
   "source": [
    "# EBAC - Regressão II - regressão múltipla\n",
    "\n",
    "## Tarefa I"
   ]
  },
  {
   "cell_type": "markdown",
   "metadata": {},
   "source": [
    "#### Previsão de renda\n",
    "\n",
    "Vamos trabalhar com a base 'previsao_de_renda.csv', que é a base do seu próximo projeto. Vamos usar os recursos que vimos até aqui nesta base.\n",
    "\n",
    "|variavel|descrição|\n",
    "|-|-|\n",
    "|data_ref                | Data de referência de coleta das variáveis |\n",
    "|index                   | Código de identificação do cliente|\n",
    "|sexo                    | Sexo do cliente|\n",
    "|posse_de_veiculo        | Indica se o cliente possui veículo|\n",
    "|posse_de_imovel         | Indica se o cliente possui imóvel|\n",
    "|qtd_filhos              | Quantidade de filhos do cliente|\n",
    "|tipo_renda              | Tipo de renda do cliente|\n",
    "|educacao                | Grau de instrução do cliente|\n",
    "|estado_civil            | Estado civil do cliente|\n",
    "|tipo_residencia         | Tipo de residência do cliente (própria, alugada etc)|\n",
    "|idade                   | Idade do cliente|\n",
    "|tempo_emprego           | Tempo no emprego atual|\n",
    "|qt_pessoas_residencia   | Quantidade de pessoas que moram na residência|\n",
    "|renda                   | Renda em reais|"
   ]
  },
  {
   "cell_type": "code",
   "execution_count": 1,
   "metadata": {},
   "outputs": [],
   "source": [
    "import pandas as pd\n",
    "import numpy as np\n",
    "import patsy\n",
    "import statsmodels.formula.api as smf"
   ]
  },
  {
   "cell_type": "code",
   "execution_count": 2,
   "metadata": {},
   "outputs": [],
   "source": [
    "df = pd.read_csv('previsao_renda.csv')"
   ]
  },
  {
   "cell_type": "code",
   "execution_count": 3,
   "metadata": {},
   "outputs": [
    {
     "name": "stdout",
     "output_type": "stream",
     "text": [
      "<class 'pandas.core.frame.DataFrame'>\n",
      "RangeIndex: 15000 entries, 0 to 14999\n",
      "Data columns (total 14 columns):\n",
      " #   Column                 Non-Null Count  Dtype  \n",
      "---  ------                 --------------  -----  \n",
      " 0   Unnamed: 0             15000 non-null  int64  \n",
      " 1   data_ref               15000 non-null  object \n",
      " 2   sexo                   15000 non-null  object \n",
      " 3   posse_de_veiculo       15000 non-null  bool   \n",
      " 4   posse_de_imovel        15000 non-null  bool   \n",
      " 5   qtd_filhos             15000 non-null  int64  \n",
      " 6   tipo_renda             15000 non-null  object \n",
      " 7   educacao               15000 non-null  object \n",
      " 8   estado_civil           15000 non-null  object \n",
      " 9   tipo_residencia        15000 non-null  object \n",
      " 10  idade                  15000 non-null  int64  \n",
      " 11  tempo_emprego          12466 non-null  float64\n",
      " 12  qt_pessoas_residencia  15000 non-null  float64\n",
      " 13  renda                  15000 non-null  float64\n",
      "dtypes: bool(2), float64(3), int64(3), object(6)\n",
      "memory usage: 1.4+ MB\n"
     ]
    }
   ],
   "source": [
    "df.info()"
   ]
  },
  {
   "cell_type": "markdown",
   "metadata": {},
   "source": [
    "1. Ajuste um modelo para prever log(renda) considerando todas as covariáveis disponíveis.\n",
    "    - Utilizando os recursos do Patsy, coloque as variáveis qualitativas como *dummies*.\n",
    "    - Mantenha sempre a categoria mais frequente como casela de referência\n",
    "    - Avalie os parâmetros e veja se parecem fazer sentido prático.\n",
    "\n",
    "2. Remova a variável menos significante e analise:\n",
    "    - Observe os indicadores que vimos, e avalie se o modelo melhorou ou piorou na sua opinião.\n",
    "    - Observe os parâmetros e veja se algum se alterou muito.\n",
    "\n",
    "3. Siga removendo as variáveis menos significantes, sempre que o *p-value* for menor que 5%. Compare o modelo final com o inicial. Observe os indicadores e conclua se o modelo parece melhor. \n",
    "    "
   ]
  },
  {
   "cell_type": "code",
   "execution_count": 5,
   "metadata": {},
   "outputs": [
    {
     "name": "stdout",
     "output_type": "stream",
     "text": [
      "                            OLS Regression Results                            \n",
      "==============================================================================\n",
      "Dep. Variable:          np.log(renda)   R-squared:                       0.242\n",
      "Model:                            OLS   Adj. R-squared:                  0.240\n",
      "Method:                 Least Squares   F-statistic:                     165.3\n",
      "Date:                Mon, 28 Aug 2023   Prob (F-statistic):               0.00\n",
      "Time:                        11:27:38   Log-Likelihood:                -13204.\n",
      "No. Observations:               12466   AIC:                         2.646e+04\n",
      "Df Residuals:                   12441   BIC:                         2.664e+04\n",
      "Df Model:                          24                                         \n",
      "Covariance Type:            nonrobust                                         \n",
      "=======================================================================================================\n",
      "                                          coef    std err          t      P>|t|      [0.025      0.975]\n",
      "-------------------------------------------------------------------------------------------------------\n",
      "Intercept                               7.2080      0.272     26.527      0.000       6.675       7.741\n",
      "C(sexo)[T.M]                            0.4813      0.014     33.673      0.000       0.453       0.509\n",
      "posse_de_veiculo[T.True]               -0.0012      0.014     -0.087      0.931      -0.028       0.026\n",
      "posse_de_imovel[T.True]                 0.0849      0.014      6.275      0.000       0.058       0.111\n",
      "C(tipo_renda)[T.Bolsista]              -0.0493      0.350     -0.141      0.888      -0.735       0.636\n",
      "C(tipo_renda)[T.Empresário]             0.1786      0.015     12.209      0.000       0.150       0.207\n",
      "C(tipo_renda)[T.Pensionista]            0.3784      0.233      1.623      0.105      -0.079       0.835\n",
      "C(tipo_renda)[T.Servidor público]       0.0950      0.021      4.485      0.000       0.053       0.136\n",
      "C(educacao)[T.Pós graduação]            0.5502      0.175      3.137      0.002       0.206       0.894\n",
      "C(educacao)[T.Secundário]               0.0164      0.071      0.232      0.817      -0.123       0.156\n",
      "C(educacao)[T.Superior completo]        0.1132      0.071      1.587      0.112      -0.027       0.253\n",
      "C(educacao)[T.Superior incompleto]     -0.0097      0.076     -0.127      0.899      -0.159       0.140\n",
      "C(estado_civil)[T.Separado]            -0.0437      0.131     -0.334      0.738      -0.300       0.213\n",
      "C(estado_civil)[T.Solteiro]             0.0169      0.128      0.131      0.895      -0.235       0.269\n",
      "C(estado_civil)[T.União]               -0.0259      0.023     -1.110      0.267      -0.072       0.020\n",
      "C(estado_civil)[T.Viúvo]               -0.0422      0.134     -0.314      0.753      -0.306       0.221\n",
      "C(tipo_residencia)[T.Casa]              0.0148      0.053      0.278      0.781      -0.090       0.119\n",
      "C(tipo_residencia)[T.Com os pais]      -0.0572      0.060     -0.957      0.339      -0.174       0.060\n",
      "C(tipo_residencia)[T.Comunitário]       0.0575      0.103      0.559      0.576      -0.144       0.259\n",
      "C(tipo_residencia)[T.Estúdio]          -0.1094      0.089     -1.232      0.218      -0.283       0.065\n",
      "C(tipo_residencia)[T.Governamental]    -0.0563      0.064     -0.873      0.382      -0.183       0.070\n",
      "qtd_filhos                              0.0087      0.128      0.068      0.946      -0.242       0.260\n",
      "idade                                   0.0052      0.001      6.625      0.000       0.004       0.007\n",
      "tempo_emprego                           0.0482      0.001     48.426      0.000       0.046       0.050\n",
      "qt_pessoas_residencia                   0.0073      0.128      0.057      0.955      -0.243       0.258\n",
      "==============================================================================\n",
      "Omnibus:                        1.155   Durbin-Watson:                   2.015\n",
      "Prob(Omnibus):                  0.561   Jarque-Bera (JB):                1.126\n",
      "Skew:                          -0.011   Prob(JB):                        0.569\n",
      "Kurtosis:                       3.041   Cond. No.                     2.65e+03\n",
      "==============================================================================\n",
      "\n",
      "Notes:\n",
      "[1] Standard Errors assume that the covariance matrix of the errors is correctly specified.\n",
      "[2] The condition number is large, 2.65e+03. This might indicate that there are\n",
      "strong multicollinearity or other numerical problems.\n"
     ]
    }
   ],
   "source": [
    "# Ajustar modelo em log(renda)\n",
    "modelo_inicial = smf.ols('np.log(renda) ~ C(sexo) + posse_de_veiculo + posse_de_imovel + qtd_filhos + C(tipo_renda) + C(educacao) + C(estado_civil) + C(tipo_residencia) + idade + tempo_emprego + qt_pessoas_residencia', data=df).fit()\n",
    "print(modelo_inicial.summary())"
   ]
  },
  {
   "cell_type": "markdown",
   "metadata": {},
   "source": [
    "Usando 'Pós graduação' como caserna de referência:"
   ]
  },
  {
   "cell_type": "code",
   "execution_count": 7,
   "metadata": {},
   "outputs": [
    {
     "name": "stdout",
     "output_type": "stream",
     "text": [
      "                            OLS Regression Results                            \n",
      "==============================================================================\n",
      "Dep. Variable:          np.log(renda)   R-squared:                       0.242\n",
      "Model:                            OLS   Adj. R-squared:                  0.240\n",
      "Method:                 Least Squares   F-statistic:                     165.3\n",
      "Date:                Mon, 28 Aug 2023   Prob (F-statistic):               0.00\n",
      "Time:                        11:34:46   Log-Likelihood:                -13204.\n",
      "No. Observations:               12466   AIC:                         2.646e+04\n",
      "Df Residuals:                   12441   BIC:                         2.664e+04\n",
      "Df Model:                          24                                         \n",
      "Covariance Type:            nonrobust                                         \n",
      "==================================================================================================================================\n",
      "                                                                     coef    std err          t      P>|t|      [0.025      0.975]\n",
      "----------------------------------------------------------------------------------------------------------------------------------\n",
      "Intercept                                                          7.7582      0.308     25.200      0.000       7.155       8.362\n",
      "C(sexo)[T.M]                                                       0.4813      0.014     33.673      0.000       0.453       0.509\n",
      "posse_de_veiculo[T.True]                                          -0.0012      0.014     -0.087      0.931      -0.028       0.026\n",
      "posse_de_imovel[T.True]                                            0.0849      0.014      6.275      0.000       0.058       0.111\n",
      "C(tipo_renda)[T.Bolsista]                                         -0.0493      0.350     -0.141      0.888      -0.735       0.636\n",
      "C(tipo_renda)[T.Empresário]                                        0.1786      0.015     12.209      0.000       0.150       0.207\n",
      "C(tipo_renda)[T.Pensionista]                                       0.3784      0.233      1.623      0.105      -0.079       0.835\n",
      "C(tipo_renda)[T.Servidor público]                                  0.0950      0.021      4.485      0.000       0.053       0.136\n",
      "C(educacao, Treatment(\"Pós graduação\"))[T.Primário]               -0.5502      0.175     -3.137      0.002      -0.894      -0.206\n",
      "C(educacao, Treatment(\"Pós graduação\"))[T.Secundário]             -0.5338      0.161     -3.321      0.001      -0.849      -0.219\n",
      "C(educacao, Treatment(\"Pós graduação\"))[T.Superior completo]      -0.4370      0.161     -2.718      0.007      -0.752      -0.122\n",
      "C(educacao, Treatment(\"Pós graduação\"))[T.Superior incompleto]    -0.5599      0.163     -3.430      0.001      -0.880      -0.240\n",
      "C(estado_civil)[T.Separado]                                       -0.0437      0.131     -0.334      0.738      -0.300       0.213\n",
      "C(estado_civil)[T.Solteiro]                                        0.0169      0.128      0.131      0.895      -0.235       0.269\n",
      "C(estado_civil)[T.União]                                          -0.0259      0.023     -1.110      0.267      -0.072       0.020\n",
      "C(estado_civil)[T.Viúvo]                                          -0.0422      0.134     -0.314      0.753      -0.306       0.221\n",
      "C(tipo_residencia)[T.Casa]                                         0.0148      0.053      0.278      0.781      -0.090       0.119\n",
      "C(tipo_residencia)[T.Com os pais]                                 -0.0572      0.060     -0.957      0.339      -0.174       0.060\n",
      "C(tipo_residencia)[T.Comunitário]                                  0.0575      0.103      0.559      0.576      -0.144       0.259\n",
      "C(tipo_residencia)[T.Estúdio]                                     -0.1094      0.089     -1.232      0.218      -0.283       0.065\n",
      "C(tipo_residencia)[T.Governamental]                               -0.0563      0.064     -0.873      0.382      -0.183       0.070\n",
      "qtd_filhos                                                         0.0087      0.128      0.068      0.946      -0.242       0.260\n",
      "idade                                                              0.0052      0.001      6.625      0.000       0.004       0.007\n",
      "tempo_emprego                                                      0.0482      0.001     48.426      0.000       0.046       0.050\n",
      "qt_pessoas_residencia                                              0.0073      0.128      0.057      0.955      -0.243       0.258\n",
      "==============================================================================\n",
      "Omnibus:                        1.155   Durbin-Watson:                   2.015\n",
      "Prob(Omnibus):                  0.561   Jarque-Bera (JB):                1.126\n",
      "Skew:                          -0.011   Prob(JB):                        0.569\n",
      "Kurtosis:                       3.041   Cond. No.                     2.91e+03\n",
      "==============================================================================\n",
      "\n",
      "Notes:\n",
      "[1] Standard Errors assume that the covariance matrix of the errors is correctly specified.\n",
      "[2] The condition number is large, 2.91e+03. This might indicate that there are\n",
      "strong multicollinearity or other numerical problems.\n"
     ]
    }
   ],
   "source": [
    "modelo2 = smf.ols('np.log(renda) ~ C(sexo) + posse_de_veiculo + posse_de_imovel + qtd_filhos + C(tipo_renda) + C(educacao, Treatment(\"Pós graduação\")) + C(estado_civil) + C(tipo_residencia) + idade + tempo_emprego + qt_pessoas_residencia', data=df).fit()\n",
    "print(modelo2.summary())"
   ]
  },
  {
   "cell_type": "code",
   "execution_count": 8,
   "metadata": {},
   "outputs": [
    {
     "name": "stdout",
     "output_type": "stream",
     "text": [
      "                            OLS Regression Results                            \n",
      "==============================================================================\n",
      "Dep. Variable:          np.log(renda)   R-squared:                       0.242\n",
      "Model:                            OLS   Adj. R-squared:                  0.240\n",
      "Method:                 Least Squares   F-statistic:                     172.5\n",
      "Date:                Mon, 28 Aug 2023   Prob (F-statistic):               0.00\n",
      "Time:                        11:39:35   Log-Likelihood:                -13204.\n",
      "No. Observations:               12466   AIC:                         2.646e+04\n",
      "Df Residuals:                   12442   BIC:                         2.663e+04\n",
      "Df Model:                          23                                         \n",
      "Covariance Type:            nonrobust                                         \n",
      "==================================================================================================================================\n",
      "                                                                     coef    std err          t      P>|t|      [0.025      0.975]\n",
      "----------------------------------------------------------------------------------------------------------------------------------\n",
      "Intercept                                                          7.7575      0.308     25.209      0.000       7.154       8.361\n",
      "C(sexo)[T.M]                                                       0.4809      0.014     35.604      0.000       0.454       0.507\n",
      "posse_de_imovel[T.True]                                            0.0849      0.014      6.275      0.000       0.058       0.111\n",
      "C(tipo_renda)[T.Bolsista]                                         -0.0489      0.350     -0.140      0.889      -0.734       0.636\n",
      "C(tipo_renda)[T.Empresário]                                        0.1785      0.015     12.211      0.000       0.150       0.207\n",
      "C(tipo_renda)[T.Pensionista]                                       0.3782      0.233      1.622      0.105      -0.079       0.835\n",
      "C(tipo_renda)[T.Servidor público]                                  0.0950      0.021      4.486      0.000       0.053       0.136\n",
      "C(educacao, Treatment(\"Pós graduação\"))[T.Primário]               -0.5498      0.175     -3.136      0.002      -0.893      -0.206\n",
      "C(educacao, Treatment(\"Pós graduação\"))[T.Secundário]             -0.5334      0.161     -3.320      0.001      -0.848      -0.218\n",
      "C(educacao, Treatment(\"Pós graduação\"))[T.Superior completo]      -0.4368      0.161     -2.717      0.007      -0.752      -0.122\n",
      "C(educacao, Treatment(\"Pós graduação\"))[T.Superior incompleto]    -0.5596      0.163     -3.429      0.001      -0.879      -0.240\n",
      "C(estado_civil)[T.Separado]                                       -0.0435      0.131     -0.333      0.739      -0.300       0.213\n",
      "C(estado_civil)[T.Solteiro]                                        0.0171      0.128      0.133      0.894      -0.235       0.269\n",
      "C(estado_civil)[T.União]                                          -0.0258      0.023     -1.107      0.268      -0.071       0.020\n",
      "C(estado_civil)[T.Viúvo]                                          -0.0421      0.134     -0.313      0.754      -0.305       0.221\n",
      "C(tipo_residencia)[T.Casa]                                         0.0148      0.053      0.277      0.782      -0.090       0.119\n",
      "C(tipo_residencia)[T.Com os pais]                                 -0.0572      0.060     -0.957      0.339      -0.174       0.060\n",
      "C(tipo_residencia)[T.Comunitário]                                  0.0574      0.103      0.558      0.577      -0.144       0.259\n",
      "C(tipo_residencia)[T.Estúdio]                                     -0.1095      0.089     -1.233      0.218      -0.284       0.065\n",
      "C(tipo_residencia)[T.Governamental]                               -0.0563      0.064     -0.874      0.382      -0.183       0.070\n",
      "qtd_filhos                                                         0.0087      0.128      0.068      0.946      -0.242       0.260\n",
      "idade                                                              0.0052      0.001      6.628      0.000       0.004       0.007\n",
      "tempo_emprego                                                      0.0482      0.001     48.448      0.000       0.046       0.050\n",
      "qt_pessoas_residencia                                              0.0073      0.128      0.057      0.954      -0.243       0.258\n",
      "==============================================================================\n",
      "Omnibus:                        1.148   Durbin-Watson:                   2.015\n",
      "Prob(Omnibus):                  0.563   Jarque-Bera (JB):                1.119\n",
      "Skew:                          -0.011   Prob(JB):                        0.572\n",
      "Kurtosis:                       3.041   Cond. No.                     2.91e+03\n",
      "==============================================================================\n",
      "\n",
      "Notes:\n",
      "[1] Standard Errors assume that the covariance matrix of the errors is correctly specified.\n",
      "[2] The condition number is large, 2.91e+03. This might indicate that there are\n",
      "strong multicollinearity or other numerical problems.\n"
     ]
    }
   ],
   "source": [
    "# Removendo a variável posse_de_veiculo\n",
    "modelo3 = smf.ols('np.log(renda) ~ C(sexo) + posse_de_imovel + qtd_filhos + C(tipo_renda) + C(educacao, Treatment(\"Pós graduação\")) + C(estado_civil) + C(tipo_residencia) + idade + tempo_emprego + qt_pessoas_residencia', data=df).fit()\n",
    "print(modelo3.summary())\n"
   ]
  },
  {
   "cell_type": "code",
   "execution_count": 9,
   "metadata": {},
   "outputs": [
    {
     "name": "stdout",
     "output_type": "stream",
     "text": [
      "                            OLS Regression Results                            \n",
      "==============================================================================\n",
      "Dep. Variable:          np.log(renda)   R-squared:                       0.242\n",
      "Model:                            OLS   Adj. R-squared:                  0.240\n",
      "Method:                 Least Squares   F-statistic:                     180.4\n",
      "Date:                Mon, 28 Aug 2023   Prob (F-statistic):               0.00\n",
      "Time:                        11:40:21   Log-Likelihood:                -13204.\n",
      "No. Observations:               12466   AIC:                         2.645e+04\n",
      "Df Residuals:                   12443   BIC:                         2.662e+04\n",
      "Df Model:                          22                                         \n",
      "Covariance Type:            nonrobust                                         \n",
      "==================================================================================================================================\n",
      "                                                                     coef    std err          t      P>|t|      [0.025      0.975]\n",
      "----------------------------------------------------------------------------------------------------------------------------------\n",
      "Intercept                                                          7.7720      0.172     45.062      0.000       7.434       8.110\n",
      "C(sexo)[T.M]                                                       0.4809      0.014     35.607      0.000       0.454       0.507\n",
      "posse_de_imovel[T.True]                                            0.0849      0.014      6.275      0.000       0.058       0.111\n",
      "C(tipo_renda)[T.Bolsista]                                         -0.0489      0.350     -0.140      0.889      -0.734       0.636\n",
      "C(tipo_renda)[T.Empresário]                                        0.1785      0.015     12.212      0.000       0.150       0.207\n",
      "C(tipo_renda)[T.Pensionista]                                       0.3782      0.233      1.622      0.105      -0.079       0.835\n",
      "C(tipo_renda)[T.Servidor público]                                  0.0950      0.021      4.487      0.000       0.053       0.136\n",
      "C(educacao, Treatment(\"Pós graduação\"))[T.Primário]               -0.5498      0.175     -3.136      0.002      -0.893      -0.206\n",
      "C(educacao, Treatment(\"Pós graduação\"))[T.Secundário]             -0.5334      0.161     -3.320      0.001      -0.848      -0.218\n",
      "C(educacao, Treatment(\"Pós graduação\"))[T.Superior completo]      -0.4368      0.161     -2.717      0.007      -0.752      -0.122\n",
      "C(educacao, Treatment(\"Pós graduação\"))[T.Superior incompleto]    -0.5596      0.163     -3.429      0.001      -0.879      -0.240\n",
      "C(estado_civil)[T.Separado]                                       -0.0508      0.028     -1.843      0.065      -0.105       0.003\n",
      "C(estado_civil)[T.Solteiro]                                        0.0098      0.020      0.493      0.622      -0.029       0.049\n",
      "C(estado_civil)[T.União]                                          -0.0258      0.023     -1.108      0.268      -0.071       0.020\n",
      "C(estado_civil)[T.Viúvo]                                          -0.0494      0.041     -1.214      0.225      -0.129       0.030\n",
      "C(tipo_residencia)[T.Casa]                                         0.0148      0.053      0.277      0.781      -0.090       0.119\n",
      "C(tipo_residencia)[T.Com os pais]                                 -0.0572      0.060     -0.957      0.339      -0.174       0.060\n",
      "C(tipo_residencia)[T.Comunitário]                                  0.0574      0.103      0.558      0.577      -0.144       0.259\n",
      "C(tipo_residencia)[T.Estúdio]                                     -0.1095      0.089     -1.233      0.218      -0.284       0.065\n",
      "C(tipo_residencia)[T.Governamental]                               -0.0563      0.064     -0.874      0.382      -0.183       0.070\n",
      "qtd_filhos                                                         0.0160      0.008      1.919      0.055      -0.000       0.032\n",
      "idade                                                              0.0052      0.001      6.631      0.000       0.004       0.007\n",
      "tempo_emprego                                                      0.0482      0.001     48.460      0.000       0.046       0.050\n",
      "==============================================================================\n",
      "Omnibus:                        1.147   Durbin-Watson:                   2.015\n",
      "Prob(Omnibus):                  0.564   Jarque-Bera (JB):                1.118\n",
      "Skew:                          -0.011   Prob(JB):                        0.572\n",
      "Kurtosis:                       3.041   Cond. No.                     2.46e+03\n",
      "==============================================================================\n",
      "\n",
      "Notes:\n",
      "[1] Standard Errors assume that the covariance matrix of the errors is correctly specified.\n",
      "[2] The condition number is large, 2.46e+03. This might indicate that there are\n",
      "strong multicollinearity or other numerical problems.\n"
     ]
    }
   ],
   "source": [
    "# Removendo qt_pessoas_residencia\n",
    "modelo4 = smf.ols('np.log(renda) ~ C(sexo) + posse_de_imovel + qtd_filhos + C(tipo_renda) + C(educacao, Treatment(\"Pós graduação\")) + C(estado_civil) + C(tipo_residencia) + idade + tempo_emprego', data=df).fit()\n",
    "print(modelo4.summary())"
   ]
  },
  {
   "cell_type": "code",
   "execution_count": 10,
   "metadata": {},
   "outputs": [
    {
     "name": "stdout",
     "output_type": "stream",
     "text": [
      "                            OLS Regression Results                            \n",
      "==============================================================================\n",
      "Dep. Variable:          np.log(renda)   R-squared:                       0.232\n",
      "Model:                            OLS   Adj. R-squared:                  0.231\n",
      "Method:                 Least Squares   F-statistic:                     209.3\n",
      "Date:                Mon, 28 Aug 2023   Prob (F-statistic):               0.00\n",
      "Time:                        11:41:53   Log-Likelihood:                -13281.\n",
      "No. Observations:               12466   AIC:                         2.660e+04\n",
      "Df Residuals:                   12447   BIC:                         2.674e+04\n",
      "Df Model:                          18                                         \n",
      "Covariance Type:            nonrobust                                         \n",
      "==================================================================================================================================\n",
      "                                                                     coef    std err          t      P>|t|      [0.025      0.975]\n",
      "----------------------------------------------------------------------------------------------------------------------------------\n",
      "Intercept                                                          7.8692      0.173     45.401      0.000       7.529       8.209\n",
      "C(sexo)[T.M]                                                       0.4745      0.014     34.990      0.000       0.448       0.501\n",
      "posse_de_imovel[T.True]                                            0.0855      0.014      6.285      0.000       0.059       0.112\n",
      "C(educacao, Treatment(\"Pós graduação\"))[T.Primário]               -0.6024      0.176     -3.417      0.001      -0.948      -0.257\n",
      "C(educacao, Treatment(\"Pós graduação\"))[T.Secundário]             -0.5722      0.162     -3.541      0.000      -0.889      -0.255\n",
      "C(educacao, Treatment(\"Pós graduação\"))[T.Superior completo]      -0.4603      0.162     -2.847      0.004      -0.777      -0.143\n",
      "C(educacao, Treatment(\"Pós graduação\"))[T.Superior incompleto]    -0.5876      0.164     -3.580      0.000      -0.909      -0.266\n",
      "C(estado_civil)[T.Separado]                                       -0.0494      0.028     -1.783      0.075      -0.104       0.005\n",
      "C(estado_civil)[T.Solteiro]                                        0.0156      0.020      0.781      0.435      -0.024       0.055\n",
      "C(estado_civil)[T.União]                                          -0.0150      0.023     -0.640      0.522      -0.061       0.031\n",
      "C(estado_civil)[T.Viúvo]                                          -0.0651      0.041     -1.590      0.112      -0.145       0.015\n",
      "C(tipo_residencia)[T.Casa]                                         0.0167      0.054      0.311      0.755      -0.088       0.122\n",
      "C(tipo_residencia)[T.Com os pais]                                 -0.0603      0.060     -1.003      0.316      -0.178       0.058\n",
      "C(tipo_residencia)[T.Comunitário]                                  0.0364      0.103      0.352      0.725      -0.166       0.239\n",
      "C(tipo_residencia)[T.Estúdio]                                     -0.0849      0.089     -0.952      0.341      -0.260       0.090\n",
      "C(tipo_residencia)[T.Governamental]                               -0.0567      0.065     -0.875      0.382      -0.184       0.070\n",
      "qtd_filhos                                                         0.0140      0.008      1.665      0.096      -0.002       0.030\n",
      "idade                                                              0.0051      0.001      6.523      0.000       0.004       0.007\n",
      "tempo_emprego                                                      0.0477      0.001     48.134      0.000       0.046       0.050\n",
      "==============================================================================\n",
      "Omnibus:                        1.031   Durbin-Watson:                   2.013\n",
      "Prob(Omnibus):                  0.597   Jarque-Bera (JB):                1.007\n",
      "Skew:                           0.001   Prob(JB):                        0.605\n",
      "Kurtosis:                       3.044   Cond. No.                     2.46e+03\n",
      "==============================================================================\n",
      "\n",
      "Notes:\n",
      "[1] Standard Errors assume that the covariance matrix of the errors is correctly specified.\n",
      "[2] The condition number is large, 2.46e+03. This might indicate that there are\n",
      "strong multicollinearity or other numerical problems.\n"
     ]
    }
   ],
   "source": [
    "# Removendo tipo_renda\n",
    "modelo5 = smf.ols('np.log(renda) ~ C(sexo) + posse_de_imovel + qtd_filhos + C(educacao, Treatment(\"Pós graduação\")) + C(estado_civil) + C(tipo_residencia) + idade + tempo_emprego', data=df).fit()\n",
    "print(modelo5.summary())"
   ]
  },
  {
   "cell_type": "code",
   "execution_count": 11,
   "metadata": {},
   "outputs": [
    {
     "name": "stdout",
     "output_type": "stream",
     "text": [
      "                            OLS Regression Results                            \n",
      "==============================================================================\n",
      "Dep. Variable:          np.log(renda)   R-squared:                       0.232\n",
      "Model:                            OLS   Adj. R-squared:                  0.231\n",
      "Method:                 Least Squares   F-statistic:                     288.7\n",
      "Date:                Mon, 28 Aug 2023   Prob (F-statistic):               0.00\n",
      "Time:                        11:42:49   Log-Likelihood:                -13287.\n",
      "No. Observations:               12466   AIC:                         2.660e+04\n",
      "Df Residuals:                   12452   BIC:                         2.671e+04\n",
      "Df Model:                          13                                         \n",
      "Covariance Type:            nonrobust                                         \n",
      "==================================================================================================================================\n",
      "                                                                     coef    std err          t      P>|t|      [0.025      0.975]\n",
      "----------------------------------------------------------------------------------------------------------------------------------\n",
      "Intercept                                                          7.8679      0.165     47.643      0.000       7.544       8.192\n",
      "C(sexo)[T.M]                                                       0.4737      0.014     35.049      0.000       0.447       0.500\n",
      "posse_de_imovel[T.True]                                            0.0947      0.013      7.112      0.000       0.069       0.121\n",
      "C(educacao, Treatment(\"Pós graduação\"))[T.Primário]               -0.6119      0.176     -3.471      0.001      -0.957      -0.266\n",
      "C(educacao, Treatment(\"Pós graduação\"))[T.Secundário]             -0.5765      0.162     -3.567      0.000      -0.893      -0.260\n",
      "C(educacao, Treatment(\"Pós graduação\"))[T.Superior completo]      -0.4643      0.162     -2.871      0.004      -0.781      -0.147\n",
      "C(educacao, Treatment(\"Pós graduação\"))[T.Superior incompleto]    -0.5923      0.164     -3.608      0.000      -0.914      -0.270\n",
      "C(estado_civil)[T.Separado]                                       -0.0512      0.028     -1.848      0.065      -0.106       0.003\n",
      "C(estado_civil)[T.Solteiro]                                        0.0125      0.020      0.625      0.532      -0.027       0.052\n",
      "C(estado_civil)[T.União]                                          -0.0162      0.023     -0.692      0.489      -0.062       0.030\n",
      "C(estado_civil)[T.Viúvo]                                          -0.0656      0.041     -1.602      0.109      -0.146       0.015\n",
      "qtd_filhos                                                         0.0140      0.008      1.672      0.094      -0.002       0.030\n",
      "idade                                                              0.0054      0.001      6.907      0.000       0.004       0.007\n",
      "tempo_emprego                                                      0.0477      0.001     48.173      0.000       0.046       0.050\n",
      "==============================================================================\n",
      "Omnibus:                        0.943   Durbin-Watson:                   2.013\n",
      "Prob(Omnibus):                  0.624   Jarque-Bera (JB):                0.915\n",
      "Skew:                           0.001   Prob(JB):                        0.633\n",
      "Kurtosis:                       3.042   Cond. No.                     2.46e+03\n",
      "==============================================================================\n",
      "\n",
      "Notes:\n",
      "[1] Standard Errors assume that the covariance matrix of the errors is correctly specified.\n",
      "[2] The condition number is large, 2.46e+03. This might indicate that there are\n",
      "strong multicollinearity or other numerical problems.\n"
     ]
    }
   ],
   "source": [
    "# Removendo tipo_residencia\n",
    "modelo6 = smf.ols('np.log(renda) ~ C(sexo) + posse_de_imovel + qtd_filhos + C(educacao, Treatment(\"Pós graduação\")) + C(estado_civil) + idade + tempo_emprego', data=df).fit()\n",
    "print(modelo6.summary())"
   ]
  },
  {
   "cell_type": "code",
   "execution_count": 12,
   "metadata": {},
   "outputs": [
    {
     "name": "stdout",
     "output_type": "stream",
     "text": [
      "                            OLS Regression Results                            \n",
      "==============================================================================\n",
      "Dep. Variable:          np.log(renda)   R-squared:                       0.231\n",
      "Model:                            OLS   Adj. R-squared:                  0.231\n",
      "Method:                 Least Squares   F-statistic:                     416.2\n",
      "Date:                Mon, 28 Aug 2023   Prob (F-statistic):               0.00\n",
      "Time:                        11:43:16   Log-Likelihood:                -13291.\n",
      "No. Observations:               12466   AIC:                         2.660e+04\n",
      "Df Residuals:                   12456   BIC:                         2.668e+04\n",
      "Df Model:                           9                                         \n",
      "Covariance Type:            nonrobust                                         \n",
      "==================================================================================================================================\n",
      "                                                                     coef    std err          t      P>|t|      [0.025      0.975]\n",
      "----------------------------------------------------------------------------------------------------------------------------------\n",
      "Intercept                                                          7.8811      0.165     47.851      0.000       7.558       8.204\n",
      "C(sexo)[T.M]                                                       0.4776      0.013     35.717      0.000       0.451       0.504\n",
      "posse_de_imovel[T.True]                                            0.0954      0.013      7.170      0.000       0.069       0.122\n",
      "C(educacao, Treatment(\"Pós graduação\"))[T.Primário]               -0.6239      0.176     -3.541      0.000      -0.969      -0.278\n",
      "C(educacao, Treatment(\"Pós graduação\"))[T.Secundário]             -0.5839      0.162     -3.612      0.000      -0.901      -0.267\n",
      "C(educacao, Treatment(\"Pós graduação\"))[T.Superior completo]      -0.4719      0.162     -2.918      0.004      -0.789      -0.155\n",
      "C(educacao, Treatment(\"Pós graduação\"))[T.Superior incompleto]    -0.5986      0.164     -3.647      0.000      -0.920      -0.277\n",
      "qtd_filhos                                                         0.0132      0.008      1.610      0.107      -0.003       0.029\n",
      "idade                                                              0.0051      0.001      6.668      0.000       0.004       0.007\n",
      "tempo_emprego                                                      0.0478      0.001     48.327      0.000       0.046       0.050\n",
      "==============================================================================\n",
      "Omnibus:                        0.818   Durbin-Watson:                   2.013\n",
      "Prob(Omnibus):                  0.664   Jarque-Bera (JB):                0.788\n",
      "Skew:                           0.001   Prob(JB):                        0.674\n",
      "Kurtosis:                       3.039   Cond. No.                     2.45e+03\n",
      "==============================================================================\n",
      "\n",
      "Notes:\n",
      "[1] Standard Errors assume that the covariance matrix of the errors is correctly specified.\n",
      "[2] The condition number is large, 2.45e+03. This might indicate that there are\n",
      "strong multicollinearity or other numerical problems.\n"
     ]
    }
   ],
   "source": [
    "# Removendo estado_civil\n",
    "modelo6 = smf.ols('np.log(renda) ~ C(sexo) + posse_de_imovel + qtd_filhos + C(educacao, Treatment(\"Pós graduação\")) + idade + tempo_emprego', data=df).fit()\n",
    "print(modelo6.summary())"
   ]
  },
  {
   "cell_type": "markdown",
   "metadata": {},
   "source": [
    "#### Conclusão:\n",
    "Mantendo educação('Pós graduaçao') como referência, notamos que não muita diferença entre o modelo inicial e os modelos 2, 3 e 4.  Nenhum dos modelos apresenta uma melhoria substancial em relação aos outros em termos de métricas de ajuste (R-squared, Adj. R-squared, F-statistic, AIC).  Portanto a opção recai sobre o modelo mais simples, o modelo 4. Ele possui menos variáveis independentes em comparação com os outros modelos, devido à exclusão das categorias menos significativas das variáveis relacionadas ao estado civil (C(estado_civil)) e à quantidade de filhos (qtd_filhos).\n"
   ]
  }
 ],
 "metadata": {
  "kernelspec": {
   "display_name": "Python 3",
   "language": "python",
   "name": "python3"
  },
  "language_info": {
   "codemirror_mode": {
    "name": "ipython",
    "version": 3
   },
   "file_extension": ".py",
   "mimetype": "text/x-python",
   "name": "python",
   "nbconvert_exporter": "python",
   "pygments_lexer": "ipython3",
   "version": "3.10.1"
  }
 },
 "nbformat": 4,
 "nbformat_minor": 4
}
