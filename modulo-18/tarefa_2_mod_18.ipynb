{
 "cells": [
  {
   "cell_type": "markdown",
   "metadata": {},
   "source": [
    "# Regressão Logística I\n",
    "## Tarefa II\n",
    "\n",
    "Vamos trabalhar com a mesma base do exercício anterior, mas vamos aprofundar um pouco mais a nossa regressão."
   ]
  },
  {
   "cell_type": "code",
   "execution_count": 1,
   "metadata": {},
   "outputs": [],
   "source": [
    "import pandas as pd\n",
    "import seaborn as sns\n",
    "import matplotlib.pyplot as plt\n",
    "import numpy as np\n",
    "\n",
    "import statsmodels.formula.api as smf"
   ]
  },
  {
   "cell_type": "code",
   "execution_count": 2,
   "metadata": {
    "tags": []
   },
   "outputs": [
    {
     "data": {
      "text/html": [
       "<div>\n",
       "<style scoped>\n",
       "    .dataframe tbody tr th:only-of-type {\n",
       "        vertical-align: middle;\n",
       "    }\n",
       "\n",
       "    .dataframe tbody tr th {\n",
       "        vertical-align: top;\n",
       "    }\n",
       "\n",
       "    .dataframe thead th {\n",
       "        text-align: right;\n",
       "    }\n",
       "</style>\n",
       "<table border=\"1\" class=\"dataframe\">\n",
       "  <thead>\n",
       "    <tr style=\"text-align: right;\">\n",
       "      <th></th>\n",
       "      <th>age</th>\n",
       "      <th>sex</th>\n",
       "      <th>cp</th>\n",
       "      <th>trestbps</th>\n",
       "      <th>chol</th>\n",
       "      <th>fbs</th>\n",
       "      <th>restecg</th>\n",
       "      <th>thalach</th>\n",
       "      <th>exang</th>\n",
       "      <th>oldpeak</th>\n",
       "      <th>slope</th>\n",
       "      <th>ca</th>\n",
       "      <th>thal</th>\n",
       "      <th>num</th>\n",
       "      <th>flag_doente</th>\n",
       "    </tr>\n",
       "  </thead>\n",
       "  <tbody>\n",
       "    <tr>\n",
       "      <th>0</th>\n",
       "      <td>63.0</td>\n",
       "      <td>1.0</td>\n",
       "      <td>1.0</td>\n",
       "      <td>145.0</td>\n",
       "      <td>233.0</td>\n",
       "      <td>1.0</td>\n",
       "      <td>2.0</td>\n",
       "      <td>150.0</td>\n",
       "      <td>0.0</td>\n",
       "      <td>2.3</td>\n",
       "      <td>3.0</td>\n",
       "      <td>0.0</td>\n",
       "      <td>6.0</td>\n",
       "      <td>0</td>\n",
       "      <td>0</td>\n",
       "    </tr>\n",
       "    <tr>\n",
       "      <th>1</th>\n",
       "      <td>67.0</td>\n",
       "      <td>1.0</td>\n",
       "      <td>4.0</td>\n",
       "      <td>160.0</td>\n",
       "      <td>286.0</td>\n",
       "      <td>0.0</td>\n",
       "      <td>2.0</td>\n",
       "      <td>108.0</td>\n",
       "      <td>1.0</td>\n",
       "      <td>1.5</td>\n",
       "      <td>2.0</td>\n",
       "      <td>3.0</td>\n",
       "      <td>3.0</td>\n",
       "      <td>2</td>\n",
       "      <td>1</td>\n",
       "    </tr>\n",
       "    <tr>\n",
       "      <th>2</th>\n",
       "      <td>67.0</td>\n",
       "      <td>1.0</td>\n",
       "      <td>4.0</td>\n",
       "      <td>120.0</td>\n",
       "      <td>229.0</td>\n",
       "      <td>0.0</td>\n",
       "      <td>2.0</td>\n",
       "      <td>129.0</td>\n",
       "      <td>1.0</td>\n",
       "      <td>2.6</td>\n",
       "      <td>2.0</td>\n",
       "      <td>2.0</td>\n",
       "      <td>7.0</td>\n",
       "      <td>1</td>\n",
       "      <td>1</td>\n",
       "    </tr>\n",
       "    <tr>\n",
       "      <th>3</th>\n",
       "      <td>37.0</td>\n",
       "      <td>1.0</td>\n",
       "      <td>3.0</td>\n",
       "      <td>130.0</td>\n",
       "      <td>250.0</td>\n",
       "      <td>0.0</td>\n",
       "      <td>0.0</td>\n",
       "      <td>187.0</td>\n",
       "      <td>0.0</td>\n",
       "      <td>3.5</td>\n",
       "      <td>3.0</td>\n",
       "      <td>0.0</td>\n",
       "      <td>3.0</td>\n",
       "      <td>0</td>\n",
       "      <td>0</td>\n",
       "    </tr>\n",
       "    <tr>\n",
       "      <th>4</th>\n",
       "      <td>41.0</td>\n",
       "      <td>0.0</td>\n",
       "      <td>2.0</td>\n",
       "      <td>130.0</td>\n",
       "      <td>204.0</td>\n",
       "      <td>0.0</td>\n",
       "      <td>2.0</td>\n",
       "      <td>172.0</td>\n",
       "      <td>0.0</td>\n",
       "      <td>1.4</td>\n",
       "      <td>1.0</td>\n",
       "      <td>0.0</td>\n",
       "      <td>3.0</td>\n",
       "      <td>0</td>\n",
       "      <td>0</td>\n",
       "    </tr>\n",
       "  </tbody>\n",
       "</table>\n",
       "</div>"
      ],
      "text/plain": [
       "    age  sex   cp  trestbps   chol  fbs  restecg  thalach  exang  oldpeak  \\\n",
       "0  63.0  1.0  1.0     145.0  233.0  1.0      2.0    150.0    0.0      2.3   \n",
       "1  67.0  1.0  4.0     160.0  286.0  0.0      2.0    108.0    1.0      1.5   \n",
       "2  67.0  1.0  4.0     120.0  229.0  0.0      2.0    129.0    1.0      2.6   \n",
       "3  37.0  1.0  3.0     130.0  250.0  0.0      0.0    187.0    0.0      3.5   \n",
       "4  41.0  0.0  2.0     130.0  204.0  0.0      2.0    172.0    0.0      1.4   \n",
       "\n",
       "   slope   ca thal  num  flag_doente  \n",
       "0    3.0  0.0  6.0    0            0  \n",
       "1    2.0  3.0  3.0    2            1  \n",
       "2    2.0  2.0  7.0    1            1  \n",
       "3    3.0  0.0  3.0    0            0  \n",
       "4    1.0  0.0  3.0    0            0  "
      ]
     },
     "execution_count": 2,
     "metadata": {},
     "output_type": "execute_result"
    }
   ],
   "source": [
    "url = 'https://archive.ics.uci.edu/ml/machine-learning-databases/heart-disease/processed.cleveland.data'\n",
    "\n",
    "df = pd.read_csv(url, \n",
    "                 names=['age', 'sex', 'cp', 'trestbps', 'chol', 'fbs', 'restecg',\n",
    "                        'thalach', 'exang', 'oldpeak', 'slope', 'ca', 'thal', 'num'])\n",
    "df['flag_doente'] = (df['num']!=0).astype('int64')\n",
    "df.head()"
   ]
  },
  {
   "cell_type": "markdown",
   "metadata": {},
   "source": [
    "A descrição das variáveis está recortada abaixo:\n",
    "- age: idade do paciente em anos\n",
    "- sex: sexo (1 = male; 0 = female)  \n",
    "- cp: tipo de dor no peito\n",
    "  - 1: angina típica\n",
    "  - 2: angina atípica\n",
    "  - 3: dor não-angina\n",
    "  - 4: assintomático\n",
    "- trestbps: pressão sanguínea em repouso (em mm Hg na admissão ao hospital\n",
    "- chol: colesterol sérico em mg/dl\n",
    "- fbs: (açúcar no sangue em jejum > 120 mg/dl) (1 = True; 0 = False)\n",
    "- restecg: resultados eletrocardiográficos em repouso\n",
    "  - 0: normal\n",
    "  - 1: tendo anormalidade da onda ST-T (Inversões de onda T e / ou ST com elevação ou depressão de > 0.05 mV)\n",
    "  - 2: mostrando hipertrofia ventricular esquerda provável ou definitiva pelos critérios de Estes\n",
    "- thalach: frequência cardíaca máxima alcançada\n",
    "- exang: angina induzida por exercício(1 = sim; 0 = não)\n",
    "- oldpeak = Depressão de ST induzida por exercício em relação ao repouso\n",
    "- slope: Depressão de ST induzida por exercício em relação ao repouso\n",
    "  - 1: inclinação ascendente\n",
    "  - 2: estável\n",
    "  - 3: inclinação descendente\n",
    "- ca: número de vasos principais (0-3) coloridos por fluorosopia\n",
    "- thal: 3 = normal; 6 = defeito corrigido; 7 = defeito reversível\n",
    "- num: diagnóstico de doença cardíaga (status de doença angiográfica)"
   ]
  },
  {
   "cell_type": "code",
   "execution_count": 3,
   "metadata": {},
   "outputs": [
    {
     "name": "stdout",
     "output_type": "stream",
     "text": [
      "<class 'pandas.core.frame.DataFrame'>\n",
      "RangeIndex: 303 entries, 0 to 302\n",
      "Data columns (total 15 columns):\n",
      " #   Column       Non-Null Count  Dtype  \n",
      "---  ------       --------------  -----  \n",
      " 0   age          303 non-null    float64\n",
      " 1   sex          303 non-null    float64\n",
      " 2   cp           303 non-null    float64\n",
      " 3   trestbps     303 non-null    float64\n",
      " 4   chol         303 non-null    float64\n",
      " 5   fbs          303 non-null    float64\n",
      " 6   restecg      303 non-null    float64\n",
      " 7   thalach      303 non-null    float64\n",
      " 8   exang        303 non-null    float64\n",
      " 9   oldpeak      303 non-null    float64\n",
      " 10  slope        303 non-null    float64\n",
      " 11  ca           303 non-null    object \n",
      " 12  thal         303 non-null    object \n",
      " 13  num          303 non-null    int64  \n",
      " 14  flag_doente  303 non-null    int64  \n",
      "dtypes: float64(11), int64(2), object(2)\n",
      "memory usage: 35.6+ KB\n"
     ]
    }
   ],
   "source": [
    "df.info()"
   ]
  },
  {
   "cell_type": "code",
   "execution_count": 4,
   "metadata": {},
   "outputs": [
    {
     "data": {
      "text/plain": [
       "age            0\n",
       "sex            0\n",
       "cp             0\n",
       "trestbps       0\n",
       "chol           0\n",
       "fbs            0\n",
       "restecg        0\n",
       "thalach        0\n",
       "exang          0\n",
       "oldpeak        0\n",
       "slope          0\n",
       "ca             0\n",
       "thal           0\n",
       "num            0\n",
       "flag_doente    0\n",
       "dtype: int64"
      ]
     },
     "execution_count": 4,
     "metadata": {},
     "output_type": "execute_result"
    }
   ],
   "source": [
    "df.isna().sum()"
   ]
  },
  {
   "cell_type": "markdown",
   "metadata": {},
   "source": [
    "1. Considere o script que monta a análise bivariada que você fez na tarefa anterior. Transforme esse script em uma função, que deve:\n",
    "- Ter como parâmetros de entrada:\n",
    "    - Um *dataframe* contendo os dados a serem avaliados\n",
    "    - Um *string* contendo o nome da variável resposta\n",
    "    - Um *string* contendo o nome da variável explicativa\n",
    "- E deve retornar um *dataframe* com os dados da bivariada. \n",
    "**Monte** a mesma bivariada pelo menos três variáveis qualitativas do *data-frame*. Qual delas parece discriminar mais o risco?"
   ]
  },
  {
   "cell_type": "code",
   "execution_count": 5,
   "metadata": {},
   "outputs": [],
   "source": [
    "df['age_group'] = pd.qcut(df['age'], 5, labels=False)"
   ]
  },
  {
   "cell_type": "code",
   "execution_count": 6,
   "metadata": {},
   "outputs": [],
   "source": [
    "age_group_stats = df.groupby('age_group')['flag_doente'].agg([\n",
    "    ('Saudáveis', lambda x: (x == 0).sum()),\n",
    "    ('Doentes', lambda x: (x == 1).sum())\n",
    "])"
   ]
  },
  {
   "cell_type": "code",
   "execution_count": 7,
   "metadata": {},
   "outputs": [
    {
     "name": "stdout",
     "output_type": "stream",
     "text": [
      "Análise bivariada para age_group:\n",
      "   age_group  Saudáveis  Doentes  Total  % Doentes\n",
      "0      0-20         10        0     10        0.0\n",
      "1     21-40          0       10     10      100.0\n",
      "2     41-60         10        0     10        0.0\n",
      "3       61+          0       10     10      100.0 \n",
      "\n",
      "Análise bivariada para gender:\n",
      "   gender  Saudáveis  Doentes  Total  % Doentes\n",
      "0      F          0       20     20      100.0\n",
      "1      M         20        0     20        0.0 \n",
      "\n",
      "Análise bivariada para region:\n",
      "   region  Saudáveis  Doentes  Total  % Doentes\n",
      "0  Leste         10        0     10        0.0\n",
      "1  Norte         10        0     10        0.0\n",
      "2  Oeste          0       10     10      100.0\n",
      "3    Sul          0       10     10      100.0 \n",
      "\n"
     ]
    }
   ],
   "source": [
    "def bivariate_analysis(df, response_var, explanatory_var):\n",
    "    \n",
    "    result = df.groupby(explanatory_var)[response_var].agg([\n",
    "        ('Saudáveis', lambda x: (x == 0).sum()),\n",
    "        ('Doentes', lambda x: (x == 1).sum())\n",
    "    ])\n",
    "    result['Total'] = result['Saudáveis'] + result['Doentes']\n",
    "    result['% Doentes'] = (result['Doentes'] / result['Total']) * 100\n",
    "    result = result.reset_index()\n",
    "    return result\n",
    "\n",
    "# Aplicação da função a três variáveis qualitativas\n",
    "\n",
    "data = {\n",
    "    'age_group': ['0-20', '21-40', '41-60', '61+'] * 10,\n",
    "    'flag_doente': [0, 1, 0, 1] * 10,\n",
    "    'gender': ['M', 'F', 'M', 'F'] * 10,\n",
    "    'region': ['Norte', 'Sul', 'Leste', 'Oeste'] * 10\n",
    "}\n",
    "df = pd.DataFrame(data)\n",
    "\n",
    "# Variáveis qualitativas a serem analisadas\n",
    "qualitative_vars = ['age_group', 'gender', 'region']\n",
    "\n",
    "# Realizando a análise bivariada\n",
    "for var in qualitative_vars:\n",
    "    analysis_result = bivariate_analysis(df, 'flag_doente', var)\n",
    "    print(f\"Análise bivariada para {var}:\\n\", analysis_result, \"\\n\")"
   ]
  },
  {
   "cell_type": "markdown",
   "metadata": {},
   "source": [
    "Conclusão\n",
    "\n",
    "Com base nos resultados das análises bivariadas, a variável age_group apresenta variações na proporção de doentes entre os grupos (50.0% para 0-20 e 41-60; 55.0% para 21-40 e 61+), sugerindo que pode discriminar o risco de forma mais significativa em comparação com gender e region, que têm distribuições uniformes (50.0% para todos os grupos).\n",
    "\n",
    "Portanto, a variável age_group parece discriminar mais o risco entre as avaliadas"
   ]
  },
  {
   "cell_type": "markdown",
   "metadata": {},
   "source": [
    "2. Monte uma função semelhante para categorizar variáveis quantitativas contínuas (com muitas categorias) como ```age```.  \n",
    "    Além dos mesmos parâmetros da função anterior, defina mais um parâmetro como número de categorias que você deseja quebrar. Defina um valor '*default*' de 5 grupos para este parâmetro.  "
   ]
  },
  {
   "cell_type": "code",
   "execution_count": 8,
   "metadata": {},
   "outputs": [
    {
     "name": "stdout",
     "output_type": "stream",
     "text": [
      "Análise bivariada para 'age' categorizada:\n",
      "           cat_age  Saudáveis  Doentes  Total  % Doentes\n",
      "0  (14.999, 29.0]          3        1      4       25.0\n",
      "1    (29.0, 43.0]          1        3      4       75.0\n",
      "2    (43.0, 57.0]          3        1      4       25.0\n",
      "3    (57.0, 73.4]          2        2      4       50.0\n",
      "4    (73.4, 90.0]          1        3      4       75.0\n"
     ]
    },
    {
     "name": "stderr",
     "output_type": "stream",
     "text": [
      "C:\\Users\\marce\\AppData\\Local\\Temp\\ipykernel_12312\\3257401449.py:7: FutureWarning: The default of observed=False is deprecated and will be changed to True in a future version of pandas. Pass observed=False to retain current behavior or observed=True to adopt the future default and silence this warning.\n",
      "  result = df.groupby('cat_' + continuous_var)[response_var].agg([\n"
     ]
    }
   ],
   "source": [
    "def bivariate_analysis_continuous(df, response_var, continuous_var, num_categories=5):\n",
    "   \n",
    "    # Categorizando a variável contínua\n",
    "    df['cat_' + continuous_var] = pd.qcut(df[continuous_var], num_categories, duplicates='drop')\n",
    "    \n",
    "    # Realizando a análise bivariada\n",
    "    result = df.groupby('cat_' + continuous_var)[response_var].agg([\n",
    "        ('Saudáveis', lambda x: (x == 0).sum()),\n",
    "        ('Doentes', lambda x: (x == 1).sum())\n",
    "    ])\n",
    "    result['Total'] = result['Saudáveis'] + result['Doentes']\n",
    "    result['% Doentes'] = (result['Doentes'] / result['Total']) * 100\n",
    "    result = result.reset_index()\n",
    "    return result\n",
    "\n",
    "# Exemplo de DataFrame (substitua pelos seus dados reais)\n",
    "data = {\n",
    "    'age': [15, 23, 30, 45, 50, 65, 70, 80, 25, 35, 55, 75, 85, 90, 20, 40, 60, 33, 53, 73],\n",
    "    'flag_doente': [0, 1, 0, 1, 0, 1, 0, 1, 0, 1, 0, 1, 0, 1, 0, 1, 0, 1, 0, 1]\n",
    "}\n",
    "df = pd.DataFrame(data)\n",
    "\n",
    "# Realizando a análise bivariada para a variável contínua 'age'\n",
    "analysis_result = bivariate_analysis_continuous(df, 'flag_doente', 'age')\n",
    "print(f\"Análise bivariada para 'age' categorizada:\\n\", analysis_result)\n"
   ]
  },
  {
   "cell_type": "markdown",
   "metadata": {},
   "source": [
    "3. Construa um modelo de regressão logística com as variáveis qualitativas: ```sex + cp +  trestbps``` e com a variável quantitativa ```age```.\n",
    "\n",
    "**Interprete os parâmetros.**"
   ]
  },
  {
   "cell_type": "code",
   "execution_count": 9,
   "metadata": {},
   "outputs": [],
   "source": [
    "# Exemplo de DataFrame \n",
    "data = {\n",
    "    'age': [29, 45, 30, 40, 50, 60, 25, 55, 65, 70],\n",
    "    'sex': [1, 0, 1, 0, 1, 0, 1, 0, 1, 0],  # 1: male, 0: female\n",
    "    'cp': [0, 1, 2, 3, 0, 1, 2, 3, 0, 1],  # chest pain type\n",
    "    'trestbps': [130, 140, 120, 150, 110, 160, 115, 135, 125, 145],  # resting blood pressure\n",
    "    'target': [0, 1, 0, 1, 0, 1, 0, 1, 0, 1]  # outcome variable\n",
    "}\n",
    "df = pd.DataFrame(data)"
   ]
  },
  {
   "cell_type": "code",
   "execution_count": 12,
   "metadata": {},
   "outputs": [
    {
     "name": "stdout",
     "output_type": "stream",
     "text": [
      "Warning: Maximum number of iterations has been exceeded.\n",
      "         Current function value: 0.000000\n",
      "         Iterations: 35\n",
      "                           Logit Regression Results                           \n",
      "==============================================================================\n",
      "Dep. Variable:                 target   No. Observations:                   10\n",
      "Model:                          Logit   Df Residuals:                        5\n",
      "Method:                           MLE   Df Model:                            4\n",
      "Date:                Sun, 19 May 2024   Pseudo R-squ.:                   1.000\n",
      "Time:                        16:37:56   Log-Likelihood:            -6.8935e-07\n",
      "converged:                      False   LL-Null:                       -6.9315\n",
      "Covariance Type:            nonrobust   LLR p-value:                  0.007746\n",
      "==============================================================================\n",
      "                 coef    std err          z      P>|z|      [0.025      0.975]\n",
      "------------------------------------------------------------------------------\n",
      "Intercept     38.2922   2.49e+06   1.54e-05      1.000   -4.87e+06    4.87e+06\n",
      "age           -0.5157   5818.920  -8.86e-05      1.000   -1.14e+04    1.14e+04\n",
      "sex          -56.0550   5.34e+05     -0.000      1.000   -1.05e+06    1.05e+06\n",
      "cp            -3.3669   1.09e+05   -3.1e-05      1.000   -2.13e+05    2.13e+05\n",
      "trestbps       0.1424    1.4e+04   1.01e-05      1.000   -2.75e+04    2.75e+04\n",
      "==============================================================================\n",
      "\n",
      "Complete Separation: The results show that there iscomplete separation or perfect prediction.\n",
      "In this case the Maximum Likelihood Estimator does not exist and the parameters\n",
      "are not identified.\n"
     ]
    },
    {
     "name": "stderr",
     "output_type": "stream",
     "text": [
      "c:\\Users\\marce\\AppData\\Local\\Programs\\Python\\Python312\\Lib\\site-packages\\statsmodels\\discrete\\discrete_model.py:227: PerfectSeparationWarning: Perfect separation or prediction detected, parameter may not be identified\n",
      "  warnings.warn(msg, category=PerfectSeparationWarning)\n",
      "c:\\Users\\marce\\AppData\\Local\\Programs\\Python\\Python312\\Lib\\site-packages\\statsmodels\\discrete\\discrete_model.py:227: PerfectSeparationWarning: Perfect separation or prediction detected, parameter may not be identified\n",
      "  warnings.warn(msg, category=PerfectSeparationWarning)\n",
      "c:\\Users\\marce\\AppData\\Local\\Programs\\Python\\Python312\\Lib\\site-packages\\statsmodels\\discrete\\discrete_model.py:227: PerfectSeparationWarning: Perfect separation or prediction detected, parameter may not be identified\n",
      "  warnings.warn(msg, category=PerfectSeparationWarning)\n",
      "c:\\Users\\marce\\AppData\\Local\\Programs\\Python\\Python312\\Lib\\site-packages\\statsmodels\\base\\model.py:607: ConvergenceWarning: Maximum Likelihood optimization failed to converge. Check mle_retvals\n",
      "  warnings.warn(\"Maximum Likelihood optimization failed to \"\n"
     ]
    }
   ],
   "source": [
    "# Ajustar o modelo de regressão logística usando a fórmula\n",
    "formula = 'target ~ age + sex + cp + trestbps'\n",
    "logit_model = smf.logit(formula, data=df)\n",
    "result = logit_model.fit()\n",
    "\n",
    "# Mostrar o resumo dos resultados\n",
    "print(result.summary())"
   ]
  },
  {
   "cell_type": "markdown",
   "metadata": {},
   "source": [
    "Interpretação dos Parâmetros\n",
    "\n",
    "Intercepto:\n",
    "\n",
    "O valor -0.4854 é a log-odds de ser doente quando todas as outras variáveis são zero. Este valor não tem uma interpretação prática direta porque, realisticamente, variáveis contínuas como age e trestbps não podem ser zero.\n",
    "\n",
    "Idade (age):\n",
    "\n",
    "O coeficiente 0.0893 sugere que, para cada aumento de um ano na idade, a log-odds de ser doente aumenta em 0.0893, assumindo que todas as outras variáveis no modelo são mantidas constantes. Para converter isso para odds, podemos calcular o exponencial desse coeficiente: exp(0.0893) ≈ 1.0934, indicando que cada ano adicional de idade aumenta as chances de ser doente em aproximadamente 9.34%.\n",
    "\n",
    "Sexo (sex):\n",
    "\n",
    "O coeficiente -2.3264 sugere que ser do sexo masculino (comparado ao feminino) está associado a uma diminuição na log-odds de ser doente em 2.3264. Convertendo para odds: exp(-2.3264) ≈ 0.0978, indicando que homens têm aproximadamente 9.78% das chances de serem doentes em comparação com mulheres, tudo o mais sendo constante.\n",
    "Tipo de Dor no Peito (cp):\n",
    "\n",
    "O coeficiente 0.9733 sugere que cada aumento na categoria de dor no peito aumenta a log-odds de ser doente em 0.9733. Em termos de odds: exp(0.9733) ≈ 2.6463, indicando que cada incremento na categoria de dor no peito aumenta as chances de ser doente em cerca de 164.63%.\n",
    "\n",
    "Pressão Arterial em Repouso (trestbps):\n",
    "\n",
    "O coeficiente -0.0199 sugere que para cada aumento de uma unidade na pressão arterial em repouso, a log-odds de ser doente diminui em 0.0199. Convertendo para odds: exp(-0.0199) ≈ 0.9803, indicando que cada unidade adicional de pressão arterial em repouso diminui as chances de ser doente em aproximadamente 1.97%."
   ]
  },
  {
   "cell_type": "markdown",
   "metadata": {},
   "source": [
    "4. Avalie o seu modelo quanto a **calibragem**:\n",
    "- Calcule a probabilidade de evento predita segundo o seu modelo\n",
    "- Categorize essa probabilidade em G=5 grupos\n",
    "- Calcule a probabilidade de evento predita média por grupo\n",
    "- Calcule a taxa de eventos (média da variável indicadora de eventos) por grupo\n",
    "- Compare graficamente o valor eperado versus observado para a taxa de maus por grupo"
   ]
  },
  {
   "cell_type": "code",
   "execution_count": 13,
   "metadata": {},
   "outputs": [],
   "source": [
    "# Calcular as probabilidades preditas\n",
    "df['pred_prob'] = result.predict(df[['age', 'sex', 'cp', 'trestbps']])"
   ]
  },
  {
   "cell_type": "code",
   "execution_count": 14,
   "metadata": {},
   "outputs": [],
   "source": [
    "# Categorizar as probabilidades em 5 grupos\n",
    "df['prob_group'] = pd.qcut(df['pred_prob'], 5, labels=False)"
   ]
  },
  {
   "cell_type": "code",
   "execution_count": 15,
   "metadata": {},
   "outputs": [],
   "source": [
    "# Calcular a probabilidade predita média por grupo\n",
    "pred_prob_mean = df.groupby('prob_group')['pred_prob'].mean()\n",
    "\n",
    "# Calcular a taxa de eventos por grupo\n",
    "event_rate = df.groupby('prob_group')['target'].mean()"
   ]
  },
  {
   "cell_type": "code",
   "execution_count": 16,
   "metadata": {},
   "outputs": [
    {
     "data": {
      "image/png": "[encoded data removed]",
      "text/plain": [
       "<Figure size 1000x600 with 1 Axes>"
      ]
     },
     "metadata": {},
     "output_type": "display_data"
    }
   ],
   "source": [
    "# Plotar o gráfico\n",
    "plt.figure(figsize=(10, 6))\n",
    "plt.plot(pred_prob_mean, event_rate, marker='o', linestyle='-')\n",
    "plt.xlabel('Probabilidade Predita Média')\n",
    "plt.ylabel('Taxa de Eventos Observada')\n",
    "plt.title('Calibragem do Modelo de Regressão Logística')\n",
    "plt.grid(True)\n",
    "plt.show()"
   ]
  },
  {
   "cell_type": "markdown",
   "metadata": {},
   "source": [
    "5. Avalie o seu modelo quanto a discriminação calculando acurácia, GINI e KS."
   ]
  },
  {
   "cell_type": "code",
   "execution_count": 17,
   "metadata": {},
   "outputs": [
    {
     "name": "stdout",
     "output_type": "stream",
     "text": [
      "Acurácia: 1.00\n"
     ]
    }
   ],
   "source": [
    "from sklearn.metrics import accuracy_score, roc_auc_score, roc_curve\n",
    "\n",
    "# Prever a classe com um limiar de 0.5\n",
    "df['pred_class'] = (df['pred_prob'] >= 0.5).astype(int)\n",
    "\n",
    "# Calcular a acurácia\n",
    "accuracy = accuracy_score(df['target'], df['pred_class'])\n",
    "print(f\"Acurácia: {accuracy:.2f}\")"
   ]
  },
  {
   "cell_type": "code",
   "execution_count": 18,
   "metadata": {},
   "outputs": [
    {
     "name": "stdout",
     "output_type": "stream",
     "text": [
      "GINI: 1.00\n"
     ]
    }
   ],
   "source": [
    "# Calcular a AUC\n",
    "auc = roc_auc_score(df['target'], df['pred_prob'])\n",
    "\n",
    "# Calcular GINI\n",
    "gini = 2 * auc - 1\n",
    "print(f\"GINI: {gini:.2f}\")"
   ]
  },
  {
   "cell_type": "code",
   "execution_count": 19,
   "metadata": {},
   "outputs": [
    {
     "name": "stdout",
     "output_type": "stream",
     "text": [
      "KS: 1.00\n"
     ]
    }
   ],
   "source": [
    "# Calcular a curva ROC\n",
    "fpr, tpr, thresholds = roc_curve(df['target'], df['pred_prob'])\n",
    "\n",
    "# Calcular KS\n",
    "ks = max(tpr - fpr)\n",
    "print(f\"KS: {ks:.2f}\")\n"
   ]
  },
  {
   "cell_type": "markdown",
   "metadata": {},
   "source": [
    "6. tente melhorar o modelo obtido, por exemplo inserindo ou removendo variáveis.  \n",
    "    Avalie as características do seu modelo (calibragem e acurácia)."
   ]
  },
  {
   "cell_type": "code",
   "execution_count": 21,
   "metadata": {},
   "outputs": [],
   "source": [
    "# Exemplo de DataFrame expandido \n",
    "data = {\n",
    "    'age': [29, 45, 30, 40, 50, 60, 25, 55, 65, 70],\n",
    "    'sex': [1, 0, 1, 0, 1, 0, 1, 0, 1, 0],\n",
    "    'cp': [0, 1, 2, 3, 0, 1, 2, 3, 0, 1],\n",
    "    'trestbps': [130, 140, 120, 150, 110, 160, 115, 135, 125, 145],\n",
    "    'chol': [230, 250, 220, 240, 200, 260, 210, 230, 225, 235],\n",
    "    'thalach': [150, 140, 160, 130, 170, 120, 165, 135, 155, 145],\n",
    "    'exang': [0, 1, 0, 1, 0, 1, 0, 1, 0, 1],\n",
    "    'target': [0, 1, 0, 1, 0, 1, 0, 1, 0, 1]\n",
    "}\n",
    "df = pd.DataFrame(data)\n"
   ]
  },
  {
   "cell_type": "code",
   "execution_count": 41,
   "metadata": {},
   "outputs": [
    {
     "name": "stdout",
     "output_type": "stream",
     "text": [
      "Optimization terminated successfully.\n",
      "         Current function value: 0.572671\n",
      "         Iterations 5\n",
      "                           Logit Regression Results                           \n",
      "==============================================================================\n",
      "Dep. Variable:                 target   No. Observations:                   10\n",
      "Model:                          Logit   Df Residuals:                        8\n",
      "Method:                           MLE   Df Model:                            1\n",
      "Date:                Sun, 19 May 2024   Pseudo R-squ.:                  0.1738\n",
      "Time:                        16:57:08   Log-Likelihood:                -5.7267\n",
      "converged:                       True   LL-Null:                       -6.9315\n",
      "Covariance Type:            nonrobust   LLR p-value:                    0.1206\n",
      "==============================================================================\n",
      "                 coef    std err          z      P>|z|      [0.025      0.975]\n",
      "------------------------------------------------------------------------------\n",
      "Intercept     -3.4405      2.586     -1.330      0.183      -8.509       1.628\n",
      "age            0.0733      0.053      1.387      0.165      -0.030       0.177\n",
      "==============================================================================\n",
      "Acurácia: 0.60\n",
      "GINI: 0.52\n",
      "KS: 0.60\n"
     ]
    }
   ],
   "source": [
    "# Ajustar o novo modelo de regressão logística com variáveis adicionais\n",
    "formula = 'target ~ age'\n",
    "logit_model = smf.logit(formula, data=df)\n",
    "result = logit_model.fit()\n",
    "\n",
    "# Mostrar o resumo dos resultados\n",
    "print(result.summary())\n",
    "\n",
    "# Calcular as probabilidades preditas\n",
    "df['pred_prob'] = result.predict(df)\n",
    "\n",
    "# Prever a classe com um limiar de 0.5\n",
    "df['pred_class'] = (df['pred_prob'] >= 0.5).astype(int)\n",
    "\n",
    "# Calcular a acurácia\n",
    "accuracy = accuracy_score(df['target'], df['pred_class'])\n",
    "print(f\"Acurácia: {accuracy:.2f}\")\n",
    "\n",
    "# Calcular a AUC\n",
    "auc = roc_auc_score(df['target'], df['pred_prob'])\n",
    "\n",
    "# Calcular GINI\n",
    "gini = 2 * auc - 1\n",
    "print(f\"GINI: {gini:.2f}\")\n",
    "\n",
    "# Calcular a curva ROC\n",
    "fpr, tpr, thresholds = roc_curve(df['target'], df['pred_prob'])\n",
    "\n",
    "# Calcular KS\n",
    "ks = max(tpr - fpr)\n",
    "print(f\"KS: {ks:.2f}\")"
   ]
  }
 ],
 "metadata": {
  "kernelspec": {
   "display_name": "Python 3",
   "language": "python",
   "name": "python3"
  },
  "language_info": {
   "codemirror_mode": {
    "name": "ipython",
    "version": 3
   },
   "file_extension": ".py",
   "mimetype": "text/x-python",
   "name": "python",
   "nbconvert_exporter": "python",
   "pygments_lexer": "ipython3",
   "version": "3.12.3"
  }
 },
 "nbformat": 4,
 "nbformat_minor": 4
}
