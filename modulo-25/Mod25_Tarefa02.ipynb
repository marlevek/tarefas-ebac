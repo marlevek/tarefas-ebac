{
 "cells": [
  {
   "cell_type": "markdown",
   "metadata": {},
   "source": [
    "# Cálculo - Tarefa 02\n",
    "\n",
    "1- Calcule de forma numérica a integral da função $x^3$ avaliada entre os pontos $1$ e $2$. Identifique o número de retângulos que você usou.  \n",
    "2- Calcule essa área de forma analítica."
   ]
  },
  {
   "cell_type": "code",
   "execution_count": 1,
   "metadata": {},
   "outputs": [
    {
     "data": {
      "text/plain": [
       "(3.74650075, 1000)"
      ]
     },
     "execution_count": 1,
     "metadata": {},
     "output_type": "execute_result"
    }
   ],
   "source": [
    "# Cálculo integral e número de retângulos\n",
    "\n",
    "# Define a função x^3 usando lambda\n",
    "f = lambda x: x**3\n",
    "\n",
    "# Intervalo de integração\n",
    "a = 1\n",
    "b = 2\n",
    "\n",
    "# Número de retângulos\n",
    "n = 1000\n",
    "\n",
    "# Largura de cada retângulo\n",
    "dx = (b - a) / n\n",
    "\n",
    "# Soma das áreas dos retângulos\n",
    "integral = sum(f(a + i * dx) * dx for i in range(n))\n",
    "\n",
    "integral, n"
   ]
  },
  {
   "cell_type": "markdown",
   "metadata": {},
   "source": [
    "Para calcular a integral de \\( x^3 \\) de forma analítica entre os pontos \\( 1 \\) e \\( 2 \\), precisamos resolver a integral definida:\n",
    "\n",
    "\\[ \\int_{1}^{2} x^3 \\, dx \\]\n",
    "\n",
    "A integral indefinida de \\( x^3 \\) é:\n",
    "\n",
    "\\[ \\int x^3 \\, dx = \\frac{x^4}{4} + C \\]\n",
    "\n",
    "Agora, aplicamos os limites de integração:\n",
    "\n",
    "\\[ \\left[ \\frac{x^4}{4} \\right]_{1}^{2} = \\frac{2^4}{4} - \\frac{1^4}{4} \\]\n",
    "\n",
    "Calculamos os valores:\n",
    "\n",
    "\\[ \\frac{2^4}{4} = \\frac{16}{4} = 4 \\]\n",
    "\\[ \\frac{1^4}{4} = \\frac{1}{4} = 0.25 \\]\n",
    "\n",
    "Subtraímos os resultados:\n",
    "\n",
    "\\[ 4 - 0.25 = 3.75 \\]\n",
    "\n",
    "Portanto, a área sob a curva \\( x^3 \\) entre \\( 1 \\) e \\( 2 \\) é \\( 3.75 \\)."
   ]
  }
 ],
 "metadata": {
  "kernelspec": {
   "display_name": "Python 3",
   "language": "python",
   "name": "python3"
  },
  "language_info": {
   "codemirror_mode": {
    "name": "ipython",
    "version": 3
   },
   "file_extension": ".py",
   "mimetype": "text/x-python",
   "name": "python",
   "nbconvert_exporter": "python",
   "pygments_lexer": "ipython3",
   "version": "3.12.3"
  },
  "toc": {
   "base_numbering": 1,
   "nav_menu": {},
   "number_sections": true,
   "sideBar": true,
   "skip_h1_title": true,
   "title_cell": "Índice",
   "title_sidebar": "Conteúdo",
   "toc_cell": false,
   "toc_position": {},
   "toc_section_display": true,
   "toc_window_display": false
  },
  "varInspector": {
   "cols": {
    "lenName": 16,
    "lenType": 16,
    "lenVar": 40
   },
   "kernels_config": {
    "python": {
     "delete_cmd_postfix": "",
     "delete_cmd_prefix": "del ",
     "library": "var_list.py",
     "varRefreshCmd": "print(var_dic_list())"
    },
    "r": {
     "delete_cmd_postfix": ") ",
     "delete_cmd_prefix": "rm(",
     "library": "var_list.r",
     "varRefreshCmd": "cat(var_dic_list()) "
    }
   },
   "types_to_exclude": [
    "module",
    "function",
    "builtin_function_or_method",
    "instance",
    "_Feature"
   ],
   "window_display": false
  }
 },
 "nbformat": 4,
 "nbformat_minor": 4
}
