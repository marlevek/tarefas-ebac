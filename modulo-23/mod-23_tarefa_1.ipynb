{
 "cells": [
  {
   "cell_type": "markdown",
   "metadata": {},
   "source": [
    "## BAGGING\n",
    "\n",
    "É uma técnica em aprendizado de máquina onde múltiplos modelos são treinados e combinados para resolver um problema específico. \n",
    "\n",
    "Combinando modelos, as fraquezas individuais dos modelos podem ser compensadas, levando a um resultado final mais robusto e preciso.\n",
    "\n",
    "o Bagging pode melhorar a precisão e a estabilidade de algoritmos de aprendizado de máquina."
   ]
  },
  {
   "cell_type": "markdown",
   "metadata": {},
   "source": [
    "### Passo a passo\n",
    "\n",
    "1. Selecionar um algoritmo de aprendizado de máquina como base\n",
    "2. Gerar múltiplos subconjuntos de dados a partir do conjunto de treinamento original.\n",
    "3. Treinar um modelo base em cada subconjunto de dados \n",
    "4. Fazer previsões utilizando cada um dos modelos base\n",
    "5. Combinar as previsões dos modelos base. Para classificação, a previsão final é a classe que recebeu mais votos (maioria simples). Para regressão, a previsão final é a média das previsões de todos os modelos base."
   ]
  },
  {
   "cell_type": "markdown",
   "metadata": {},
   "source": [
    "#### Implementação do código em Python"
   ]
  },
  {
   "cell_type": "code",
   "execution_count": null,
   "metadata": {},
   "outputs": [],
   "source": [
    "# Importação das bibliotecas necessárias\n",
    "import numpy as np\n",
    "from sklearn.datasets import load_iris\n",
    "from sklearn.tree import DecisionTreeClassifier\n",
    "from sklearn.model_selection import train_test_split\n",
    "from sklearn.metrics import accuracy_score\n",
    "from collections import Counter\n",
    "\n",
    "# Carregar o dataset\n",
    "data = load_iris()\n",
    "X, y = data.data, data.target\n",
    "\n",
    "# Dividir os dados em conjunto de treinamento e teste\n",
    "X_train, X_test, y_train, y_test = train_test_split(X, y, test_size=0.3, random_state=42)\n",
    "\n",
    "# Função para Criar Subconjuntos Bootstrap\n",
    "def bootstrap_samples(X, y, n_samples):\n",
    "    indices = np.random.choice(range(len(X)), size=n_samples, replace=True)\n",
    "    return X[indices], y[indices]\n",
    "\n",
    "# Treinar múltiplos modelos em Subconjuntos Bootstrap\n",
    "def train_bagging_ensemble(X_train, y_train, base_model, n_estimators):\n",
    "    models = []\n",
    "    for _ in range(n_estimators):\n",
    "        X_sample, y_sample = bootstrap_samples(X_train, y_train, len(X_train))\n",
    "        model = base_model()\n",
    "        model.fit(X_sample, y_sample)\n",
    "        models.append(model)\n",
    "    return models\n",
    "\n",
    "# Fazer previsões usando o Ensemble\n",
    "def predict_bagging_ensemble(models, X_test):\n",
    "    predictions = np.zeros((len(models), len(X_test)), dtype=np.int)\n",
    "    for i, model in enumerate(models):\n",
    "        predictions[i] = model.predict(X_test)\n",
    "    \n",
    "    # Votação por maioria\n",
    "    final_predictions = []\n",
    "    for j in range(len(X_test)):\n",
    "        final_predictions.append(Counter(predictions[:, j]).most_common(1)[0][0])\n",
    "    \n",
    "    return np.array(final_predictions)"
   ]
  }
 ],
 "metadata": {
  "language_info": {
   "name": "python"
  }
 },
 "nbformat": 4,
 "nbformat_minor": 2
}
