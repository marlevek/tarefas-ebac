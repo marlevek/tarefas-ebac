{
 "cells": [
  {
   "cell_type": "markdown",
   "metadata": {},
   "source": [
    "<h1>Hiperparâmetros Random Forest</h1>"
   ]
  },
  {
   "cell_type": "markdown",
   "metadata": {},
   "source": [
    "<h2>Quais são os hyperparâmetros do RF?</h2>\n",
    "\n",
    "1. n_estimators\n",
    "2. criterion\n",
    "3. max_depth\n",
    "4. min_samples_split\n",
    "5. min_samples_leaf\n",
    "6. min_weight_fraction_leaf\n",
    "7. max_features\n",
    "8. max_leaf_nodes\n",
    "9. min_impurity_decrease\n",
    "10. bootstrap\n",
    "11. oob_score\n",
    "12. n_jobs\n",
    "13. random_state\n",
    "14. verbose\n",
    "15. warm_start\n",
    "16. class_weight\n",
    "17. ccp_alpha\n",
    "18. max_samples\n",
    "19. monotonic_cst"
   ]
  },
  {
   "cell_type": "markdown",
   "metadata": {},
   "source": [
    "<h2>Pra que serve cada um deles?</h2>\n",
    "\n",
    "* n_estimators: número de árvores\n",
    "* criterior: função para medir a qualidade da divisão da árvore\n",
    "* max_depth: máxima profundidade da árvore\n",
    "* min_samples_split: número mínimo de amostras requeridas para dividir um nó interno\n",
    "* min_samples_leaf: número mínimo de amostras requeridas para ser um nó folha\n",
    "* min_weight_fraction_leaf: A fração ponderada mínima da soma total dos pesos (de todas as amostras de entrada) exigida para estar em um nó folha. As amostras têm o mesmo peso quando sample_weight não é fornecida.\n",
    "* max_features: O número de recursos/atributos a serem considerados ao procurar a melhor divisão\n",
    "* max_leaf_nodes: controla o número máximo de nó folha\n",
    "* min_impurity_decrease: quantidade mínima de redução de impureza necessária para realizar uma divisão\n",
    "* bootstrap: define se as amostras devem ser extraídas com substituição\n",
    "* oob_score: Se o score fora-da-bag deve ser usado para avaliação.\n",
    "* n_jobs: Número de jobs a serem executados em paralelo\n",
    "* random_state: Semente do gerador de números aleatórios.\n",
    "* verbose: Controla a verbosidade ao ajustar e prever.\n",
    "* warm_start:  Se True, reutiliza a solução da chamada anterior para ajustar e adiciona mais estimadores ao conjunto.\n",
    "* class_weight: Usado para lidar com desequilíbrio de classes em problemas de classificação. Pode ser utilizado para dar pesos diferentes às classes, ajudando o modelo a focar mais nas classes minoritárias.\n",
    "* ccp_alpha: Complexidade de parâmetro de custo usado para Minimal Cost-Complexity Pruning.\n",
    "* max_samples: Número máximo de amostras a serem extraídas para treinar cada árvore base\n",
    "* monotonic_cst: Usado para impor restrições de monotonicidade nos preditores. Especifica se a função de predição deve ser monotônica crescente ou decrescente em relação a determinados recursos. Isto é útil em cenários onde se sabe que a variável de saída deve sempre aumentar ou diminuir com o aumento de uma variável de entrada."
   ]
  }
 ],
 "metadata": {
  "kernelspec": {
   "display_name": "Python 3",
   "language": "python",
   "name": "python3"
  },
  "language_info": {
   "codemirror_mode": {
    "name": "ipython",
    "version": 3
   },
   "file_extension": ".py",
   "mimetype": "text/x-python",
   "name": "python",
   "nbconvert_exporter": "python",
   "pygments_lexer": "ipython3",
   "version": "3.12.3"
  }
 },
 "nbformat": 4,
 "nbformat_minor": 2
}
