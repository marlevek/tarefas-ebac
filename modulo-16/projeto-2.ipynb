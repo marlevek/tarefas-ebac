{
 "cells": [
  {
   "cell_type": "markdown",
   "metadata": {},
   "source": [
    "# Previsão de renda"
   ]
  },
  {
   "cell_type": "markdown",
   "metadata": {},
   "source": [
    "### 4 elementos importantes\n",
    "- Esse notebook\n",
    "- Streamlit com as análises\n",
    "- Seu Github com o projeto\n",
    "- Vídeo no readme do github mostrando o streamlit"
   ]
  },
  {
   "cell_type": "markdown",
   "metadata": {},
   "source": [
    "## Etapa 1 CRISP - DM: Entendimento do negócio\n",
    "\n",
    "<span style=\"color:red\">O entendimento do negócio é importante para garantir que os esforços em Data Science sejam relevantes, eficazes e alinhados com as necessidades e objetivos da organização. </span>\n"
   ]
  },
  {
   "cell_type": "markdown",
   "metadata": {},
   "source": [
    "## Etapa 2 Crisp-DM: Entendimento dos dados\n",
    "<span style=\"color:red\">O entendimento dos dados é fundamental para garantir que as análises sejam precisas, os modelos sejam robustos e os insights gerados sejam relevantes e acionáveis. Esse entendimento profundo permite aos cientistas de dados navegarem com eficácia pelas complexidades dos dados, transformando-os em soluções valiosas para os desafios do negócio.</span>\n",
    "\n",
    "\n",
    "### Dicionário de dados\n",
    "\n",
    "<span style=\"color:red\">O dicionário de dados facilita o entendimento compartilhado do conjunto de dados, melhorando a comunicação e contribução para a qualidade e integridade dos dados</span>\n",
    "\n",
    "\n",
    "| Variável                | Descrição                                           | Tipo         |\n",
    "| ----------------------- |:---------------------------------------------------:| ------------:|\n",
    "| data_ref                |  DATA DE REFERÊNCIA                                 | OBJECT|\n",
    "| id_cliente              |  NÚMERO DE IDENTIFICAÇÃO                            | QUANTITATIVA DISCRETA|\n",
    "| sexo                    |  GÊNERO DA PESSOA                                   | CATEGÓRICA NOMINAL|\n",
    "| posse_de_veiculo        |  SE A PESSOA POSSUI VEÍCULO                         | BOOLEANO|\n",
    "| posse_de_imovel         |  SE A PESSOA POSSUI IMÓVEL                          | BOOLEANO|\n",
    "| qtd_filhos              |  QUANTIDADE DE FILHOS                               | QUANTITATIVA DISCRETA|\n",
    "| tipo_renda              |  DE ONDE PROVEM A RENDA                             | CATEGÓRICA ORDINAL|\n",
    "| educacao                |  NÍVEL DE ESCOLARIDADE                              | CATEGÓRICA ORDINAL|\n",
    "| estado_civil            |  ESTADO CIVIL                                       | CATEGÓRICA NOMINAL|\n",
    "| tipo_residencia         |  ONDE MORA (CASA, ALUGUEL, ETC)                     | CATEGÓRICA NOMINAL|\n",
    "| idade                   |  IDADE EM ANOS                                      | QUANTITATIVA DISCRETA|\n",
    "| tempo_emprego           |  TEMPO DE EMPREGO, EM ANOS                          | QUANTITATIVA CONTÍNUA|\n",
    "| qt_pessoas_residencia   |  QUANTAS PESSOAS MORAM NA RESIDÊNCIA                | QUANTITATIVA DISCRETA|\n",
    "| renda                   |  RENDA                                              | QUANTITATIVA CONTÍNUA|\n",
    "\n",
    "\n",
    "\n"
   ]
  },
  {
   "cell_type": "markdown",
   "metadata": {},
   "source": [
    "#### Carregando os pacotes\n",
    "É considerado uma boa prática carregar os pacotes que serão utilizados como a primeira coisa do programa."
   ]
  },
  {
   "cell_type": "markdown",
   "metadata": {},
   "source": [
    "<span style=\"color:red\">ESCREVER AQUI</span>\n"
   ]
  },
  {
   "cell_type": "markdown",
   "metadata": {},
   "source": [
    "#### Carregando os dados\n",
    "O comando pd.read_csv é um comando da biblioteca pandas (pd.) e carrega os dados do arquivo csv indicado para um objeto *dataframe* do pandas."
   ]
  },
  {
   "cell_type": "markdown",
   "metadata": {},
   "source": [
    "<span style=\"color:red\">ESCREVER AQUI</span>\n"
   ]
  },
  {
   "cell_type": "code",
   "execution_count": 2,
   "metadata": {},
   "outputs": [],
   "source": [
    "import pandas as pd\n",
    "import seaborn as sns\n",
    "import matplotlib.pyplot as plt\n",
    "#from ydata_profiling import ProfileReport"
   ]
  },
  {
   "cell_type": "code",
   "execution_count": 2,
   "metadata": {},
   "outputs": [],
   "source": [
    "renda = pd.read_csv('./input/previsao_de_renda.csv')"
   ]
  },
  {
   "cell_type": "code",
   "execution_count": 3,
   "metadata": {},
   "outputs": [
    {
     "data": {
      "text/html": [
       "<div>\n",
       "<style scoped>\n",
       "    .dataframe tbody tr th:only-of-type {\n",
       "        vertical-align: middle;\n",
       "    }\n",
       "\n",
       "    .dataframe tbody tr th {\n",
       "        vertical-align: top;\n",
       "    }\n",
       "\n",
       "    .dataframe thead th {\n",
       "        text-align: right;\n",
       "    }\n",
       "</style>\n",
       "<table border=\"1\" class=\"dataframe\">\n",
       "  <thead>\n",
       "    <tr style=\"text-align: right;\">\n",
       "      <th></th>\n",
       "      <th>Unnamed: 0</th>\n",
       "      <th>data_ref</th>\n",
       "      <th>id_cliente</th>\n",
       "      <th>sexo</th>\n",
       "      <th>posse_de_veiculo</th>\n",
       "      <th>posse_de_imovel</th>\n",
       "      <th>qtd_filhos</th>\n",
       "      <th>tipo_renda</th>\n",
       "      <th>educacao</th>\n",
       "      <th>estado_civil</th>\n",
       "      <th>tipo_residencia</th>\n",
       "      <th>idade</th>\n",
       "      <th>tempo_emprego</th>\n",
       "      <th>qt_pessoas_residencia</th>\n",
       "      <th>renda</th>\n",
       "    </tr>\n",
       "  </thead>\n",
       "  <tbody>\n",
       "    <tr>\n",
       "      <th>0</th>\n",
       "      <td>0</td>\n",
       "      <td>2015-01-01</td>\n",
       "      <td>15056</td>\n",
       "      <td>F</td>\n",
       "      <td>False</td>\n",
       "      <td>True</td>\n",
       "      <td>0</td>\n",
       "      <td>Empresário</td>\n",
       "      <td>Secundário</td>\n",
       "      <td>Solteiro</td>\n",
       "      <td>Casa</td>\n",
       "      <td>26</td>\n",
       "      <td>6.602740</td>\n",
       "      <td>1.0</td>\n",
       "      <td>8060.34</td>\n",
       "    </tr>\n",
       "    <tr>\n",
       "      <th>1</th>\n",
       "      <td>1</td>\n",
       "      <td>2015-01-01</td>\n",
       "      <td>9968</td>\n",
       "      <td>M</td>\n",
       "      <td>True</td>\n",
       "      <td>True</td>\n",
       "      <td>0</td>\n",
       "      <td>Assalariado</td>\n",
       "      <td>Superior completo</td>\n",
       "      <td>Casado</td>\n",
       "      <td>Casa</td>\n",
       "      <td>28</td>\n",
       "      <td>7.183562</td>\n",
       "      <td>2.0</td>\n",
       "      <td>1852.15</td>\n",
       "    </tr>\n",
       "    <tr>\n",
       "      <th>2</th>\n",
       "      <td>2</td>\n",
       "      <td>2015-01-01</td>\n",
       "      <td>4312</td>\n",
       "      <td>F</td>\n",
       "      <td>True</td>\n",
       "      <td>True</td>\n",
       "      <td>0</td>\n",
       "      <td>Empresário</td>\n",
       "      <td>Superior completo</td>\n",
       "      <td>Casado</td>\n",
       "      <td>Casa</td>\n",
       "      <td>35</td>\n",
       "      <td>0.838356</td>\n",
       "      <td>2.0</td>\n",
       "      <td>2253.89</td>\n",
       "    </tr>\n",
       "    <tr>\n",
       "      <th>3</th>\n",
       "      <td>3</td>\n",
       "      <td>2015-01-01</td>\n",
       "      <td>10639</td>\n",
       "      <td>F</td>\n",
       "      <td>False</td>\n",
       "      <td>True</td>\n",
       "      <td>1</td>\n",
       "      <td>Servidor público</td>\n",
       "      <td>Superior completo</td>\n",
       "      <td>Casado</td>\n",
       "      <td>Casa</td>\n",
       "      <td>30</td>\n",
       "      <td>4.846575</td>\n",
       "      <td>3.0</td>\n",
       "      <td>6600.77</td>\n",
       "    </tr>\n",
       "    <tr>\n",
       "      <th>4</th>\n",
       "      <td>4</td>\n",
       "      <td>2015-01-01</td>\n",
       "      <td>7064</td>\n",
       "      <td>M</td>\n",
       "      <td>True</td>\n",
       "      <td>False</td>\n",
       "      <td>0</td>\n",
       "      <td>Assalariado</td>\n",
       "      <td>Secundário</td>\n",
       "      <td>Solteiro</td>\n",
       "      <td>Governamental</td>\n",
       "      <td>33</td>\n",
       "      <td>4.293151</td>\n",
       "      <td>1.0</td>\n",
       "      <td>6475.97</td>\n",
       "    </tr>\n",
       "  </tbody>\n",
       "</table>\n",
       "</div>"
      ],
      "text/plain": [
       "   Unnamed: 0    data_ref  id_cliente sexo  posse_de_veiculo  posse_de_imovel  \\\n",
       "0           0  2015-01-01       15056    F             False             True   \n",
       "1           1  2015-01-01        9968    M              True             True   \n",
       "2           2  2015-01-01        4312    F              True             True   \n",
       "3           3  2015-01-01       10639    F             False             True   \n",
       "4           4  2015-01-01        7064    M              True            False   \n",
       "\n",
       "   qtd_filhos        tipo_renda           educacao estado_civil  \\\n",
       "0           0        Empresário         Secundário     Solteiro   \n",
       "1           0       Assalariado  Superior completo       Casado   \n",
       "2           0        Empresário  Superior completo       Casado   \n",
       "3           1  Servidor público  Superior completo       Casado   \n",
       "4           0       Assalariado         Secundário     Solteiro   \n",
       "\n",
       "  tipo_residencia  idade  tempo_emprego  qt_pessoas_residencia    renda  \n",
       "0            Casa     26       6.602740                    1.0  8060.34  \n",
       "1            Casa     28       7.183562                    2.0  1852.15  \n",
       "2            Casa     35       0.838356                    2.0  2253.89  \n",
       "3            Casa     30       4.846575                    3.0  6600.77  \n",
       "4   Governamental     33       4.293151                    1.0  6475.97  "
      ]
     },
     "execution_count": 3,
     "metadata": {},
     "output_type": "execute_result"
    }
   ],
   "source": [
    "renda.head()"
   ]
  },
  {
   "cell_type": "markdown",
   "metadata": {},
   "source": [
    "#### Entendimento dos dados - Univariada\n",
    "Nesta etapa tipicamente avaliamos a distribuição de todas as variáveis. "
   ]
  },
  {
   "cell_type": "code",
   "execution_count": 3,
   "metadata": {
    "scrolled": true
   },
   "outputs": [
    {
     "ename": "NameError",
     "evalue": "name 'profile_report' is not defined",
     "output_type": "error",
     "traceback": [
      "\u001b[1;31m---------------------------------------------------------------------------\u001b[0m",
      "\u001b[1;31mNameError\u001b[0m                                 Traceback (most recent call last)",
      "Input \u001b[1;32mIn [3]\u001b[0m, in \u001b[0;36m<module>\u001b[1;34m\u001b[0m\n\u001b[1;32m----> 1\u001b[0m prof \u001b[38;5;241m=\u001b[39m \u001b[43mprofile_report\u001b[49m(renda, explorative\u001b[38;5;241m=\u001b[39m\u001b[38;5;28;01mTrue\u001b[39;00m, minimal\u001b[38;5;241m=\u001b[39m\u001b[38;5;28;01mTrue\u001b[39;00m)\n\u001b[0;32m      2\u001b[0m prof\n",
      "\u001b[1;31mNameError\u001b[0m: name 'profile_report' is not defined"
     ]
    }
   ],
   "source": [
    "prof = ProfileReport(renda, explorative=True, minimal=True)\n",
    "prof\n"
   ]
  },
  {
   "cell_type": "code",
   "execution_count": null,
   "metadata": {},
   "outputs": [
    {
     "data": {
      "application/vnd.jupyter.widget-view+json": {
       "model_id": "4e9d8b456b68482194c2cb7214b7592e",
       "version_major": 2,
       "version_minor": 0
      },
      "text/plain": [
       "HBox(children=(HTML(value='Export report to file'), FloatProgress(value=0.0, max=1.0), HTML(value='')))"
      ]
     },
     "metadata": {},
     "output_type": "display_data"
    },
    {
     "name": "stdout",
     "output_type": "stream",
     "text": [
      "\n"
     ]
    }
   ],
   "source": [
    "prof.to_file('./output/renda_analisys.html')"
   ]
  },
  {
   "cell_type": "markdown",
   "metadata": {},
   "source": [
    "<span style=\"color:red\">ESCREVER AQUI</span>\n"
   ]
  },
  {
   "cell_type": "markdown",
   "metadata": {},
   "source": [
    "### Entendimento dos dados - Bivariadas\n",
    "\n",
    "\n"
   ]
  },
  {
   "cell_type": "markdown",
   "metadata": {},
   "source": [
    "<span style=\"color:red\">ESCREVER AQUI</span>\n"
   ]
  },
  {
   "cell_type": "code",
   "execution_count": null,
   "metadata": {},
   "outputs": [],
   "source": []
  },
  {
   "cell_type": "markdown",
   "metadata": {},
   "source": [
    "## Etapa 3 Crisp-DM: Preparação dos dados\n",
    "Nessa etapa realizamos tipicamente as seguintes operações com os dados:\n",
    "\n",
    " - **seleção**: Já temos os dados selecionados adequadamente?\n",
    " - **limpeza**: Precisaremos identificar e tratar dados faltantes\n",
    " - **construção**: construção de novas variáveis\n",
    " - **integração**: Temos apenas uma fonte de dados, não é necessário integração\n",
    " - **formatação**: Os dados já se encontram em formatos úteis?\n",
    "\n"
   ]
  },
  {
   "cell_type": "markdown",
   "metadata": {},
   "source": [
    "<span style=\"color:red\">ESCREVER AQUI</span>\n"
   ]
  },
  {
   "cell_type": "code",
   "execution_count": null,
   "metadata": {},
   "outputs": [
    {
     "data": {
      "text/plain": [
       "Unnamed: 0                  0\n",
       "data_ref                    0\n",
       "id_cliente                  0\n",
       "sexo                        0\n",
       "posse_de_veiculo            0\n",
       "posse_de_imovel             0\n",
       "qtd_filhos                  0\n",
       "tipo_renda                  0\n",
       "educacao                    0\n",
       "estado_civil                0\n",
       "tipo_residencia             0\n",
       "idade                       0\n",
       "tempo_emprego            2573\n",
       "qt_pessoas_residencia       0\n",
       "renda                       0\n",
       "dtype: int64"
      ]
     },
     "execution_count": 4,
     "metadata": {},
     "output_type": "execute_result"
    }
   ],
   "source": [
    "# Dados faltantes\n",
    "renda.isna().sum()"
   ]
  },
  {
   "cell_type": "markdown",
   "metadata": {},
   "source": [
    "Deletar colunas que não são importantes para o caso"
   ]
  },
  {
   "cell_type": "code",
   "execution_count": null,
   "metadata": {},
   "outputs": [],
   "source": [
    "renda.drop(columns=['Unnamed: 0', 'data_ref', 'id_cliente'], inplace=True)"
   ]
  },
  {
   "cell_type": "markdown",
   "metadata": {},
   "source": [
    "Há 2573 dados faltantes para o atributo tempo_emprego. Vamos verificar a correlação com a variável renda para tomar uma decisão com relalão a tempo_emprego."
   ]
  },
  {
   "cell_type": "code",
   "execution_count": null,
   "metadata": {},
   "outputs": [
    {
     "data": {
      "text/html": [
       "<div>\n",
       "<style scoped>\n",
       "    .dataframe tbody tr th:only-of-type {\n",
       "        vertical-align: middle;\n",
       "    }\n",
       "\n",
       "    .dataframe tbody tr th {\n",
       "        vertical-align: top;\n",
       "    }\n",
       "\n",
       "    .dataframe thead th {\n",
       "        text-align: right;\n",
       "    }\n",
       "</style>\n",
       "<table border=\"1\" class=\"dataframe\">\n",
       "  <thead>\n",
       "    <tr style=\"text-align: right;\">\n",
       "      <th></th>\n",
       "      <th>tempo_emprego</th>\n",
       "      <th>renda</th>\n",
       "    </tr>\n",
       "  </thead>\n",
       "  <tbody>\n",
       "    <tr>\n",
       "      <th>tempo_emprego</th>\n",
       "      <td>1.000000</td>\n",
       "      <td>0.377666</td>\n",
       "    </tr>\n",
       "    <tr>\n",
       "      <th>renda</th>\n",
       "      <td>0.377666</td>\n",
       "      <td>1.000000</td>\n",
       "    </tr>\n",
       "  </tbody>\n",
       "</table>\n",
       "</div>"
      ],
      "text/plain": [
       "               tempo_emprego     renda\n",
       "tempo_emprego       1.000000  0.377666\n",
       "renda               0.377666  1.000000"
      ]
     },
     "execution_count": 6,
     "metadata": {},
     "output_type": "execute_result"
    }
   ],
   "source": [
    "renda[['tempo_emprego', 'renda']].corr(method='spearman')"
   ]
  },
  {
   "cell_type": "markdown",
   "metadata": {},
   "source": [
    "Como a correlação é positiva fraca, vou optar por deletar os dados faltantes da variável tempo_emprego:"
   ]
  },
  {
   "cell_type": "code",
   "execution_count": null,
   "metadata": {},
   "outputs": [
    {
     "data": {
      "text/plain": [
       "0"
      ]
     },
     "execution_count": 7,
     "metadata": {},
     "output_type": "execute_result"
    }
   ],
   "source": [
    "renda.dropna(subset=['tempo_emprego'], inplace=True)\n",
    "\n",
    "# verificando se ainda há dados faltantes\n",
    "renda.tempo_emprego.isna().sum()"
   ]
  },
  {
   "cell_type": "code",
   "execution_count": null,
   "metadata": {},
   "outputs": [
    {
     "name": "stdout",
     "output_type": "stream",
     "text": [
      "<class 'pandas.core.frame.DataFrame'>\n",
      "Index: 12427 entries, 0 to 14999\n",
      "Data columns (total 12 columns):\n",
      " #   Column                 Non-Null Count  Dtype  \n",
      "---  ------                 --------------  -----  \n",
      " 0   sexo                   12427 non-null  object \n",
      " 1   posse_de_veiculo       12427 non-null  bool   \n",
      " 2   posse_de_imovel        12427 non-null  bool   \n",
      " 3   qtd_filhos             12427 non-null  int64  \n",
      " 4   tipo_renda             12427 non-null  object \n",
      " 5   educacao               12427 non-null  object \n",
      " 6   estado_civil           12427 non-null  object \n",
      " 7   tipo_residencia        12427 non-null  object \n",
      " 8   idade                  12427 non-null  int64  \n",
      " 9   tempo_emprego          12427 non-null  float64\n",
      " 10  qt_pessoas_residencia  12427 non-null  float64\n",
      " 11  renda                  12427 non-null  float64\n",
      "dtypes: bool(2), float64(3), int64(2), object(5)\n",
      "memory usage: 1.1+ MB\n"
     ]
    }
   ],
   "source": [
    "renda.info()"
   ]
  },
  {
   "cell_type": "markdown",
   "metadata": {},
   "source": [
    "Transformar os dados tipo object para formato correto:"
   ]
  },
  {
   "cell_type": "code",
   "execution_count": null,
   "metadata": {},
   "outputs": [],
   "source": [
    "# Sexo: qualitativa nominal para booleana\n",
    "mapa_sexo = {'F': 0, 'M': 1}\n",
    "renda['sexo'] = renda['sexo'].map(mapa_sexo)"
   ]
  },
  {
   "cell_type": "code",
   "execution_count": null,
   "metadata": {},
   "outputs": [],
   "source": [
    "# tipo_renda: variável ordinal\n",
    "mapa_tipo_renda = {'Bolsista': 1, 'Assalariado': 2, 'Pensionista': 3, 'Servidor público': 4, 'Empresário': 5}\n",
    "renda.tipo_renda = renda.tipo_renda.map(mapa_tipo_renda)"
   ]
  },
  {
   "cell_type": "code",
   "execution_count": null,
   "metadata": {},
   "outputs": [],
   "source": [
    "# Educacao - categórica ordinal\n",
    "mapa_educacao = {'Primário': 1, 'Secundário': 2, 'Superior incompleto': 3, 'Superior completo': 4, 'Pós graduação': 5}\n",
    "renda['educacao'] = renda['educacao'].map(mapa_educacao)"
   ]
  },
  {
   "cell_type": "code",
   "execution_count": null,
   "metadata": {},
   "outputs": [],
   "source": [
    "# Estado civil - categórica nominal\n",
    "mapa_estado_civil = {'Casado': 1, 'Solteiro': 2, 'União': 3, 'Separado': 4, 'Viúvo': 5}\n",
    "renda['estado_civil'] = renda['estado_civil'].map(mapa_estado_civil)"
   ]
  },
  {
   "cell_type": "code",
   "execution_count": null,
   "metadata": {},
   "outputs": [],
   "source": [
    "# tipo_residencia \n",
    "dummies = pd.get_dummies(renda['tipo_residencia'])\n",
    "renda = renda.drop('tipo_residencia', axis=1)\n",
    "renda = pd.concat([renda, dummies], axis=1)"
   ]
  },
  {
   "cell_type": "code",
   "execution_count": null,
   "metadata": {},
   "outputs": [
    {
     "name": "stdout",
     "output_type": "stream",
     "text": [
      "<class 'pandas.core.frame.DataFrame'>\n",
      "Index: 12427 entries, 0 to 14999\n",
      "Data columns (total 18 columns):\n",
      " #   Column                 Non-Null Count  Dtype  \n",
      "---  ------                 --------------  -----  \n",
      " 0   sexo                   12427 non-null  int64  \n",
      " 1   posse_de_veiculo       12427 non-null  bool   \n",
      " 2   posse_de_imovel        12427 non-null  bool   \n",
      " 3   qtd_filhos             12427 non-null  int64  \n",
      " 4   tipo_renda             12427 non-null  int64  \n",
      " 5   educacao               12427 non-null  int64  \n",
      " 6   estado_civil           12427 non-null  int64  \n",
      " 7   idade                  12427 non-null  int64  \n",
      " 8   tempo_emprego          12427 non-null  float64\n",
      " 9   qt_pessoas_residencia  12427 non-null  float64\n",
      " 10  renda                  12427 non-null  float64\n",
      " 11  estado_civil_numerico  12427 non-null  int64  \n",
      " 12  Aluguel                12427 non-null  bool   \n",
      " 13  Casa                   12427 non-null  bool   \n",
      " 14  Com os pais            12427 non-null  bool   \n",
      " 15  Comunitário            12427 non-null  bool   \n",
      " 16  Estúdio                12427 non-null  bool   \n",
      " 17  Governamental          12427 non-null  bool   \n",
      "dtypes: bool(8), float64(3), int64(7)\n",
      "memory usage: 1.1 MB\n"
     ]
    }
   ],
   "source": [
    "renda.info()"
   ]
  },
  {
   "cell_type": "markdown",
   "metadata": {},
   "source": [
    "Verificar correlação entre as variáveis explicativas e a variável-alvo"
   ]
  },
  {
   "cell_type": "code",
   "execution_count": null,
   "metadata": {},
   "outputs": [],
   "source": [
    "import plotly.express as px"
   ]
  },
  {
   "cell_type": "code",
   "execution_count": null,
   "metadata": {},
   "outputs": [
    {
     "data": {
      "application/vnd.plotly.v1+json": {
       "config": {
        "plotlyServerURL": "https://plot.ly"
       },
       "data": [
        {
         "coloraxis": "coloraxis",
         "hovertemplate": "Variável 1: %{x}<br>Variável 2: %{y}<br>Correlação: %{z}<extra></extra>",
         "name": "0",
         "texttemplate": "%{z}",
         "type": "heatmap",
         "x": [
          "sexo",
          "posse_de_veiculo",
          "posse_de_imovel",
          "qtd_filhos",
          "tipo_renda",
          "educacao",
          "estado_civil",
          "idade",
          "tempo_emprego",
          "qt_pessoas_residencia",
          "renda",
          "estado_civil_numerico",
          "Aluguel",
          "Casa",
          "Com os pais",
          "Comunitário",
          "Estúdio",
          "Governamental"
         ],
         "xaxis": "x",
         "y": [
          "sexo",
          "posse_de_veiculo",
          "posse_de_imovel",
          "qtd_filhos",
          "tipo_renda",
          "educacao",
          "estado_civil",
          "idade",
          "tempo_emprego",
          "qt_pessoas_residencia",
          "renda",
          "estado_civil_numerico",
          "Aluguel",
          "Casa",
          "Com os pais",
          "Comunitário",
          "Estúdio",
          "Governamental"
         ],
         "yaxis": "y",
         "z": [
          [
           1,
           0.33762867592075485,
           -0.04107110940407923,
           0.08005446856323098,
           -0.05496448173498333,
           -0.03284966835379485,
           -0.15885770802517318,
           -0.14736014064711328,
           -0.13289619384697918,
           0.11858434741846327,
           0.26532457862325,
           -0.15885770802517318,
           0.057406042897742135,
           -0.05746157385791854,
           0.04616511536940344,
           -0.003058703116692873,
           0.048977599656861416,
           -0.018061077087154872
          ],
          [
           0.33762867592075485,
           1,
           0.011342217235055732,
           0.08510262962247633,
           -0.0013529559811845456,
           0.07054617799552532,
           -0.1574805392899408,
           -0.1091981657721494,
           -0.07615536522904875,
           0.131265644086321,
           0.08310496759476493,
           -0.1574805392899408,
           0.010055562541707067,
           -0.021559515295265032,
           0.013182766091580615,
           0.022464326538377818,
           0.036188391522345285,
           -0.011243744013759008
          ],
          [
           -0.04107110940407923,
           0.011342217235055732,
           1,
           0.007266326328620931,
           0.005175606146021008,
           0.011534592030499943,
           -0.010312890523095494,
           0.09425384319746243,
           0.009464530466245664,
           0.003924997473798308,
           0.015366962293152866,
           -0.010312890523095494,
           -0.027391426454086938,
           0.1922721083511344,
           -0.1531610773144594,
           -0.013694118704173417,
           -0.01742295125158674,
           -0.1170413822747572
          ],
          [
           0.08005446856323098,
           0.08510262962247633,
           0.007266326328620931,
           1,
           -0.03632813695403076,
           0.03978488852113641,
           -0.10532807664603615,
           -0.2790693064293533,
           -0.06321983777441682,
           0.902508754271701,
           0.0021920753081650255,
           -0.10532807664603615,
           -0.01603382273126272,
           0.004598728717003878,
           0.02207559512992763,
           -0.0111881077458548,
           0.011194091711827931,
           -0.02723845096527414
          ],
          [
           -0.05496448173498333,
           -0.0013529559811845456,
           0.005175606146021008,
           -0.03632813695403076,
           1,
           0.11411767696942181,
           0.01683331184439499,
           -0.039606023431741424,
           -0.04506092164652342,
           -0.04421282373330153,
           0.0024671993073370085,
           0.01683331184439499,
           0.002792281140756548,
           0.017681099327366927,
           -0.030162137735266714,
           -0.017592536149027036,
           0.033021544854511725,
           -0.0018849654358786992
          ],
          [
           -0.03284966835379485,
           0.07054617799552532,
           0.011534592030499943,
           0.03978488852113641,
           0.11411767696942181,
           1,
           -0.01081286681324644,
           -0.11572131596360706,
           -0.021389806285893778,
           0.024252509559712553,
           0.012025850379680016,
           -0.01081286681324644,
           -0.006956523123031143,
           -0.0037766454481767174,
           0.019294760462488774,
           0.04381032152210318,
           0.018282911849678316,
           -0.04117854141809425
          ],
          [
           -0.15885770802517318,
           -0.1574805392899408,
           -0.010312890523095494,
           -0.10532807664603615,
           0.01683331184439499,
           -0.01081286681324644,
           1,
           0.09674164325521262,
           0.031445559271734945,
           -0.3868367333466873,
           -0.04812460432568207,
           1,
           0.004098251524768271,
           0.0005865026457184826,
           0.011204850817845748,
           -0.0038733890460163874,
           -0.00671148823473404,
           -0.014411910670654648
          ],
          [
           -0.14736014064711328,
           -0.1091981657721494,
           0.09425384319746243,
           -0.2790693064293533,
           -0.039606023431741424,
           -0.11572131596360706,
           0.09674164325521262,
           1,
           0.3215727445168869,
           -0.2535263461184721,
           0.12706933472705145,
           0.09674164325521264,
           -0.05786190884344921,
           0.11530134803209885,
           -0.1630004154267546,
           0.004647624517396059,
           0.01232427914574724,
           0.03965022484502945
          ],
          [
           -0.13289619384697918,
           -0.07615536522904875,
           0.009464530466245664,
           -0.06321983777441682,
           -0.04506092164652342,
           -0.021389806285893778,
           0.031445559271734945,
           0.3215727445168869,
           1,
           -0.06567006389147965,
           0.3850126504347842,
           0.03144555927173495,
           -0.044784798786898485,
           0.0626239345386019,
           -0.06950386654424895,
           -0.026384478346827715,
           0.016734184593648324,
           0.013136370923015764
          ],
          [
           0.11858434741846327,
           0.131265644086321,
           0.003924997473798308,
           0.902508754271701,
           -0.04421282373330153,
           0.024252509559712553,
           -0.3868367333466873,
           -0.2535263461184721,
           -0.06567006389147965,
           1,
           0.018682601723383326,
           -0.38683673334668733,
           -0.02949022235855918,
           0.015195189624815135,
           0.008888125764652928,
           -0.01125495712667524,
           0.012424567068652102,
           -0.020004477112982734
          ],
          [
           0.26532457862325,
           0.08310496759476493,
           0.015366962293152866,
           0.0021920753081650255,
           0.0024671993073370085,
           0.012025850379680016,
           -0.04812460432568207,
           0.12706933472705145,
           0.3850126504347842,
           0.018682601723383326,
           1,
           -0.04812460432568209,
           -0.0007174983765781967,
           0.014470462137489879,
           -0.028877694043809403,
           -0.013116356724191019,
           0.02839064916313858,
           0.00509789639462485
          ],
          [
           -0.15885770802517318,
           -0.1574805392899408,
           -0.010312890523095494,
           -0.10532807664603615,
           0.01683331184439499,
           -0.01081286681324644,
           1,
           0.09674164325521264,
           0.03144555927173495,
           -0.38683673334668733,
           -0.04812460432568209,
           1,
           0.004098251524768271,
           0.0005865026457184826,
           0.011204850817845748,
           -0.0038733890460163874,
           -0.00671148823473404,
           -0.014411910670654648
          ],
          [
           0.057406042897742135,
           0.010055562541707067,
           -0.027391426454086938,
           -0.01603382273126272,
           0.002792281140756548,
           -0.006956523123031143,
           0.004098251524768271,
           -0.05786190884344921,
           -0.044784798786898485,
           -0.02949022235855918,
           -0.0007174983765781967,
           0.004098251524768271,
           1,
           -0.3493232282571734,
           -0.02927652082528596,
           -0.008796136025510003,
           -0.009526335546184189,
           -0.021116185982039525
          ],
          [
           -0.05746157385791854,
           -0.021559515295265032,
           0.1922721083511344,
           0.004598728717003878,
           0.017681099327366927,
           -0.0037766454481767174,
           0.0005865026457184826,
           0.11530134803209885,
           0.0626239345386019,
           0.015195189624815135,
           0.014470462137489879,
           0.0005865026457184826,
           -0.3493232282571734,
           1,
           -0.6842568610985401,
           -0.20558509880767162,
           -0.22265147206199057,
           -0.49353183818084995
          ],
          [
           0.04616511536940344,
           0.013182766091580615,
           -0.1531610773144594,
           0.02207559512992763,
           -0.030162137735266714,
           0.019294760462488774,
           0.011204850817845748,
           -0.1630004154267546,
           -0.06950386654424895,
           0.008888125764652928,
           -0.028877694043809403,
           0.011204850817845748,
           -0.02927652082528596,
           -0.6842568610985401,
           1,
           -0.017229934741643308,
           -0.018660254833682277,
           -0.041362537528726644
          ],
          [
           -0.003058703116692873,
           0.022464326538377818,
           -0.013694118704173417,
           -0.0111881077458548,
           -0.017592536149027036,
           0.04381032152210318,
           -0.0038733890460163874,
           0.004647624517396059,
           -0.026384478346827715,
           -0.01125495712667524,
           -0.013116356724191019,
           -0.0038733890460163874,
           -0.008796136025510003,
           -0.20558509880767162,
           -0.017229934741643308,
           1,
           -0.005606476970650983,
           -0.01242738194999947
          ],
          [
           0.048977599656861416,
           0.036188391522345285,
           -0.01742295125158674,
           0.011194091711827931,
           0.033021544854511725,
           0.018282911849678316,
           -0.00671148823473404,
           0.01232427914574724,
           0.016734184593648324,
           0.012424567068652102,
           0.02839064916313858,
           -0.00671148823473404,
           -0.009526335546184189,
           -0.22265147206199057,
           -0.018660254833682277,
           -0.005606476970650983,
           1,
           -0.013459024516327198
          ],
          [
           -0.018061077087154872,
           -0.011243744013759008,
           -0.1170413822747572,
           -0.02723845096527414,
           -0.0018849654358786992,
           -0.04117854141809425,
           -0.014411910670654648,
           0.03965022484502945,
           0.013136370923015764,
           -0.020004477112982734,
           0.00509789639462485,
           -0.014411910670654648,
           -0.021116185982039525,
           -0.49353183818084995,
           -0.041362537528726644,
           -0.01242738194999947,
           -0.013459024516327198,
           1
          ]
         ]
        }
       ],
       "layout": {
        "coloraxis": {
         "colorbar": {
          "title": {
           "text": "Correlação"
          }
         },
         "colorscale": [
          [
           0,
           "rgb(5,48,97)"
          ],
          [
           0.1,
           "rgb(33,102,172)"
          ],
          [
           0.2,
           "rgb(67,147,195)"
          ],
          [
           0.3,
           "rgb(146,197,222)"
          ],
          [
           0.4,
           "rgb(209,229,240)"
          ],
          [
           0.5,
           "rgb(247,247,247)"
          ],
          [
           0.6,
           "rgb(253,219,199)"
          ],
          [
           0.7,
           "rgb(244,165,130)"
          ],
          [
           0.8,
           "rgb(214,96,77)"
          ],
          [
           0.9,
           "rgb(178,24,43)"
          ],
          [
           1,
           "rgb(103,0,31)"
          ]
         ]
        },
        "margin": {
         "t": 60
        },
        "template": {
         "data": {
          "bar": [
           {
            "error_x": {
             "color": "#2a3f5f"
            },
            "error_y": {
             "color": "#2a3f5f"
            },
            "marker": {
             "line": {
              "color": "#E5ECF6",
              "width": 0.5
             },
             "pattern": {
              "fillmode": "overlay",
              "size": 10,
              "solidity": 0.2
             }
            },
            "type": "bar"
           }
          ],
          "barpolar": [
           {
            "marker": {
             "line": {
              "color": "#E5ECF6",
              "width": 0.5
             },
             "pattern": {
              "fillmode": "overlay",
              "size": 10,
              "solidity": 0.2
             }
            },
            "type": "barpolar"
           }
          ],
          "carpet": [
           {
            "aaxis": {
             "endlinecolor": "#2a3f5f",
             "gridcolor": "white",
             "linecolor": "white",
             "minorgridcolor": "white",
             "startlinecolor": "#2a3f5f"
            },
            "baxis": {
             "endlinecolor": "#2a3f5f",
             "gridcolor": "white",
             "linecolor": "white",
             "minorgridcolor": "white",
             "startlinecolor": "#2a3f5f"
            },
            "type": "carpet"
           }
          ],
          "choropleth": [
           {
            "colorbar": {
             "outlinewidth": 0,
             "ticks": ""
            },
            "type": "choropleth"
           }
          ],
          "contour": [
           {
            "colorbar": {
             "outlinewidth": 0,
             "ticks": ""
            },
            "colorscale": [
             [
              0,
              "#0d0887"
             ],
             [
              0.1111111111111111,
              "#46039f"
             ],
             [
              0.2222222222222222,
              "#7201a8"
             ],
             [
              0.3333333333333333,
              "#9c179e"
             ],
             [
              0.4444444444444444,
              "#bd3786"
             ],
             [
              0.5555555555555556,
              "#d8576b"
             ],
             [
              0.6666666666666666,
              "#ed7953"
             ],
             [
              0.7777777777777778,
              "#fb9f3a"
             ],
             [
              0.8888888888888888,
              "#fdca26"
             ],
             [
              1,
              "#f0f921"
             ]
            ],
            "type": "contour"
           }
          ],
          "contourcarpet": [
           {
            "colorbar": {
             "outlinewidth": 0,
             "ticks": ""
            },
            "type": "contourcarpet"
           }
          ],
          "heatmap": [
           {
            "colorbar": {
             "outlinewidth": 0,
             "ticks": ""
            },
            "colorscale": [
             [
              0,
              "#0d0887"
             ],
             [
              0.1111111111111111,
              "#46039f"
             ],
             [
              0.2222222222222222,
              "#7201a8"
             ],
             [
              0.3333333333333333,
              "#9c179e"
             ],
             [
              0.4444444444444444,
              "#bd3786"
             ],
             [
              0.5555555555555556,
              "#d8576b"
             ],
             [
              0.6666666666666666,
              "#ed7953"
             ],
             [
              0.7777777777777778,
              "#fb9f3a"
             ],
             [
              0.8888888888888888,
              "#fdca26"
             ],
             [
              1,
              "#f0f921"
             ]
            ],
            "type": "heatmap"
           }
          ],
          "heatmapgl": [
           {
            "colorbar": {
             "outlinewidth": 0,
             "ticks": ""
            },
            "colorscale": [
             [
              0,
              "#0d0887"
             ],
             [
              0.1111111111111111,
              "#46039f"
             ],
             [
              0.2222222222222222,
              "#7201a8"
             ],
             [
              0.3333333333333333,
              "#9c179e"
             ],
             [
              0.4444444444444444,
              "#bd3786"
             ],
             [
              0.5555555555555556,
              "#d8576b"
             ],
             [
              0.6666666666666666,
              "#ed7953"
             ],
             [
              0.7777777777777778,
              "#fb9f3a"
             ],
             [
              0.8888888888888888,
              "#fdca26"
             ],
             [
              1,
              "#f0f921"
             ]
            ],
            "type": "heatmapgl"
           }
          ],
          "histogram": [
           {
            "marker": {
             "pattern": {
              "fillmode": "overlay",
              "size": 10,
              "solidity": 0.2
             }
            },
            "type": "histogram"
           }
          ],
          "histogram2d": [
           {
            "colorbar": {
             "outlinewidth": 0,
             "ticks": ""
            },
            "colorscale": [
             [
              0,
              "#0d0887"
             ],
             [
              0.1111111111111111,
              "#46039f"
             ],
             [
              0.2222222222222222,
              "#7201a8"
             ],
             [
              0.3333333333333333,
              "#9c179e"
             ],
             [
              0.4444444444444444,
              "#bd3786"
             ],
             [
              0.5555555555555556,
              "#d8576b"
             ],
             [
              0.6666666666666666,
              "#ed7953"
             ],
             [
              0.7777777777777778,
              "#fb9f3a"
             ],
             [
              0.8888888888888888,
              "#fdca26"
             ],
             [
              1,
              "#f0f921"
             ]
            ],
            "type": "histogram2d"
           }
          ],
          "histogram2dcontour": [
           {
            "colorbar": {
             "outlinewidth": 0,
             "ticks": ""
            },
            "colorscale": [
             [
              0,
              "#0d0887"
             ],
             [
              0.1111111111111111,
              "#46039f"
             ],
             [
              0.2222222222222222,
              "#7201a8"
             ],
             [
              0.3333333333333333,
              "#9c179e"
             ],
             [
              0.4444444444444444,
              "#bd3786"
             ],
             [
              0.5555555555555556,
              "#d8576b"
             ],
             [
              0.6666666666666666,
              "#ed7953"
             ],
             [
              0.7777777777777778,
              "#fb9f3a"
             ],
             [
              0.8888888888888888,
              "#fdca26"
             ],
             [
              1,
              "#f0f921"
             ]
            ],
            "type": "histogram2dcontour"
           }
          ],
          "mesh3d": [
           {
            "colorbar": {
             "outlinewidth": 0,
             "ticks": ""
            },
            "type": "mesh3d"
           }
          ],
          "parcoords": [
           {
            "line": {
             "colorbar": {
              "outlinewidth": 0,
              "ticks": ""
             }
            },
            "type": "parcoords"
           }
          ],
          "pie": [
           {
            "automargin": true,
            "type": "pie"
           }
          ],
          "scatter": [
           {
            "fillpattern": {
             "fillmode": "overlay",
             "size": 10,
             "solidity": 0.2
            },
            "type": "scatter"
           }
          ],
          "scatter3d": [
           {
            "line": {
             "colorbar": {
              "outlinewidth": 0,
              "ticks": ""
             }
            },
            "marker": {
             "colorbar": {
              "outlinewidth": 0,
              "ticks": ""
             }
            },
            "type": "scatter3d"
           }
          ],
          "scattercarpet": [
           {
            "marker": {
             "colorbar": {
              "outlinewidth": 0,
              "ticks": ""
             }
            },
            "type": "scattercarpet"
           }
          ],
          "scattergeo": [
           {
            "marker": {
             "colorbar": {
              "outlinewidth": 0,
              "ticks": ""
             }
            },
            "type": "scattergeo"
           }
          ],
          "scattergl": [
           {
            "marker": {
             "colorbar": {
              "outlinewidth": 0,
              "ticks": ""
             }
            },
            "type": "scattergl"
           }
          ],
          "scattermapbox": [
           {
            "marker": {
             "colorbar": {
              "outlinewidth": 0,
              "ticks": ""
             }
            },
            "type": "scattermapbox"
           }
          ],
          "scatterpolar": [
           {
            "marker": {
             "colorbar": {
              "outlinewidth": 0,
              "ticks": ""
             }
            },
            "type": "scatterpolar"
           }
          ],
          "scatterpolargl": [
           {
            "marker": {
             "colorbar": {
              "outlinewidth": 0,
              "ticks": ""
             }
            },
            "type": "scatterpolargl"
           }
          ],
          "scatterternary": [
           {
            "marker": {
             "colorbar": {
              "outlinewidth": 0,
              "ticks": ""
             }
            },
            "type": "scatterternary"
           }
          ],
          "surface": [
           {
            "colorbar": {
             "outlinewidth": 0,
             "ticks": ""
            },
            "colorscale": [
             [
              0,
              "#0d0887"
             ],
             [
              0.1111111111111111,
              "#46039f"
             ],
             [
              0.2222222222222222,
              "#7201a8"
             ],
             [
              0.3333333333333333,
              "#9c179e"
             ],
             [
              0.4444444444444444,
              "#bd3786"
             ],
             [
              0.5555555555555556,
              "#d8576b"
             ],
             [
              0.6666666666666666,
              "#ed7953"
             ],
             [
              0.7777777777777778,
              "#fb9f3a"
             ],
             [
              0.8888888888888888,
              "#fdca26"
             ],
             [
              1,
              "#f0f921"
             ]
            ],
            "type": "surface"
           }
          ],
          "table": [
           {
            "cells": {
             "fill": {
              "color": "#EBF0F8"
             },
             "line": {
              "color": "white"
             }
            },
            "header": {
             "fill": {
              "color": "#C8D4E3"
             },
             "line": {
              "color": "white"
             }
            },
            "type": "table"
           }
          ]
         },
         "layout": {
          "annotationdefaults": {
           "arrowcolor": "#2a3f5f",
           "arrowhead": 0,
           "arrowwidth": 1
          },
          "autotypenumbers": "strict",
          "coloraxis": {
           "colorbar": {
            "outlinewidth": 0,
            "ticks": ""
           }
          },
          "colorscale": {
           "diverging": [
            [
             0,
             "#8e0152"
            ],
            [
             0.1,
             "#c51b7d"
            ],
            [
             0.2,
             "#de77ae"
            ],
            [
             0.3,
             "#f1b6da"
            ],
            [
             0.4,
             "#fde0ef"
            ],
            [
             0.5,
             "#f7f7f7"
            ],
            [
             0.6,
             "#e6f5d0"
            ],
            [
             0.7,
             "#b8e186"
            ],
            [
             0.8,
             "#7fbc41"
            ],
            [
             0.9,
             "#4d9221"
            ],
            [
             1,
             "#276419"
            ]
           ],
           "sequential": [
            [
             0,
             "#0d0887"
            ],
            [
             0.1111111111111111,
             "#46039f"
            ],
            [
             0.2222222222222222,
             "#7201a8"
            ],
            [
             0.3333333333333333,
             "#9c179e"
            ],
            [
             0.4444444444444444,
             "#bd3786"
            ],
            [
             0.5555555555555556,
             "#d8576b"
            ],
            [
             0.6666666666666666,
             "#ed7953"
            ],
            [
             0.7777777777777778,
             "#fb9f3a"
            ],
            [
             0.8888888888888888,
             "#fdca26"
            ],
            [
             1,
             "#f0f921"
            ]
           ],
           "sequentialminus": [
            [
             0,
             "#0d0887"
            ],
            [
             0.1111111111111111,
             "#46039f"
            ],
            [
             0.2222222222222222,
             "#7201a8"
            ],
            [
             0.3333333333333333,
             "#9c179e"
            ],
            [
             0.4444444444444444,
             "#bd3786"
            ],
            [
             0.5555555555555556,
             "#d8576b"
            ],
            [
             0.6666666666666666,
             "#ed7953"
            ],
            [
             0.7777777777777778,
             "#fb9f3a"
            ],
            [
             0.8888888888888888,
             "#fdca26"
            ],
            [
             1,
             "#f0f921"
            ]
           ]
          },
          "colorway": [
           "#636efa",
           "#EF553B",
           "#00cc96",
           "#ab63fa",
           "#FFA15A",
           "#19d3f3",
           "#FF6692",
           "#B6E880",
           "#FF97FF",
           "#FECB52"
          ],
          "font": {
           "color": "#2a3f5f"
          },
          "geo": {
           "bgcolor": "white",
           "lakecolor": "white",
           "landcolor": "#E5ECF6",
           "showlakes": true,
           "showland": true,
           "subunitcolor": "white"
          },
          "hoverlabel": {
           "align": "left"
          },
          "hovermode": "closest",
          "mapbox": {
           "style": "light"
          },
          "paper_bgcolor": "white",
          "plot_bgcolor": "#E5ECF6",
          "polar": {
           "angularaxis": {
            "gridcolor": "white",
            "linecolor": "white",
            "ticks": ""
           },
           "bgcolor": "#E5ECF6",
           "radialaxis": {
            "gridcolor": "white",
            "linecolor": "white",
            "ticks": ""
           }
          },
          "scene": {
           "xaxis": {
            "backgroundcolor": "#E5ECF6",
            "gridcolor": "white",
            "gridwidth": 2,
            "linecolor": "white",
            "showbackground": true,
            "ticks": "",
            "zerolinecolor": "white"
           },
           "yaxis": {
            "backgroundcolor": "#E5ECF6",
            "gridcolor": "white",
            "gridwidth": 2,
            "linecolor": "white",
            "showbackground": true,
            "ticks": "",
            "zerolinecolor": "white"
           },
           "zaxis": {
            "backgroundcolor": "#E5ECF6",
            "gridcolor": "white",
            "gridwidth": 2,
            "linecolor": "white",
            "showbackground": true,
            "ticks": "",
            "zerolinecolor": "white"
           }
          },
          "shapedefaults": {
           "line": {
            "color": "#2a3f5f"
           }
          },
          "ternary": {
           "aaxis": {
            "gridcolor": "white",
            "linecolor": "white",
            "ticks": ""
           },
           "baxis": {
            "gridcolor": "white",
            "linecolor": "white",
            "ticks": ""
           },
           "bgcolor": "#E5ECF6",
           "caxis": {
            "gridcolor": "white",
            "linecolor": "white",
            "ticks": ""
           }
          },
          "title": {
           "x": 0.05
          },
          "xaxis": {
           "automargin": true,
           "gridcolor": "white",
           "linecolor": "white",
           "ticks": "",
           "title": {
            "standoff": 15
           },
           "zerolinecolor": "white",
           "zerolinewidth": 2
          },
          "yaxis": {
           "automargin": true,
           "gridcolor": "white",
           "linecolor": "white",
           "ticks": "",
           "title": {
            "standoff": 15
           },
           "zerolinecolor": "white",
           "zerolinewidth": 2
          }
         }
        },
        "title": {
         "text": "Mapa de Calor da Correlação entre Variáveis"
        },
        "xaxis": {
         "anchor": "y",
         "domain": [
          0,
          1
         ],
         "title": {
          "text": "Variável 1"
         }
        },
        "yaxis": {
         "anchor": "x",
         "autorange": "reversed",
         "domain": [
          0,
          1
         ],
         "title": {
          "text": "Variável 2"
         }
        }
       }
      }
     },
     "metadata": {},
     "output_type": "display_data"
    }
   ],
   "source": [
    "matriz_correlacao = renda.corr()\n",
    "fig = px.imshow(matriz_correlacao,\n",
    "                   text_auto=True,\n",
    "                   aspect='auto',\n",
    "                   color_continuous_scale='RdBu_r',\n",
    "                   labels=dict(x='Variável 1', y='Variável 2', color='Correlação'),\n",
    "                   x=matriz_correlacao.columns,\n",
    "                   y=matriz_correlacao.columns\n",
    "                   )\n",
    "fig.update_layout(title='Mapa de Calor da Correlação entre Variáveis',\n",
    "                  xaxis_title='Variável 1',\n",
    "                  yaxis_title='Variável 2'\n",
    "                  )\n",
    "fig.show()"
   ]
  },
  {
   "cell_type": "markdown",
   "metadata": {},
   "source": [
    "Com base nesse mapa de calor, as variáveis escolhidas para explicar a renda serão: tempo_emprego, sexo e posse_de_veiculo"
   ]
  },
  {
   "cell_type": "markdown",
   "metadata": {},
   "source": [
    "## Etapa 4 Crisp-DM: Modelagem\n",
    "Nessa etapa que realizaremos a construção do modelo. Os passos típicos são:\n",
    "- Selecionar a técnica de modelagem\n",
    "- Desenho do teste\n",
    "- Avaliação do modelo\n"
   ]
  },
  {
   "cell_type": "markdown",
   "metadata": {},
   "source": [
    "<span style=\"color:red\">A técnica de modelagem será a Regressão Linear Múltipla, pois pode oferecer bons resultados quando as relações entre as variáveis são lineares.</span>\n"
   ]
  },
  {
   "cell_type": "markdown",
   "metadata": {},
   "source": [
    "### Rodando o modelo\n"
   ]
  },
  {
   "cell_type": "markdown",
   "metadata": {},
   "source": [
    "<span style=\"color:red\">ESCREVER AQUI</span>\n"
   ]
  },
  {
   "cell_type": "code",
   "execution_count": null,
   "metadata": {},
   "outputs": [],
   "source": [
    "from sklearn.model_selection import train_test_split\n",
    "from sklearn.linear_model import LinearRegression\n",
    "from sklearn.metrics import mean_squared_error, r2_score\n",
    "import numpy as np"
   ]
  },
  {
   "cell_type": "code",
   "execution_count": null,
   "metadata": {},
   "outputs": [],
   "source": [
    "# Convertendo posse_de_veiculo de bool para int (0 ou 1)\n",
    "renda['posse_de_veiculo'] = renda['posse_de_veiculo'].astype(int)"
   ]
  },
  {
   "cell_type": "code",
   "execution_count": null,
   "metadata": {},
   "outputs": [],
   "source": [
    "# Definindo as variáveis independentes (X) e a dependente (y)\n",
    "X = renda[['tempo_emprego', 'sexo', 'posse_de_veiculo']]\n",
    "y = renda['renda']"
   ]
  },
  {
   "cell_type": "code",
   "execution_count": null,
   "metadata": {},
   "outputs": [],
   "source": [
    "# Dividindo os dados em conjuntos de treinamento e teste\n",
    "X_train, X_test, y_train, y_test = train_test_split(X, y, test_size=0.2, random_state=0)"
   ]
  },
  {
   "cell_type": "code",
   "execution_count": null,
   "metadata": {},
   "outputs": [
    {
     "data": {
      "text/plain": [
       "LinearRegression()"
      ]
     },
     "execution_count": 29,
     "metadata": {},
     "output_type": "execute_result"
    }
   ],
   "source": [
    "# Instanciando e ajustando o modelo\n",
    "modelo = LinearRegression()\n",
    "modelo.fit(X_train, y_train)"
   ]
  },
  {
   "cell_type": "code",
   "execution_count": null,
   "metadata": {},
   "outputs": [],
   "source": [
    "# Fazendo previsões com o modelo de teste\n",
    "y_pred = modelo.predict(X_test)"
   ]
  },
  {
   "cell_type": "markdown",
   "metadata": {},
   "source": [
    "## Etapa 5 Crisp-DM: Avaliação dos resultados\n"
   ]
  },
  {
   "cell_type": "markdown",
   "metadata": {},
   "source": [
    "<span style=\"color:red\">MSE e RMSE são úteis para avaliar a magnitude dos erros do modelo, com RMSE sendo geralmente mais interpretável. R² é útil para entender quão bem o modelo captura a variabilidade dos dados.</span>\n"
   ]
  },
  {
   "cell_type": "code",
   "execution_count": null,
   "metadata": {},
   "outputs": [
    {
     "name": "stdout",
     "output_type": "stream",
     "text": [
      "RMSE: 6952.892795712732\n",
      "R²: 0.2585369071291074\n"
     ]
    }
   ],
   "source": [
    "# Avaliando o modelo\n",
    "mse = mean_squared_error(y_test, y_pred)\n",
    "rmse = np.sqrt(mse)\n",
    "r2 = r2_score(y_test, y_pred)\n",
    "\n",
    "print(f'RMSE: {rmse}')\n",
    "print(f'R²: {r2}')\n"
   ]
  },
  {
   "cell_type": "markdown",
   "metadata": {},
   "source": [
    "## Etapa 6 Crisp-DM: Implantação\n",
    "Nessa etapa colocamos em uso o modelo desenvolvido, normalmente implementando o modelo desenvolvido em um motor que toma as decisões com algum nível de automação."
   ]
  },
  {
   "cell_type": "code",
   "execution_count": null,
   "metadata": {},
   "outputs": [],
   "source": []
  },
  {
   "cell_type": "code",
   "execution_count": null,
   "metadata": {},
   "outputs": [],
   "source": []
  },
  {
   "cell_type": "code",
   "execution_count": null,
   "metadata": {},
   "outputs": [],
   "source": []
  },
  {
   "cell_type": "code",
   "execution_count": null,
   "metadata": {},
   "outputs": [],
   "source": []
  },
  {
   "cell_type": "code",
   "execution_count": null,
   "metadata": {},
   "outputs": [],
   "source": []
  }
 ],
 "metadata": {
  "kernelspec": {
   "display_name": "Python 3",
   "language": "python",
   "name": "python3"
  },
  "language_info": {
   "codemirror_mode": {
    "name": "ipython",
    "version": 3
   },
   "file_extension": ".py",
   "mimetype": "text/x-python",
   "name": "python",
   "nbconvert_exporter": "python",
   "pygments_lexer": "ipython3",
   "version": "3.10.1"
  },
  "varInspector": {
   "cols": {
    "lenName": 16,
    "lenType": 16,
    "lenVar": 40
   },
   "kernels_config": {
    "python": {
     "delete_cmd_postfix": "",
     "delete_cmd_prefix": "del ",
     "library": "var_list.py",
     "varRefreshCmd": "print(var_dic_list())"
    },
    "r": {
     "delete_cmd_postfix": ") ",
     "delete_cmd_prefix": "rm(",
     "library": "var_list.r",
     "varRefreshCmd": "cat(var_dic_list()) "
    }
   },
   "types_to_exclude": [
    "module",
    "function",
    "builtin_function_or_method",
    "instance",
    "_Feature"
   ],
   "window_display": false
  }
 },
 "nbformat": 4,
 "nbformat_minor": 4
}
